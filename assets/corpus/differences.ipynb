{
 "cells": [
  {
   "metadata": {},
   "cell_type": "markdown",
   "source": "Examine differences between `batch_score_corpus_constrained.py` and prior results.",
   "id": "80a7b39363d0de15"
  },
  {
   "cell_type": "code",
   "id": "initial_id",
   "metadata": {
    "collapsed": true,
    "ExecuteTime": {
     "end_time": "2025-05-08T12:12:17.298497Z",
     "start_time": "2025-05-08T12:12:17.293525Z"
    }
   },
   "source": [
    "from fos.settings import CORPUS_DIR\n",
    "from tqdm import tqdm\n",
    "import pandas as pd\n",
    "\n",
    "NROWS = 100_000"
   ],
   "outputs": [],
   "execution_count": 2
  },
  {
   "metadata": {},
   "cell_type": "code",
   "source": [
    "def read_top_scores(df, field_col=\"id\"):\n",
    "    \"\"\"Read scores from script output and identify top scores by level.\"\"\"\n",
    "    df = df.explode('fields')\n",
    "    df['field'] = df['fields'].apply(lambda x: x[field_col])\n",
    "    df['score'] = df['fields'].apply(lambda x: x['score'])\n",
    "    df['norm_field'] = df['field'].str.lower()\n",
    "\n",
    "    # Field levels aren't included in the scoring output\n",
    "    meta = pd.read_json(\"../fields/field_meta.jsonl\", lines=True)\n",
    "    meta['norm_field'] = meta['name'].str.lower()\n",
    "    df = pd.merge(\n",
    "        df,\n",
    "        meta[['name', 'level']],\n",
    "        left_on='field',\n",
    "        right_on='name',\n",
    "    )\n",
    "\n",
    "    df['rank'] = df.groupby(['merged_id', 'level'], as_index=False)['score']. \\\n",
    "        apply('rank', ascending=False)\n",
    "    # We don't need the lower-ranked field scores from the original script output\n",
    "    df = df.loc[df['rank'] <= 10, ['merged_id', 'field', 'score', 'rank']]\n",
    "    return df"
   ],
   "id": "f427cde10237907c",
   "execution_count": null,
   "outputs": []
  },
  {
   "metadata": {},
   "cell_type": "code",
   "outputs": [
    {
     "name": "stderr",
     "output_type": "stream",
     "text": [
      "20it [14:02, 42.14s/it]\n"
     ]
    },
    {
     "data": {
      "text/plain": [
       "             merged_id field     score  rank\n",
       "1  carticle_0410190179   Art  0.412466   5.0\n",
       "2  carticle_0135012857   Art  0.477203   5.0\n",
       "4  carticle_0000162842   Art  0.627803   1.0\n",
       "6  carticle_0157627003   Art  0.471244   5.0\n",
       "7  carticle_0127058960   Art  0.469692   8.0"
      ],
      "text/html": [
       "<div>\n",
       "<style scoped>\n",
       "    .dataframe tbody tr th:only-of-type {\n",
       "        vertical-align: middle;\n",
       "    }\n",
       "\n",
       "    .dataframe tbody tr th {\n",
       "        vertical-align: top;\n",
       "    }\n",
       "\n",
       "    .dataframe thead th {\n",
       "        text-align: right;\n",
       "    }\n",
       "</style>\n",
       "<table border=\"1\" class=\"dataframe\">\n",
       "  <thead>\n",
       "    <tr style=\"text-align: right;\">\n",
       "      <th></th>\n",
       "      <th>merged_id</th>\n",
       "      <th>field</th>\n",
       "      <th>score</th>\n",
       "      <th>rank</th>\n",
       "    </tr>\n",
       "  </thead>\n",
       "  <tbody>\n",
       "    <tr>\n",
       "      <th>1</th>\n",
       "      <td>carticle_0410190179</td>\n",
       "      <td>Art</td>\n",
       "      <td>0.412466</td>\n",
       "      <td>5.0</td>\n",
       "    </tr>\n",
       "    <tr>\n",
       "      <th>2</th>\n",
       "      <td>carticle_0135012857</td>\n",
       "      <td>Art</td>\n",
       "      <td>0.477203</td>\n",
       "      <td>5.0</td>\n",
       "    </tr>\n",
       "    <tr>\n",
       "      <th>4</th>\n",
       "      <td>carticle_0000162842</td>\n",
       "      <td>Art</td>\n",
       "      <td>0.627803</td>\n",
       "      <td>1.0</td>\n",
       "    </tr>\n",
       "    <tr>\n",
       "      <th>6</th>\n",
       "      <td>carticle_0157627003</td>\n",
       "      <td>Art</td>\n",
       "      <td>0.471244</td>\n",
       "      <td>5.0</td>\n",
       "    </tr>\n",
       "    <tr>\n",
       "      <th>7</th>\n",
       "      <td>carticle_0127058960</td>\n",
       "      <td>Art</td>\n",
       "      <td>0.469692</td>\n",
       "      <td>8.0</td>\n",
       "    </tr>\n",
       "  </tbody>\n",
       "</table>\n",
       "</div>"
      ]
     },
     "execution_count": 19,
     "metadata": {},
     "output_type": "execute_result"
    }
   ],
   "execution_count": 19,
   "source": [
    "# Read results from original scoring script\n",
    "chunks = []\n",
    "for chunk in tqdm(pd.read_json(\n",
    "        CORPUS_DIR / 'en_scores.jsonl',\n",
    "        lines=True,\n",
    "        nrows=NROWS,\n",
    "        chunksize=5_000,\n",
    ")):\n",
    "    chunks.append(read_top_scores(chunk, \"id\"))\n",
    "scores = pd.concat(chunks)\n",
    "scores.head()"
   ],
   "id": "11c8051e683ee037"
  },
  {
   "metadata": {
    "ExecuteTime": {
     "end_time": "2025-05-08T12:49:42.152492Z",
     "start_time": "2025-05-08T12:48:59.316642Z"
    }
   },
   "cell_type": "code",
   "source": [
    "# Read results from constrained scoring script\n",
    "con_scores = pd.read_json(\n",
    "    CORPUS_DIR / 'en_scores_constrained.jsonl',\n",
    "    lines=True,\n",
    "    nrows=NROWS\n",
    ")\n",
    "\n",
    "con_scores = read_top_scores(con_scores, \"name\")\n",
    "con_scores.head()"
   ],
   "id": "6500a4060d1e48c6",
   "outputs": [
    {
     "data": {
      "text/plain": [
       "             merged_id      field   score  rank\n",
       "0  carticle_0262135946  Chemistry  0.6560   1.0\n",
       "1  carticle_0135012857  Chemistry  0.3179   6.0\n",
       "2  carticle_0033759524  Chemistry  0.5524  10.0\n",
       "3  carticle_0043485323  Chemistry  0.2811   6.0\n",
       "4  carticle_0134038379  Chemistry  0.3232   1.0"
      ],
      "text/html": [
       "<div>\n",
       "<style scoped>\n",
       "    .dataframe tbody tr th:only-of-type {\n",
       "        vertical-align: middle;\n",
       "    }\n",
       "\n",
       "    .dataframe tbody tr th {\n",
       "        vertical-align: top;\n",
       "    }\n",
       "\n",
       "    .dataframe thead th {\n",
       "        text-align: right;\n",
       "    }\n",
       "</style>\n",
       "<table border=\"1\" class=\"dataframe\">\n",
       "  <thead>\n",
       "    <tr style=\"text-align: right;\">\n",
       "      <th></th>\n",
       "      <th>merged_id</th>\n",
       "      <th>field</th>\n",
       "      <th>score</th>\n",
       "      <th>rank</th>\n",
       "    </tr>\n",
       "  </thead>\n",
       "  <tbody>\n",
       "    <tr>\n",
       "      <th>0</th>\n",
       "      <td>carticle_0262135946</td>\n",
       "      <td>Chemistry</td>\n",
       "      <td>0.6560</td>\n",
       "      <td>1.0</td>\n",
       "    </tr>\n",
       "    <tr>\n",
       "      <th>1</th>\n",
       "      <td>carticle_0135012857</td>\n",
       "      <td>Chemistry</td>\n",
       "      <td>0.3179</td>\n",
       "      <td>6.0</td>\n",
       "    </tr>\n",
       "    <tr>\n",
       "      <th>2</th>\n",
       "      <td>carticle_0033759524</td>\n",
       "      <td>Chemistry</td>\n",
       "      <td>0.5524</td>\n",
       "      <td>10.0</td>\n",
       "    </tr>\n",
       "    <tr>\n",
       "      <th>3</th>\n",
       "      <td>carticle_0043485323</td>\n",
       "      <td>Chemistry</td>\n",
       "      <td>0.2811</td>\n",
       "      <td>6.0</td>\n",
       "    </tr>\n",
       "    <tr>\n",
       "      <th>4</th>\n",
       "      <td>carticle_0134038379</td>\n",
       "      <td>Chemistry</td>\n",
       "      <td>0.3232</td>\n",
       "      <td>1.0</td>\n",
       "    </tr>\n",
       "  </tbody>\n",
       "</table>\n",
       "</div>"
      ]
     },
     "execution_count": 20,
     "metadata": {},
     "output_type": "execute_result"
    }
   ],
   "execution_count": 20
  },
  {
   "metadata": {
    "ExecuteTime": {
     "end_time": "2025-05-08T12:49:42.579993Z",
     "start_time": "2025-05-08T12:49:42.575666Z"
    }
   },
   "cell_type": "code",
   "source": [
    "# More scores from unconstrained L2/L3 scoring as expected\n",
    "len(scores), len(con_scores)"
   ],
   "id": "550edd614e572294",
   "outputs": [
    {
     "data": {
      "text/plain": [
       "(3922052, 1903259)"
      ]
     },
     "execution_count": 21,
     "metadata": {},
     "output_type": "execute_result"
    }
   ],
   "execution_count": 21
  },
  {
   "metadata": {
    "ExecuteTime": {
     "end_time": "2025-05-08T12:51:43.929648Z",
     "start_time": "2025-05-08T12:51:05.752437Z"
    }
   },
   "cell_type": "code",
   "source": [
    "# Parsing and transforming takes a while, so serialize for reuse\n",
    "scores.to_pickle(\"scores.pkl\")\n",
    "con_scores.to_pickle(\"con_scores.pkl\")"
   ],
   "id": "341e9931c728468",
   "outputs": [],
   "execution_count": 23
  },
  {
   "metadata": {
    "ExecuteTime": {
     "end_time": "2025-05-08T12:51:45.434632Z",
     "start_time": "2025-05-08T12:51:44.136096Z"
    }
   },
   "cell_type": "code",
   "source": [
    "# Confirm we're looking at the same publications\n",
    "assert set(scores.merged_id) == set(con_scores.merged_id)"
   ],
   "id": "473e854418f5003e",
   "outputs": [],
   "execution_count": 24
  },
  {
   "metadata": {
    "ExecuteTime": {
     "end_time": "2025-05-08T12:53:06.356678Z",
     "start_time": "2025-05-08T12:51:45.490821Z"
    }
   },
   "cell_type": "code",
   "source": [
    "# Create a standardized field name for joining on pub + field\n",
    "scores['norm_field'] = scores['field'].str.lower()\n",
    "con_scores['norm_field'] = con_scores['field'].str.lower()\n",
    "\n",
    "diff = pd.merge(\n",
    "    scores[['merged_id', 'field', 'score', 'norm_field', 'rank']],\n",
    "    con_scores[['merged_id', 'field', 'score', 'norm_field', 'rank']],\n",
    "    on=['merged_id', 'norm_field'],\n",
    "    suffixes=('', '_c'),\n",
    "    how='left',\n",
    ")\n",
    "diff.drop(columns=['norm_field', 'field'], inplace=True)\n",
    "len(diff)"
   ],
   "id": "1f5f47ca7f4a3157",
   "outputs": [
    {
     "data": {
      "text/plain": [
       "3948683"
      ]
     },
     "execution_count": 25,
     "metadata": {},
     "output_type": "execute_result"
    }
   ],
   "execution_count": 25
  },
  {
   "metadata": {
    "ExecuteTime": {
     "end_time": "2025-05-08T13:02:18.837507Z",
     "start_time": "2025-05-08T13:02:18.596957Z"
    }
   },
   "cell_type": "code",
   "source": [
    "# Calculate absolute differences\n",
    "diff['diff'] = diff['score_c'].round(3) - diff['score'].round(3)\n",
    "diff['diff'] = diff['diff'].abs()\n",
    "diff.head()"
   ],
   "id": "7c506aca8bed4e2",
   "outputs": [
    {
     "data": {
      "text/plain": [
       "             merged_id     score  rank field_c  score_c  rank_c   diff  \\\n",
       "0  carticle_0410190179  0.412466   5.0     Art   0.2750     5.0  0.137   \n",
       "1  carticle_0135012857  0.477203   5.0     Art   0.3181     5.0  0.159   \n",
       "2  carticle_0000162842  0.627803   1.0     Art   0.6278     1.0  0.000   \n",
       "3  carticle_0157627003  0.471244   5.0     Art   0.3142     5.0  0.157   \n",
       "4  carticle_0127058960  0.469692   8.0     Art   0.3131     7.5  0.157   \n",
       "\n",
       "   has_diff  has_rank_diff  \n",
       "0      True          False  \n",
       "1      True          False  \n",
       "2      True          False  \n",
       "3      True          False  \n",
       "4      True          False  "
      ],
      "text/html": [
       "<div>\n",
       "<style scoped>\n",
       "    .dataframe tbody tr th:only-of-type {\n",
       "        vertical-align: middle;\n",
       "    }\n",
       "\n",
       "    .dataframe tbody tr th {\n",
       "        vertical-align: top;\n",
       "    }\n",
       "\n",
       "    .dataframe thead th {\n",
       "        text-align: right;\n",
       "    }\n",
       "</style>\n",
       "<table border=\"1\" class=\"dataframe\">\n",
       "  <thead>\n",
       "    <tr style=\"text-align: right;\">\n",
       "      <th></th>\n",
       "      <th>merged_id</th>\n",
       "      <th>score</th>\n",
       "      <th>rank</th>\n",
       "      <th>field_c</th>\n",
       "      <th>score_c</th>\n",
       "      <th>rank_c</th>\n",
       "      <th>diff</th>\n",
       "      <th>has_diff</th>\n",
       "      <th>has_rank_diff</th>\n",
       "    </tr>\n",
       "  </thead>\n",
       "  <tbody>\n",
       "    <tr>\n",
       "      <th>0</th>\n",
       "      <td>carticle_0410190179</td>\n",
       "      <td>0.412466</td>\n",
       "      <td>5.0</td>\n",
       "      <td>Art</td>\n",
       "      <td>0.2750</td>\n",
       "      <td>5.0</td>\n",
       "      <td>0.137</td>\n",
       "      <td>True</td>\n",
       "      <td>False</td>\n",
       "    </tr>\n",
       "    <tr>\n",
       "      <th>1</th>\n",
       "      <td>carticle_0135012857</td>\n",
       "      <td>0.477203</td>\n",
       "      <td>5.0</td>\n",
       "      <td>Art</td>\n",
       "      <td>0.3181</td>\n",
       "      <td>5.0</td>\n",
       "      <td>0.159</td>\n",
       "      <td>True</td>\n",
       "      <td>False</td>\n",
       "    </tr>\n",
       "    <tr>\n",
       "      <th>2</th>\n",
       "      <td>carticle_0000162842</td>\n",
       "      <td>0.627803</td>\n",
       "      <td>1.0</td>\n",
       "      <td>Art</td>\n",
       "      <td>0.6278</td>\n",
       "      <td>1.0</td>\n",
       "      <td>0.000</td>\n",
       "      <td>True</td>\n",
       "      <td>False</td>\n",
       "    </tr>\n",
       "    <tr>\n",
       "      <th>3</th>\n",
       "      <td>carticle_0157627003</td>\n",
       "      <td>0.471244</td>\n",
       "      <td>5.0</td>\n",
       "      <td>Art</td>\n",
       "      <td>0.3142</td>\n",
       "      <td>5.0</td>\n",
       "      <td>0.157</td>\n",
       "      <td>True</td>\n",
       "      <td>False</td>\n",
       "    </tr>\n",
       "    <tr>\n",
       "      <th>4</th>\n",
       "      <td>carticle_0127058960</td>\n",
       "      <td>0.469692</td>\n",
       "      <td>8.0</td>\n",
       "      <td>Art</td>\n",
       "      <td>0.3131</td>\n",
       "      <td>7.5</td>\n",
       "      <td>0.157</td>\n",
       "      <td>True</td>\n",
       "      <td>False</td>\n",
       "    </tr>\n",
       "  </tbody>\n",
       "</table>\n",
       "</div>"
      ]
     },
     "execution_count": 39,
     "metadata": {},
     "output_type": "execute_result"
    }
   ],
   "execution_count": 39
  },
  {
   "metadata": {
    "ExecuteTime": {
     "end_time": "2025-05-08T13:02:20.836457Z",
     "start_time": "2025-05-08T13:02:20.729955Z"
    }
   },
   "cell_type": "code",
   "source": [
    "# Characterize\n",
    "diff['diff'].describe().round(3)"
   ],
   "id": "a083336229c0849",
   "outputs": [
    {
     "data": {
      "text/plain": [
       "count    959952.000\n",
       "mean          0.094\n",
       "std           0.080\n",
       "min           0.000\n",
       "25%           0.000\n",
       "50%           0.127\n",
       "75%           0.152\n",
       "max           0.531\n",
       "Name: diff, dtype: float64"
      ]
     },
     "execution_count": 40,
     "metadata": {},
     "output_type": "execute_result"
    }
   ],
   "execution_count": 40
  },
  {
   "metadata": {
    "ExecuteTime": {
     "end_time": "2025-05-08T13:02:22.941904Z",
     "start_time": "2025-05-08T13:02:22.917602Z"
    }
   },
   "cell_type": "code",
   "source": [
    "diff['has_diff'] = diff['diff'] > 0.000\n",
    "diff['has_diff'].value_counts(normalize=True)"
   ],
   "id": "75f22553c75c8317",
   "outputs": [
    {
     "data": {
      "text/plain": [
       "False    0.84072\n",
       "True     0.15928\n",
       "Name: has_diff, dtype: float64"
      ]
     },
     "execution_count": 41,
     "metadata": {},
     "output_type": "execute_result"
    }
   ],
   "execution_count": 41
  },
  {
   "metadata": {
    "ExecuteTime": {
     "end_time": "2025-05-08T13:02:29.807595Z",
     "start_time": "2025-05-08T13:02:27.790262Z"
    }
   },
   "cell_type": "code",
   "source": "diff.loc[~diff['diff'].isna()]",
   "id": "366086a0d5896600",
   "outputs": [
    {
     "data": {
      "text/plain": [
       "                   merged_id     score  rank                      field_c  \\\n",
       "0        carticle_0410190179  0.412466   5.0                          Art   \n",
       "1        carticle_0135012857  0.477203   5.0                          Art   \n",
       "2        carticle_0000162842  0.627803   1.0                          Art   \n",
       "3        carticle_0157627003  0.471244   5.0                          Art   \n",
       "4        carticle_0127058960  0.469692   8.0                          Art   \n",
       "...                      ...       ...   ...                          ...   \n",
       "3885888  carticle_0423327321  0.662955   6.0            Synthetic Biology   \n",
       "3908664  carticle_0177109305  0.644539   1.0  Natural Language Processing   \n",
       "3919554  carticle_0235085803  0.660392   8.0              Antigenic Shift   \n",
       "3919568  carticle_0032581328  0.521683   8.0     Antimicrobial Resistance   \n",
       "3920701  carticle_0032581328  0.548204   1.0           Bacterial Genetics   \n",
       "\n",
       "         score_c  rank_c   diff  has_diff  has_rank_diff  \n",
       "0         0.2750     5.0  0.137      True          False  \n",
       "1         0.3181     5.0  0.159      True          False  \n",
       "2         0.6278     1.0  0.000     False          False  \n",
       "3         0.3142     5.0  0.157      True          False  \n",
       "4         0.3131     7.5  0.157      True          False  \n",
       "...          ...     ...    ...       ...            ...  \n",
       "3885888   0.6544     9.0  0.009      True           True  \n",
       "3908664   0.6270     2.0  0.018      True           True  \n",
       "3919554   0.6395     2.5  0.020      True           True  \n",
       "3919568   0.3403     3.0  0.182      True           True  \n",
       "3920701   0.3400     4.0  0.208      True           True  \n",
       "\n",
       "[959952 rows x 9 columns]"
      ],
      "text/html": [
       "<div>\n",
       "<style scoped>\n",
       "    .dataframe tbody tr th:only-of-type {\n",
       "        vertical-align: middle;\n",
       "    }\n",
       "\n",
       "    .dataframe tbody tr th {\n",
       "        vertical-align: top;\n",
       "    }\n",
       "\n",
       "    .dataframe thead th {\n",
       "        text-align: right;\n",
       "    }\n",
       "</style>\n",
       "<table border=\"1\" class=\"dataframe\">\n",
       "  <thead>\n",
       "    <tr style=\"text-align: right;\">\n",
       "      <th></th>\n",
       "      <th>merged_id</th>\n",
       "      <th>score</th>\n",
       "      <th>rank</th>\n",
       "      <th>field_c</th>\n",
       "      <th>score_c</th>\n",
       "      <th>rank_c</th>\n",
       "      <th>diff</th>\n",
       "      <th>has_diff</th>\n",
       "      <th>has_rank_diff</th>\n",
       "    </tr>\n",
       "  </thead>\n",
       "  <tbody>\n",
       "    <tr>\n",
       "      <th>0</th>\n",
       "      <td>carticle_0410190179</td>\n",
       "      <td>0.412466</td>\n",
       "      <td>5.0</td>\n",
       "      <td>Art</td>\n",
       "      <td>0.2750</td>\n",
       "      <td>5.0</td>\n",
       "      <td>0.137</td>\n",
       "      <td>True</td>\n",
       "      <td>False</td>\n",
       "    </tr>\n",
       "    <tr>\n",
       "      <th>1</th>\n",
       "      <td>carticle_0135012857</td>\n",
       "      <td>0.477203</td>\n",
       "      <td>5.0</td>\n",
       "      <td>Art</td>\n",
       "      <td>0.3181</td>\n",
       "      <td>5.0</td>\n",
       "      <td>0.159</td>\n",
       "      <td>True</td>\n",
       "      <td>False</td>\n",
       "    </tr>\n",
       "    <tr>\n",
       "      <th>2</th>\n",
       "      <td>carticle_0000162842</td>\n",
       "      <td>0.627803</td>\n",
       "      <td>1.0</td>\n",
       "      <td>Art</td>\n",
       "      <td>0.6278</td>\n",
       "      <td>1.0</td>\n",
       "      <td>0.000</td>\n",
       "      <td>False</td>\n",
       "      <td>False</td>\n",
       "    </tr>\n",
       "    <tr>\n",
       "      <th>3</th>\n",
       "      <td>carticle_0157627003</td>\n",
       "      <td>0.471244</td>\n",
       "      <td>5.0</td>\n",
       "      <td>Art</td>\n",
       "      <td>0.3142</td>\n",
       "      <td>5.0</td>\n",
       "      <td>0.157</td>\n",
       "      <td>True</td>\n",
       "      <td>False</td>\n",
       "    </tr>\n",
       "    <tr>\n",
       "      <th>4</th>\n",
       "      <td>carticle_0127058960</td>\n",
       "      <td>0.469692</td>\n",
       "      <td>8.0</td>\n",
       "      <td>Art</td>\n",
       "      <td>0.3131</td>\n",
       "      <td>7.5</td>\n",
       "      <td>0.157</td>\n",
       "      <td>True</td>\n",
       "      <td>False</td>\n",
       "    </tr>\n",
       "    <tr>\n",
       "      <th>...</th>\n",
       "      <td>...</td>\n",
       "      <td>...</td>\n",
       "      <td>...</td>\n",
       "      <td>...</td>\n",
       "      <td>...</td>\n",
       "      <td>...</td>\n",
       "      <td>...</td>\n",
       "      <td>...</td>\n",
       "      <td>...</td>\n",
       "    </tr>\n",
       "    <tr>\n",
       "      <th>3885888</th>\n",
       "      <td>carticle_0423327321</td>\n",
       "      <td>0.662955</td>\n",
       "      <td>6.0</td>\n",
       "      <td>Synthetic Biology</td>\n",
       "      <td>0.6544</td>\n",
       "      <td>9.0</td>\n",
       "      <td>0.009</td>\n",
       "      <td>True</td>\n",
       "      <td>True</td>\n",
       "    </tr>\n",
       "    <tr>\n",
       "      <th>3908664</th>\n",
       "      <td>carticle_0177109305</td>\n",
       "      <td>0.644539</td>\n",
       "      <td>1.0</td>\n",
       "      <td>Natural Language Processing</td>\n",
       "      <td>0.6270</td>\n",
       "      <td>2.0</td>\n",
       "      <td>0.018</td>\n",
       "      <td>True</td>\n",
       "      <td>True</td>\n",
       "    </tr>\n",
       "    <tr>\n",
       "      <th>3919554</th>\n",
       "      <td>carticle_0235085803</td>\n",
       "      <td>0.660392</td>\n",
       "      <td>8.0</td>\n",
       "      <td>Antigenic Shift</td>\n",
       "      <td>0.6395</td>\n",
       "      <td>2.5</td>\n",
       "      <td>0.020</td>\n",
       "      <td>True</td>\n",
       "      <td>True</td>\n",
       "    </tr>\n",
       "    <tr>\n",
       "      <th>3919568</th>\n",
       "      <td>carticle_0032581328</td>\n",
       "      <td>0.521683</td>\n",
       "      <td>8.0</td>\n",
       "      <td>Antimicrobial Resistance</td>\n",
       "      <td>0.3403</td>\n",
       "      <td>3.0</td>\n",
       "      <td>0.182</td>\n",
       "      <td>True</td>\n",
       "      <td>True</td>\n",
       "    </tr>\n",
       "    <tr>\n",
       "      <th>3920701</th>\n",
       "      <td>carticle_0032581328</td>\n",
       "      <td>0.548204</td>\n",
       "      <td>1.0</td>\n",
       "      <td>Bacterial Genetics</td>\n",
       "      <td>0.3400</td>\n",
       "      <td>4.0</td>\n",
       "      <td>0.208</td>\n",
       "      <td>True</td>\n",
       "      <td>True</td>\n",
       "    </tr>\n",
       "  </tbody>\n",
       "</table>\n",
       "<p>959952 rows × 9 columns</p>\n",
       "</div>"
      ]
     },
     "execution_count": 42,
     "metadata": {},
     "output_type": "execute_result"
    }
   ],
   "execution_count": 42
  },
  {
   "metadata": {
    "ExecuteTime": {
     "end_time": "2025-05-08T13:02:32.636952Z",
     "start_time": "2025-05-08T13:02:31.559987Z"
    }
   },
   "cell_type": "code",
   "source": "diff.groupby(['field_c', 'has_diff'])['diff'].agg('count').sort_values(ascending=False)",
   "id": "756b763271baaca5",
   "outputs": [
    {
     "data": {
      "text/plain": [
       "field_c                  has_diff\n",
       "Psychology               True        48642\n",
       "Economics                True        44163\n",
       "Environmental Science    True        43654\n",
       "Physics                  True        39575\n",
       "Engineering              True        38700\n",
       "                                     ...  \n",
       "Nanotechnology           False           1\n",
       "Crystallography          False           1\n",
       "Epistemology             True            1\n",
       "Environmental Chemistry  False           1\n",
       "Geochemistry             False           1\n",
       "Name: diff, Length: 439, dtype: int64"
      ]
     },
     "execution_count": 43,
     "metadata": {},
     "output_type": "execute_result"
    }
   ],
   "execution_count": 43
  },
  {
   "metadata": {
    "ExecuteTime": {
     "end_time": "2025-05-08T13:02:34.574776Z",
     "start_time": "2025-05-08T13:02:33.555782Z"
    }
   },
   "cell_type": "code",
   "source": "diff.groupby('has_diff')['merged_id'].agg('nunique').sort_values(ascending=False)",
   "id": "9be683bf40ac75fa",
   "outputs": [
    {
     "data": {
      "text/plain": [
       "has_diff\n",
       "False    98054\n",
       "True     85232\n",
       "Name: merged_id, dtype: int64"
      ]
     },
     "execution_count": 44,
     "metadata": {},
     "output_type": "execute_result"
    }
   ],
   "execution_count": 44
  },
  {
   "metadata": {
    "ExecuteTime": {
     "end_time": "2025-05-08T13:02:35.451377Z",
     "start_time": "2025-05-08T13:02:35.395516Z"
    }
   },
   "cell_type": "code",
   "source": [
    "diff['has_rank_diff'] = (diff['rank'] - diff['rank_c']).abs() > 0.5\n",
    "diff['has_rank_diff'].value_counts(normalize=True)"
   ],
   "id": "18fd6f3f902c102d",
   "outputs": [
    {
     "data": {
      "text/plain": [
       "False    0.883699\n",
       "True     0.116301\n",
       "Name: has_rank_diff, dtype: float64"
      ]
     },
     "execution_count": 45,
     "metadata": {},
     "output_type": "execute_result"
    }
   ],
   "execution_count": 45
  },
  {
   "metadata": {
    "ExecuteTime": {
     "end_time": "2025-05-08T13:02:37.233536Z",
     "start_time": "2025-05-08T13:02:37.199737Z"
    }
   },
   "cell_type": "code",
   "source": "diff['diff'].quantile([.25, .33, .50, .75, .95, .99, 1])",
   "id": "808ea48a18ac2df",
   "outputs": [
    {
     "data": {
      "text/plain": [
       "0.25    0.000\n",
       "0.33    0.000\n",
       "0.50    0.127\n",
       "0.75    0.152\n",
       "0.95    0.172\n",
       "0.99    0.341\n",
       "1.00    0.531\n",
       "Name: diff, dtype: float64"
      ]
     },
     "execution_count": 46,
     "metadata": {},
     "output_type": "execute_result"
    }
   ],
   "execution_count": 46
  },
  {
   "metadata": {},
   "cell_type": "code",
   "outputs": [],
   "execution_count": null,
   "source": "",
   "id": "e11ff75b47b91f30"
  }
 ],
 "metadata": {
  "kernelspec": {
   "display_name": "Python 3",
   "language": "python",
   "name": "python3"
  },
  "language_info": {
   "codemirror_mode": {
    "name": "ipython",
    "version": 2
   },
   "file_extension": ".py",
   "mimetype": "text/x-python",
   "name": "python",
   "nbconvert_exporter": "python",
   "pygments_lexer": "ipython2",
   "version": "2.7.6"
  }
 },
 "nbformat": 4,
 "nbformat_minor": 5
}
