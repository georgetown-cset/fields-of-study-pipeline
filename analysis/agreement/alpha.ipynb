{
 "cells": [
  {
   "cell_type": "markdown",
   "source": [
    "Evaluate agreement between MAG and CSET fields."
   ],
   "metadata": {
    "collapsed": false,
    "pycharm": {
     "name": "#%% md\n"
    }
   }
  },
  {
   "cell_type": "code",
   "execution_count": 1,
   "metadata": {
    "collapsed": true
   },
   "outputs": [],
   "source": [
    "import numpy as np\n",
    "import pandas as pd\n",
    "from nltk.metrics.agreement import AnnotationTask\n",
    "from nltk.metrics.distance import binary_distance, masi_distance\n",
    "from srsly import read_jsonl\n",
    "\n",
    "from fos.settings import ASSETS_DIR\n",
    "\n",
    "META_PATH = ASSETS_DIR / 'fields/fos.pkl.gz'\n",
    "ANNO_DIR = ASSETS_DIR / '../analysis/annotation'"
   ]
  },
  {
   "cell_type": "markdown",
   "source": [
    "We're using (at least for now) only the small random sample we drew for annotation."
   ],
   "metadata": {
    "collapsed": false,
    "pycharm": {
     "name": "#%% md\n"
    }
   }
  },
  {
   "cell_type": "code",
   "execution_count": 2,
   "outputs": [],
   "source": [
    "# Load assets\n",
    "meta = pd.read_pickle(META_PATH)\n",
    "# TODO: expand to larger sample\n",
    "mag_sample = list(read_jsonl(ANNO_DIR / \"en_v1_scores.jsonl\"))\n",
    "cset_sample = list(read_jsonl(ANNO_DIR / \"en_v2_scores.jsonl\"))\n",
    "l0_ids = meta.query('level == 0').index.astype(int)\n",
    "id_to_name = {int(k): v['display_name'] for k, v in meta.query('level == 0').iterrows()}"
   ],
   "metadata": {
    "collapsed": false,
    "pycharm": {
     "name": "#%%\n"
    }
   }
  },
  {
   "cell_type": "code",
   "execution_count": 3,
   "outputs": [],
   "source": [
    "def shape(docs, field_filter=None):\n",
    "    \"\"\"Put documents in a consistent order (by doc id) and subset to the L0 field scores (dropping L1).\"\"\"\n",
    "    result = {}\n",
    "    for doc in docs:\n",
    "        doc_id = doc['id']\n",
    "        scores = {}\n",
    "        for field in doc['fields']:\n",
    "            if field_filter is None or field['id'] in field_filter:\n",
    "                scores[field['id']] = field['score']\n",
    "        scores = dict(sorted(scores.items(), key=lambda x: x[1], reverse=True))\n",
    "        result[doc_id] = scores\n",
    "    assert len(set([len(v) for v in result.values()])) == 1\n",
    "    # Return in order of doc ID\n",
    "    result = dict(sorted(result.items()))\n",
    "    return result\n",
    "\n",
    "\n",
    "cset_docs = shape(cset_sample, l0_ids)\n",
    "mag_docs = shape(mag_sample, l0_ids)\n",
    "assert cset_docs.keys() == mag_docs.keys()"
   ],
   "metadata": {
    "collapsed": false,
    "pycharm": {
     "name": "#%%\n"
    }
   }
  },
  {
   "cell_type": "code",
   "execution_count": 48,
   "outputs": [],
   "source": [
    "\n",
    "def to_ordinal_nltk(docs, annotator_id, k=3, names=True):\n",
    "    \"\"\"Format for nltk.\n",
    "\n",
    "    :param annotator_id: Annotator/rater ID, i.e., CSET or MAG.\n",
    "    :param k: Restrict to top k scores (or k=19 to include all).\n",
    "    :param names: If True, return field/item names in order of score ('40700', ...); otherwise, return field score ranks in order of    field lexicographic sort.\n",
    "    :return:\n",
    "    \"\"\"\n",
    "    result = []\n",
    "    for doc_id, scores in docs.items():\n",
    "        top_fields = []\n",
    "        if names:\n",
    "            for i, (field_id, score) in enumerate(scores.items(), 1):\n",
    "                top_fields.append(str(field_id))\n",
    "                if i == k:\n",
    "                    break\n",
    "        else:\n",
    "            sorted_fields = dict(sorted(scores.items()))\n",
    "            field_order = reversed(np.argsort(np.array(list(sorted_fields.values()))))\n",
    "            top_fields = list(np.array(list(field_order)) + 1)\n",
    "        data = annotator_id, doc_id, tuple(top_fields)\n",
    "        result.append(data)\n",
    "    return result\n",
    "\n",
    "\n",
    "annotations = to_ordinal_nltk(mag_docs, \"mag\") + to_ordinal_nltk(cset_docs, \"cset\")\n",
    "rank_annotations = to_ordinal_nltk(mag_docs, \"mag\", names=False) + to_ordinal_nltk(cset_docs, \"cset\", names=False)"
   ],
   "metadata": {
    "collapsed": false,
    "pycharm": {
     "name": "#%%\n"
    }
   }
  },
  {
   "cell_type": "code",
   "execution_count": 61,
   "outputs": [
    {
     "data": {
      "text/plain": "[('mag', 'carticle_0000800584', ('121332964', '192562407', '41008148')),\n ('mag', 'carticle_0001126499', ('71924100', '185592680', '86803240'))]"
     },
     "execution_count": 61,
     "metadata": {},
     "output_type": "execute_result"
    }
   ],
   "source": [
    "# Looks like this\n",
    "annotations[:2]"
   ],
   "metadata": {
    "collapsed": false,
    "pycharm": {
     "name": "#%%\n"
    }
   }
  },
  {
   "cell_type": "code",
   "execution_count": 62,
   "outputs": [
    {
     "data": {
      "text/plain": "[('mag',\n  'carticle_0000800584',\n  (9, 18, 5, 3, 10, 4, 17, 16, 11, 1, 7, 6, 19, 12, 14, 15, 13, 8, 2)),\n ('mag',\n  'carticle_0001126499',\n  (6, 17, 7, 3, 18, 9, 1, 4, 19, 16, 15, 5, 10, 12, 8, 14, 2, 13, 11))]"
     },
     "execution_count": 62,
     "metadata": {},
     "output_type": "execute_result"
    }
   ],
   "source": [
    "# And like this\n",
    "rank_annotations[:2]"
   ],
   "metadata": {
    "collapsed": false,
    "pycharm": {
     "name": "#%%\n"
    }
   }
  },
  {
   "cell_type": "markdown",
   "source": [
    "We calculate Krippendorff's alpha for the top 1-3 labels, using MASI distance (for set overlap) for k > 1."
   ],
   "metadata": {
    "collapsed": false,
    "pycharm": {
     "name": "#%% md\n"
    }
   }
  },
  {
   "cell_type": "code",
   "execution_count": 71,
   "outputs": [
    {
     "name": "stdout",
     "output_type": "stream",
     "text": [
      "('mag', 'carticle_0000800584', frozenset({'121332964'}))\n",
      "('mag', 'carticle_0000800584', frozenset({'121332964', '192562407'}))\n",
      "('mag', 'carticle_0000800584', frozenset({'41008148', '121332964', '192562407'}))\n"
     ]
    },
    {
     "data": {
      "text/plain": "array([0.347, 0.299, 0.175])"
     },
     "execution_count": 71,
     "metadata": {},
     "output_type": "execute_result"
    }
   ],
   "source": [
    "masi_alpha = []\n",
    "for k in [1, 2, 3]:\n",
    "    data = to_ordinal_nltk(mag_docs, \"mag\", k=k) + to_ordinal_nltk(cset_docs, \"cset\", k=k)\n",
    "    data = [(annotator, doc_id, frozenset(fields[:k])) for annotator, doc_id, fields in data]\n",
    "    # Print an example record\n",
    "    print(data[0])\n",
    "    task = AnnotationTask(data, distance=masi_distance)\n",
    "    masi_alpha.append(task.alpha())\n",
    "np.array(masi_alpha).round(3)"
   ],
   "metadata": {
    "collapsed": false,
    "pycharm": {
     "name": "#%%\n"
    }
   }
  },
  {
   "cell_type": "markdown",
   "source": [
    "For comparison, here's Krippendorff's alpha for the top 1-3 labels when using binary distance."
   ],
   "metadata": {
    "collapsed": false,
    "pycharm": {
     "name": "#%% md\n"
    }
   }
  },
  {
   "cell_type": "code",
   "execution_count": 72,
   "outputs": [
    {
     "data": {
      "text/plain": "array([0.347, 0.257, 0.1  ])"
     },
     "execution_count": 72,
     "metadata": {},
     "output_type": "execute_result"
    }
   ],
   "source": [
    "binary_alpha = []\n",
    "for k in [1, 2, 3]:\n",
    "    data = to_ordinal_nltk(mag_docs, \"mag\", k=k) + to_ordinal_nltk(cset_docs, \"cset\", k=k)\n",
    "    data = [(annotator, doc_id, frozenset(fields[:k])) for annotator, doc_id, fields in data]\n",
    "    task = AnnotationTask(data, distance=binary_distance)\n",
    "    binary_alpha.append(task.alpha())\n",
    "np.array(binary_alpha).round(3)"
   ],
   "metadata": {
    "collapsed": false,
    "pycharm": {
     "name": "#%%\n"
    }
   }
  },
  {
   "cell_type": "markdown",
   "source": [
    "And here's simple agreement for the top field."
   ],
   "metadata": {
    "collapsed": false,
    "pycharm": {
     "name": "#%% md\n"
    }
   }
  },
  {
   "cell_type": "code",
   "execution_count": 46,
   "outputs": [
    {
     "data": {
      "text/plain": "(0.4134078212290503, 358)"
     },
     "execution_count": 46,
     "metadata": {},
     "output_type": "execute_result"
    }
   ],
   "source": [
    "simple_agreement = pd.concat([\n",
    "    pd.DataFrame(to_ordinal_nltk(mag_docs, \"mag\", k=1)),\n",
    "    pd.DataFrame(to_ordinal_nltk(cset_docs, \"cset\", k=1))\n",
    "], axis=1)\n",
    "\n",
    "simple_agreement.columns = ['mag', 'mag_id', 'top_mag', 'cset', 'cset_id', 'top_cset']\n",
    "assert simple_agreement.apply(lambda x: x['mag_id'] == x['cset_id'], axis=1).all()\n",
    "n_agree = simple_agreement.apply(lambda x: x['top_mag'] == x['top_cset'], axis=1).sum()\n",
    "round(n_agree / simple_agreement.shape[0], 3), simple_agreement.shape[0]"
   ],
   "metadata": {
    "collapsed": false,
    "pycharm": {
     "name": "#%%\n"
    }
   }
  },
  {
   "cell_type": "markdown",
   "source": [
    "Confirm the alpha result using a different implementation."
   ],
   "metadata": {
    "collapsed": false,
    "pycharm": {
     "name": "#%% md\n"
    }
   }
  },
  {
   "cell_type": "code",
   "execution_count": 60,
   "outputs": [
    {
     "data": {
      "text/plain": "0.3470802332508578"
     },
     "execution_count": 60,
     "metadata": {},
     "output_type": "execute_result"
    }
   ],
   "source": [
    "import krippendorff\n",
    "\n",
    "krippendorff.alpha([\n",
    "    [score[0] for _, _, score in to_ordinal_nltk(mag_docs, \"mag\", k=1)],\n",
    "    [score[0] for _, _, score in to_ordinal_nltk(cset_docs, \"cset\", k=1)],\n",
    "], level_of_measurement='nominal')"
   ],
   "metadata": {
    "collapsed": false,
    "pycharm": {
     "name": "#%%\n"
    }
   }
  }
 ],
 "metadata": {
  "kernelspec": {
   "display_name": "Python 3",
   "language": "python",
   "name": "python3"
  },
  "language_info": {
   "codemirror_mode": {
    "name": "ipython",
    "version": 2
   },
   "file_extension": ".py",
   "mimetype": "text/x-python",
   "name": "python",
   "nbconvert_exporter": "python",
   "pygments_lexer": "ipython2",
   "version": "2.7.6"
  }
 },
 "nbformat": 4,
 "nbformat_minor": 0
}