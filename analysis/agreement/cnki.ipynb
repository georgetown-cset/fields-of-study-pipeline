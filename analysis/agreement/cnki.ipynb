{
 "cells": [
  {
   "cell_type": "markdown",
   "source": [
    "Agreement between crosswalked CNKI CLC codes and fields."
   ],
   "metadata": {
    "collapsed": false
   }
  },
  {
   "cell_type": "code",
   "execution_count": 1,
   "metadata": {
    "collapsed": true
   },
   "outputs": [],
   "source": [
    "%load_ext google.cloud.bigquery\n",
    "%matplotlib inline"
   ]
  },
  {
   "cell_type": "code",
   "execution_count": null,
   "outputs": [],
   "source": [],
   "metadata": {
    "collapsed": false,
    "pycharm": {
     "name": "#%%\n"
    }
   }
  },
  {
   "cell_type": "code",
   "execution_count": 2,
   "outputs": [],
   "source": [
    "import pandas as pd\n",
    "import pandas_gbq\n",
    "import seaborn as sns\n",
    "from matplotlib import pyplot as plt\n",
    "import os\n",
    "from google.cloud.bigquery import magics\n",
    "from fos.util import preprocess, preprocess_text\n",
    "\n",
    "magics.context.project = 'gcp-cset-projects'\n",
    "pandas_gbq.context.project = 'gcp-cset-projects'\n",
    "pandas_gbq.context.dialect = 'standard'\n",
    "\n",
    "sns.set_theme(style=\"whitegrid\")"
   ],
   "metadata": {
    "collapsed": false,
    "pycharm": {
     "name": "#%%\n"
    }
   }
  },
  {
   "cell_type": "code",
   "execution_count": 3,
   "outputs": [],
   "source": [
    "from fos.model import FieldModel\n",
    "\n",
    "field_model = FieldModel(\"zh\")"
   ],
   "metadata": {
    "collapsed": false,
    "pycharm": {
     "name": "#%%\n"
    }
   }
  },
  {
   "cell_type": "code",
   "execution_count": 4,
   "outputs": [
    {
     "name": "stderr",
     "output_type": "stream",
     "text": [
      "Query complete after 0.02s: 100%|██████████| 2/2 [00:00<00:00, 237.52query/s]                         \n",
      "Downloading: 100%|██████████| 535737/535737 [00:07<00:00, 70915.24rows/s] \n"
     ]
    }
   ],
   "source": [
    "%%bigquery sample\n",
    "select *\n",
    "from field_model_replication.cnki_papers_with_mag_fields\n",
    "tablesample system (1 percent)"
   ],
   "metadata": {
    "collapsed": false,
    "pycharm": {
     "name": "#%%\n"
    }
   }
  },
  {
   "cell_type": "code",
   "execution_count": 41,
   "outputs": [],
   "source": [
    "sample = sample.sample(n=10_000, random_state=20220323)\n",
    "sample.set_index('merged_id', inplace=True)"
   ],
   "metadata": {
    "collapsed": false,
    "pycharm": {
     "name": "#%%\n"
    }
   }
  },
  {
   "cell_type": "code",
   "execution_count": 42,
   "outputs": [],
   "source": [
    "sample = sample.rename(columns=lambda x: x.replace('_foreign', ''))\n",
    "sample['text'] = sample.apply(preprocess_text, lang=\"zh\", axis=1)"
   ],
   "metadata": {
    "collapsed": false,
    "pycharm": {
     "name": "#%%\n"
    }
   }
  },
  {
   "cell_type": "code",
   "execution_count": 43,
   "outputs": [
    {
     "data": {
      "text/plain": "(10000, 4)"
     },
     "execution_count": 43,
     "metadata": {},
     "output_type": "execute_result"
    }
   ],
   "source": [
    "sample.shape"
   ],
   "metadata": {
    "collapsed": false,
    "pycharm": {
     "name": "#%%\n"
    }
   }
  },
  {
   "cell_type": "code",
   "execution_count": 44,
   "outputs": [
    {
     "name": "stderr",
     "output_type": "stream",
     "text": [
      "10000it [00:39, 255.49it/s]\n"
     ]
    }
   ],
   "source": [
    "from tqdm import tqdm\n",
    "\n",
    "vectors = {}\n",
    "for merged_id, row in tqdm(sample.iterrows()):\n",
    "    vectors[merged_id] = field_model.embed(row['text'])"
   ],
   "metadata": {
    "collapsed": false,
    "pycharm": {
     "name": "#%%\n"
    }
   }
  },
  {
   "cell_type": "code",
   "execution_count": 45,
   "outputs": [
    {
     "name": "stderr",
     "output_type": "stream",
     "text": [
      "100%|██████████| 10000/10000 [03:16<00:00, 50.77it/s]\n"
     ]
    }
   ],
   "source": [
    "scores = {}\n",
    "for merged_id, v in tqdm(vectors.items()):\n",
    "    scores[merged_id] = field_model.score(v)"
   ],
   "metadata": {
    "collapsed": false,
    "pycharm": {
     "name": "#%%\n"
    }
   }
  },
  {
   "cell_type": "code",
   "execution_count": 46,
   "outputs": [
    {
     "name": "stderr",
     "output_type": "stream",
     "text": [
      "100%|██████████| 10000/10000 [00:00<00:00, 17105.25it/s]\n"
     ]
    }
   ],
   "source": [
    "avg_scores = {}\n",
    "for merged_id, s in tqdm(scores.items()):\n",
    "    avg_scores[merged_id] = {field_id: score for field_id, score in zip(field_model.index, s.average())}"
   ],
   "metadata": {
    "collapsed": false,
    "pycharm": {
     "name": "#%%\n"
    }
   }
  },
  {
   "cell_type": "code",
   "execution_count": 47,
   "outputs": [],
   "source": [
    "meta = pd.read_pickle(\"../../assets/fields/fos.pkl.gz\")"
   ],
   "metadata": {
    "collapsed": false,
    "pycharm": {
     "name": "#%%\n"
    }
   }
  },
  {
   "cell_type": "code",
   "execution_count": 48,
   "outputs": [],
   "source": [
    "named_scores = {merged_id: {meta.loc[k, 'display_name']: v for k, v in scores.items()} for merged_id, scores in avg_scores.items()}"
   ],
   "metadata": {
    "collapsed": false,
    "pycharm": {
     "name": "#%%\n"
    }
   }
  },
  {
   "cell_type": "code",
   "execution_count": 53,
   "outputs": [],
   "source": [
    "def ordered_names(fields):\n",
    "    return dict(sorted(fields.items(), key=lambda x: x[1], reverse=True))\n",
    "\n",
    "def keep_l0(fields):\n",
    "    l0_names = meta.loc[meta['level'] == 0, 'display_name'].values\n",
    "    return {k: v for k, v in fields.items() if k in l0_names}\n",
    "\n",
    "def keep_l1(fields):\n",
    "    l1_names = meta.loc[meta['level'] == 1, 'display_name'].values\n",
    "    return {k: v for k, v in fields.items() if k in l1_names}\n"
   ],
   "metadata": {
    "collapsed": false,
    "pycharm": {
     "name": "#%%\n"
    }
   }
  },
  {
   "cell_type": "code",
   "execution_count": 54,
   "outputs": [],
   "source": [
    "l0_scores = {merged_id: keep_l0(scores) for merged_id, scores in named_scores.items()}\n",
    "l1_scores = {merged_id: keep_l1(scores) for merged_id, scores in named_scores.items()}"
   ],
   "metadata": {
    "collapsed": false,
    "pycharm": {
     "name": "#%%\n"
    }
   }
  },
  {
   "cell_type": "code",
   "execution_count": 55,
   "outputs": [],
   "source": [
    "l0_scores = {merged_id: ordered_names(fields) for merged_id, fields in l0_scores.items()}\n",
    "l1_scores = {merged_id: ordered_names(fields) for merged_id, fields in l1_scores.items()}"
   ],
   "metadata": {
    "collapsed": false,
    "pycharm": {
     "name": "#%%\n"
    }
   }
  },
  {
   "cell_type": "code",
   "execution_count": 60,
   "outputs": [],
   "source": [
    "top_l0 = {merged_id: next(iter(scores.keys())) for merged_id, scores in l0_scores.items()}"
   ],
   "metadata": {
    "collapsed": false,
    "pycharm": {
     "name": "#%%\n"
    }
   }
  },
  {
   "cell_type": "code",
   "execution_count": 68,
   "outputs": [],
   "source": [
    "top_l1 = {merged_id: next(iter(scores.keys())) for merged_id, scores in l1_scores.items()}"
   ],
   "metadata": {
    "collapsed": false,
    "pycharm": {
     "name": "#%%\n"
    }
   }
  },
  {
   "cell_type": "code",
   "execution_count": 69,
   "outputs": [],
   "source": [
    "sample_labels = pd.merge(sample[['NormalizedName']].reset_index(),\n",
    "                         meta[['normalized_name', 'display_name', 'level']],\n",
    "                         left_on='NormalizedName',\n",
    "                         right_on='normalized_name',\n",
    "                         how='inner')"
   ],
   "metadata": {
    "collapsed": false,
    "pycharm": {
     "name": "#%%\n"
    }
   }
  },
  {
   "cell_type": "code",
   "execution_count": 70,
   "outputs": [
    {
     "data": {
      "text/plain": "                                      0\ncarticle_0217688961     Library science\ncarticle_0200563027      World Wide Web\ncarticle_0064904030  Speech recognition\ncarticle_0004159012  Speech recognition\ncarticle_0224295938   Computer security",
      "text/html": "<div>\n<style scoped>\n    .dataframe tbody tr th:only-of-type {\n        vertical-align: middle;\n    }\n\n    .dataframe tbody tr th {\n        vertical-align: top;\n    }\n\n    .dataframe thead th {\n        text-align: right;\n    }\n</style>\n<table border=\"1\" class=\"dataframe\">\n  <thead>\n    <tr style=\"text-align: right;\">\n      <th></th>\n      <th>0</th>\n    </tr>\n  </thead>\n  <tbody>\n    <tr>\n      <th>carticle_0217688961</th>\n      <td>Library science</td>\n    </tr>\n    <tr>\n      <th>carticle_0200563027</th>\n      <td>World Wide Web</td>\n    </tr>\n    <tr>\n      <th>carticle_0064904030</th>\n      <td>Speech recognition</td>\n    </tr>\n    <tr>\n      <th>carticle_0004159012</th>\n      <td>Speech recognition</td>\n    </tr>\n    <tr>\n      <th>carticle_0224295938</th>\n      <td>Computer security</td>\n    </tr>\n  </tbody>\n</table>\n</div>"
     },
     "execution_count": 70,
     "metadata": {},
     "output_type": "execute_result"
    }
   ],
   "source": [
    "top_l1_df = pd.DataFrame.from_dict(top_l1, orient='index')\n",
    "top_l1_df.columns = ['l1_pred']\n",
    "top_l1_df.head()"
   ],
   "metadata": {
    "collapsed": false,
    "pycharm": {
     "name": "#%%\n"
    }
   }
  },
  {
   "cell_type": "code",
   "execution_count": 72,
   "outputs": [],
   "source": [
    "df = pd.merge(sample_labels, top_l1_df, left_on='merged_id', right_index=True)"
   ],
   "metadata": {
    "collapsed": false,
    "pycharm": {
     "name": "#%%\n"
    }
   }
  },
  {
   "cell_type": "code",
   "execution_count": 80,
   "outputs": [],
   "source": [
    "cs_l1 = \"\"\"\\\n",
    "Distributed computing\n",
    "Software engineering\n",
    "Knowledge management\n",
    "Human–computer interaction\n",
    "Data mining\n",
    "Simulation\n",
    "Telecommunications\n",
    "Natural language processing\n",
    "Computer graphics (images)\n",
    "Internet privacy\n",
    "Computer hardware\n",
    "Artificial intelligence\n",
    "Database\n",
    "Library science\n",
    "Theoretical computer science\n",
    "Computer engineering\n",
    "Parallel computing\n",
    "Computer network\n",
    "Embedded system\n",
    "Speech recognition\n",
    "Data science\n",
    "Multimedia\n",
    "Information retrieval\n",
    "Programming language\n",
    "Real-time computing\n",
    "World Wide Web\n",
    "Computational science\n",
    "Pattern recognition\n",
    "Computer vision\n",
    "Computer architecture\n",
    "Machine learning\n",
    "Computer security\n",
    "Algorithm\n",
    "Operating system\"\"\".split('\\n')"
   ],
   "metadata": {
    "collapsed": false,
    "pycharm": {
     "name": "#%%\n"
    }
   }
  },
  {
   "cell_type": "code",
   "execution_count": 77,
   "outputs": [],
   "source": [
    "# df = pd.read_csv(\"cnki_clc_vs_pred.csv\")\n",
    "# df.to_csv(\"cnki_clc_vs_pred.csv\")\n"
   ],
   "metadata": {
    "collapsed": false,
    "pycharm": {
     "name": "#%%\n"
    }
   }
  },
  {
   "cell_type": "code",
   "execution_count": 81,
   "outputs": [
    {
     "data": {
      "text/plain": "             merged_id   NormalizedName  normalized_name     display_name  \\\n0  carticle_0217688961  library science  library science  Library science   \n1  carticle_0237851942  library science  library science  Library science   \n2  carticle_0239956054  library science  library science  Library science   \n3  carticle_0224375811  library science  library science  Library science   \n4  carticle_0238978381  library science  library science  Library science   \n\n   level           l1_pred  \n0      1   Library science  \n1      1       Archaeology  \n2      1   Library science  \n3      1         Algorithm  \n4      1  Operating system  ",
      "text/html": "<div>\n<style scoped>\n    .dataframe tbody tr th:only-of-type {\n        vertical-align: middle;\n    }\n\n    .dataframe tbody tr th {\n        vertical-align: top;\n    }\n\n    .dataframe thead th {\n        text-align: right;\n    }\n</style>\n<table border=\"1\" class=\"dataframe\">\n  <thead>\n    <tr style=\"text-align: right;\">\n      <th></th>\n      <th>merged_id</th>\n      <th>NormalizedName</th>\n      <th>normalized_name</th>\n      <th>display_name</th>\n      <th>level</th>\n      <th>l1_pred</th>\n    </tr>\n  </thead>\n  <tbody>\n    <tr>\n      <th>0</th>\n      <td>carticle_0217688961</td>\n      <td>library science</td>\n      <td>library science</td>\n      <td>Library science</td>\n      <td>1</td>\n      <td>Library science</td>\n    </tr>\n    <tr>\n      <th>1</th>\n      <td>carticle_0237851942</td>\n      <td>library science</td>\n      <td>library science</td>\n      <td>Library science</td>\n      <td>1</td>\n      <td>Archaeology</td>\n    </tr>\n    <tr>\n      <th>2</th>\n      <td>carticle_0239956054</td>\n      <td>library science</td>\n      <td>library science</td>\n      <td>Library science</td>\n      <td>1</td>\n      <td>Library science</td>\n    </tr>\n    <tr>\n      <th>3</th>\n      <td>carticle_0224375811</td>\n      <td>library science</td>\n      <td>library science</td>\n      <td>Library science</td>\n      <td>1</td>\n      <td>Algorithm</td>\n    </tr>\n    <tr>\n      <th>4</th>\n      <td>carticle_0238978381</td>\n      <td>library science</td>\n      <td>library science</td>\n      <td>Library science</td>\n      <td>1</td>\n      <td>Operating system</td>\n    </tr>\n  </tbody>\n</table>\n</div>"
     },
     "execution_count": 81,
     "metadata": {},
     "output_type": "execute_result"
    }
   ],
   "source": [
    "df.head()"
   ],
   "metadata": {
    "collapsed": false,
    "pycharm": {
     "name": "#%%\n"
    }
   }
  },
  {
   "cell_type": "code",
   "execution_count": 85,
   "outputs": [
    {
     "data": {
      "text/plain": "display_name\nArtificial intelligence    2170\nComputer network           4260\nInformation retrieval        72\nLibrary science            1080\nOperating system            478\nTelecommunications         1940\nName: merged_id, dtype: int64"
     },
     "execution_count": 85,
     "metadata": {},
     "output_type": "execute_result"
    }
   ],
   "source": [
    "df.groupby('display_name')['merged_id'].agg('count')"
   ],
   "metadata": {
    "collapsed": false,
    "pycharm": {
     "name": "#%%\n"
    }
   }
  },
  {
   "cell_type": "code",
   "execution_count": 86,
   "outputs": [
    {
     "data": {
      "text/plain": "l1_pred\nAlgorithm                     1838\nAccounting                     822\nLibrary science                619\nWorld Wide Web                 544\nSpeech recognition             468\n                              ... \nPhysical therapy                 1\nLinguistics                      1\nComputer architecture            1\nPublic economics                 1\nHuman–computer interaction       1\nName: merged_id, Length: 171, dtype: int64"
     },
     "execution_count": 86,
     "metadata": {},
     "output_type": "execute_result"
    }
   ],
   "source": [
    "df.groupby('l1_pred')['merged_id'].agg('count').sort_values(ascending=False)"
   ],
   "metadata": {
    "collapsed": false,
    "pycharm": {
     "name": "#%%\n"
    }
   }
  },
  {
   "cell_type": "code",
   "execution_count": 92,
   "outputs": [
    {
     "name": "stdout",
     "output_type": "stream",
     "text": [
      "                         precision    recall  f1-score   support\n",
      "\n",
      "        Library science       0.95      0.52      0.67      1080\n",
      "       Computer network       0.98      0.09      0.16      4260\n",
      "Artificial intelligence       0.89      0.10      0.19      2170\n",
      "       Operating system       0.68      0.52      0.59       478\n",
      "\n",
      "              micro avg       0.88      0.18      0.29      7988\n",
      "              macro avg       0.87      0.31      0.40      7988\n",
      "           weighted avg       0.93      0.18      0.26      7988\n",
      "\n"
     ]
    }
   ],
   "source": [
    "from sklearn.metrics import classification_report\n",
    "df = df.query(\"display_name != 'Telecommunications'\")\n",
    "df = df.query(\"display_name != 'Information retrieval'\")\n",
    "labels = df['display_name'].unique()\n",
    "print(classification_report(df['display_name'], df['l1_pred'], labels=labels))"
   ],
   "metadata": {
    "collapsed": false,
    "pycharm": {
     "name": "#%%\n"
    }
   }
  },
  {
   "cell_type": "code",
   "execution_count": 94,
   "outputs": [],
   "source": [
    "counts = df.groupby(['display_name', 'l1_pred'], as_index=False)[['merged_id']].\\\n",
    "    agg('count').sort_values(['display_name', 'merged_id'], ascending=False)\n",
    "counts.to_csv(\"cnki_mag_pred_counts.csv\", index=False)"
   ],
   "metadata": {
    "collapsed": false,
    "pycharm": {
     "name": "#%%\n"
    }
   }
  }
 ],
 "metadata": {
  "kernelspec": {
   "display_name": "Python 3",
   "language": "python",
   "name": "python3"
  },
  "language_info": {
   "codemirror_mode": {
    "name": "ipython",
    "version": 2
   },
   "file_extension": ".py",
   "mimetype": "text/x-python",
   "name": "python",
   "nbconvert_exporter": "python",
   "pygments_lexer": "ipython2",
   "version": "2.7.6"
  }
 },
 "nbformat": 4,
 "nbformat_minor": 0
}