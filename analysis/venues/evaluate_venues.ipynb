{
 "cells": [
  {
   "cell_type": "code",
   "execution_count": 4,
   "metadata": {
    "collapsed": true
   },
   "outputs": [],
   "source": [
    "import pandas as pd\n",
    "from fos.util import preprocess\n",
    "\n",
    "from fos.settings import ASSETS_DIR\n",
    "\n",
    "meta = pd.read_pickle(ASSETS_DIR / \"fields/fos.pkl.gz\")\n",
    "meta.index = meta.index.astype(int)\n",
    "id_to_name = meta.query(\"level == 0\")[\"display_name\"].to_dict()\n",
    "\n",
    "from fos.model import FieldModel\n",
    "field_model = FieldModel('en')\n",
    "\n",
    "venues = pd.read_json('ai_venue_text.jsonl', lines=True)"
   ]
  },
  {
   "cell_type": "code",
   "execution_count": 7,
   "outputs": [],
   "source": [
    "venues.columns, venues.head()\n",
    "venue_samples = {}\n",
    "for scholar_cat, df in venues.groupby('scholar_cat'):\n",
    "    venue_samples[scholar_cat] = df.sample(min(df.shape[0], 1_000), random_state=20220323)"
   ],
   "metadata": {
    "collapsed": false,
    "pycharm": {
     "name": "#%%\n"
    }
   }
  },
  {
   "cell_type": "code",
   "execution_count": 8,
   "outputs": [
    {
     "data": {
      "text/plain": "[1000, 1000, 1000, 1000, 1000, 1000, 1000, 1000, 1000, 1000]"
     },
     "execution_count": 8,
     "metadata": {},
     "output_type": "execute_result"
    }
   ],
   "source": [
    "[df.shape[0] for df in venue_samples.values()]"
   ],
   "metadata": {
    "collapsed": false,
    "pycharm": {
     "name": "#%%\n"
    }
   }
  },
  {
   "cell_type": "code",
   "execution_count": 44,
   "outputs": [],
   "source": [
    "def score(text,\n",
    "          field_model: FieldModel,\n",
    "          field_meta: pd.DataFrame,\n",
    "          preprocess_text=False,\n",
    "          lang='en'):\n",
    "    if preprocess_text:\n",
    "        text = preprocess(text, lang)\n",
    "    vector = field_model.embed(text)\n",
    "    score = field_model.score(vector)\n",
    "    avg_score = score.average()\n",
    "    assert len(field_model.index) == len(avg_score)\n",
    "    return {field_meta.loc[int(k), 'display_name']: v for k, v in zip(field_model.index, avg_score)}\n",
    "\n",
    "def ordered_names(fields):\n",
    "    return dict(sorted(fields.items(), key=lambda x: x[1], reverse=True))\n",
    "\n",
    "def keep_l0(fields):\n",
    "    l0_names = meta.loc[meta['level'] == 0, 'display_name'].values\n",
    "    return {k: v for k, v in fields.items() if k in l0_names}\n",
    "\n",
    "def keep_l1(fields):\n",
    "    l1_names = meta.loc[meta['level'] == 1, 'display_name'].values\n",
    "    return {k: v for k, v in fields.items() if k in l1_names}"
   ],
   "metadata": {
    "collapsed": false,
    "pycharm": {
     "name": "#%%\n"
    }
   }
  },
  {
   "cell_type": "code",
   "execution_count": 60,
   "outputs": [
    {
     "name": "stderr",
     "output_type": "stream",
     "text": [
      "100%|██████████| 10/10 [03:43<00:00, 22.30s/it]\n"
     ]
    }
   ],
   "source": [
    "from tqdm import tqdm\n",
    "\n",
    "for cat, df in tqdm(venue_samples.items()):\n",
    "    df['fields'] = df['text'].apply(score, field_model=field_model, field_meta=meta)"
   ],
   "metadata": {
    "collapsed": false,
    "pycharm": {
     "name": "#%%\n"
    }
   }
  },
  {
   "cell_type": "code",
   "execution_count": 61,
   "outputs": [],
   "source": [
    "def process_scores(df):\n",
    "    df['field_names'] = df['fields'].apply(ordered_names)\n",
    "    df['l0'] = df['field_names'].apply(keep_l0).apply(lambda x: [k for k, v in sorted(x.items(), key=lambda y: y[1], reverse=True)])\n",
    "    df['l1'] = df['field_names'].apply(keep_l1).apply(lambda x: [k for k, v in sorted(x.items(), key=lambda y: y[1], reverse=True)])\n",
    "    for level in [0, 1]:\n",
    "        for k in range(3):\n",
    "            df[f'l{level}_k{k+1}'] = df[f'l{level}'].apply(lambda x: x[k])\n",
    "    return df\n",
    "\n",
    "for cat, df in venue_samples.items():\n",
    "    venue_samples[cat] = process_scores(df)"
   ],
   "metadata": {
    "collapsed": false,
    "pycharm": {
     "name": "#%%\n"
    }
   }
  },
  {
   "cell_type": "code",
   "execution_count": 65,
   "outputs": [
    {
     "data": {
      "text/plain": "('med_virology',\n l1_k1\n Virology               488\n Immunology             103\n Cell biology            84\n Molecular biology       36\n Genetics                24\n                       ... \n Internet privacy         1\n Literature               1\n Medical emergency        1\n Medicinal chemistry      1\n Gynecology               1\n Name: id, Length: 87, dtype: int64)"
     },
     "execution_count": 65,
     "metadata": {},
     "output_type": "execute_result"
    }
   ],
   "source": [
    "cat, df.groupby(['l1_k1'])['id'].agg('count').sort_values(ascending=False)"
   ],
   "metadata": {
    "collapsed": false,
    "pycharm": {
     "name": "#%%\n"
    }
   }
  },
  {
   "cell_type": "code",
   "execution_count": 69,
   "outputs": [
    {
     "data": {
      "text/plain": "           id              scholar_cat  \\\n0  2744039113  bio_agronomycropscience   \n1  2991192488  bio_agronomycropscience   \n2  2520437996  bio_agronomycropscience   \n3  3130483981  bio_agronomycropscience   \n4  2343019514  bio_agronomycropscience   \n\n                               journal_name  year  \\\n0             Industrial Crops and Products  2016   \n1  Computers and Electronics in Agriculture  2020   \n2                      Field Crops Research  2016   \n3          Theoretical and Applied Genetics  2021   \n4                    Scientia Horticulturae  2016   \n\n                                                text  \\\n0                                    powered by nict   \n1  hybrid extreme learning machine with metaheuri...   \n2  n and s concentration and stoichiometry in soy...   \n3  genotyping crossing parents and family bulks c...   \n4  effect of highly processed calcined kaolin res...   \n\n                                              fields  \\\n0  {'Industrial organization': 0.1760948600414657...   \n1  {'Industrial organization': 0.6385366394218659...   \n2  {'Industrial organization': 0.3171993576008785...   \n3  {'Industrial organization': 0.6401885717449108...   \n4  {'Industrial organization': 0.6312849544750182...   \n\n                                        named_fields  \\\n0  [Gynecology, Hydrology, Systems engineering, E...   \n1  [Gynecology, Hydrology, Systems engineering, E...   \n2  [Gynecology, Hydrology, Systems engineering, E...   \n3  [Gynecology, Hydrology, Systems engineering, E...   \n4  [Gynecology, Hydrology, Systems engineering, E...   \n\n                                         field_names  \\\n0  {'Embedded system': 0.20845264613976014, 'Elec...   \n1  {'Machine learning': 0.7251366770152661, 'Algo...   \n2  {'Biology': 0.3488822570079546, 'Geology': 0.3...   \n3  {'Bioinformatics': 0.696970277990277, 'Biology...   \n4  {'Biology': 0.6809966859453974, 'Botany': 0.67...   \n\n                                                  l0  \\\n0  [Computer science, Engineering, Physics, Mater...   \n1  [Computer science, Mathematics, Physics, Geolo...   \n2  [Biology, Geology, Chemistry, Medicine, Geogra...   \n3  [Biology, Computer science, Engineering, Medic...   \n4  [Biology, Environmental science, Geology, Chem...   \n\n                                                  l1             l0_k1  \\\n0  [Embedded system, Electrical engineering, Aero...  Computer science   \n1  [Machine learning, Algorithm, Pattern recognit...  Computer science   \n2  [Botany, Economic growth, Geochemistry, Biotec...           Biology   \n3  [Bioinformatics, Simulation, Genetics, Genealo...           Biology   \n4  [Botany, Water resource management, Environmen...           Biology   \n\n                   l0_k2        l0_k3             l1_k1  \\\n0            Engineering      Physics   Embedded system   \n1            Mathematics      Physics  Machine learning   \n2                Geology    Chemistry            Botany   \n3       Computer science  Engineering    Bioinformatics   \n4  Environmental science      Geology            Botany   \n\n                       l1_k2                      l1_k3  \n0     Electrical engineering                Aeronautics  \n1                  Algorithm        Pattern recognition  \n2            Economic growth               Geochemistry  \n3                 Simulation                   Genetics  \n4  Water resource management  Environmental engineering  ",
      "text/html": "<div>\n<style scoped>\n    .dataframe tbody tr th:only-of-type {\n        vertical-align: middle;\n    }\n\n    .dataframe tbody tr th {\n        vertical-align: top;\n    }\n\n    .dataframe thead th {\n        text-align: right;\n    }\n</style>\n<table border=\"1\" class=\"dataframe\">\n  <thead>\n    <tr style=\"text-align: right;\">\n      <th></th>\n      <th>id</th>\n      <th>scholar_cat</th>\n      <th>journal_name</th>\n      <th>year</th>\n      <th>text</th>\n      <th>fields</th>\n      <th>named_fields</th>\n      <th>field_names</th>\n      <th>l0</th>\n      <th>l1</th>\n      <th>l0_k1</th>\n      <th>l0_k2</th>\n      <th>l0_k3</th>\n      <th>l1_k1</th>\n      <th>l1_k2</th>\n      <th>l1_k3</th>\n    </tr>\n  </thead>\n  <tbody>\n    <tr>\n      <th>0</th>\n      <td>2744039113</td>\n      <td>bio_agronomycropscience</td>\n      <td>Industrial Crops and Products</td>\n      <td>2016</td>\n      <td>powered by nict</td>\n      <td>{'Industrial organization': 0.1760948600414657...</td>\n      <td>[Gynecology, Hydrology, Systems engineering, E...</td>\n      <td>{'Embedded system': 0.20845264613976014, 'Elec...</td>\n      <td>[Computer science, Engineering, Physics, Mater...</td>\n      <td>[Embedded system, Electrical engineering, Aero...</td>\n      <td>Computer science</td>\n      <td>Engineering</td>\n      <td>Physics</td>\n      <td>Embedded system</td>\n      <td>Electrical engineering</td>\n      <td>Aeronautics</td>\n    </tr>\n    <tr>\n      <th>1</th>\n      <td>2991192488</td>\n      <td>bio_agronomycropscience</td>\n      <td>Computers and Electronics in Agriculture</td>\n      <td>2020</td>\n      <td>hybrid extreme learning machine with metaheuri...</td>\n      <td>{'Industrial organization': 0.6385366394218659...</td>\n      <td>[Gynecology, Hydrology, Systems engineering, E...</td>\n      <td>{'Machine learning': 0.7251366770152661, 'Algo...</td>\n      <td>[Computer science, Mathematics, Physics, Geolo...</td>\n      <td>[Machine learning, Algorithm, Pattern recognit...</td>\n      <td>Computer science</td>\n      <td>Mathematics</td>\n      <td>Physics</td>\n      <td>Machine learning</td>\n      <td>Algorithm</td>\n      <td>Pattern recognition</td>\n    </tr>\n    <tr>\n      <th>2</th>\n      <td>2520437996</td>\n      <td>bio_agronomycropscience</td>\n      <td>Field Crops Research</td>\n      <td>2016</td>\n      <td>n and s concentration and stoichiometry in soy...</td>\n      <td>{'Industrial organization': 0.3171993576008785...</td>\n      <td>[Gynecology, Hydrology, Systems engineering, E...</td>\n      <td>{'Biology': 0.3488822570079546, 'Geology': 0.3...</td>\n      <td>[Biology, Geology, Chemistry, Medicine, Geogra...</td>\n      <td>[Botany, Economic growth, Geochemistry, Biotec...</td>\n      <td>Biology</td>\n      <td>Geology</td>\n      <td>Chemistry</td>\n      <td>Botany</td>\n      <td>Economic growth</td>\n      <td>Geochemistry</td>\n    </tr>\n    <tr>\n      <th>3</th>\n      <td>3130483981</td>\n      <td>bio_agronomycropscience</td>\n      <td>Theoretical and Applied Genetics</td>\n      <td>2021</td>\n      <td>genotyping crossing parents and family bulks c...</td>\n      <td>{'Industrial organization': 0.6401885717449108...</td>\n      <td>[Gynecology, Hydrology, Systems engineering, E...</td>\n      <td>{'Bioinformatics': 0.696970277990277, 'Biology...</td>\n      <td>[Biology, Computer science, Engineering, Medic...</td>\n      <td>[Bioinformatics, Simulation, Genetics, Genealo...</td>\n      <td>Biology</td>\n      <td>Computer science</td>\n      <td>Engineering</td>\n      <td>Bioinformatics</td>\n      <td>Simulation</td>\n      <td>Genetics</td>\n    </tr>\n    <tr>\n      <th>4</th>\n      <td>2343019514</td>\n      <td>bio_agronomycropscience</td>\n      <td>Scientia Horticulturae</td>\n      <td>2016</td>\n      <td>effect of highly processed calcined kaolin res...</td>\n      <td>{'Industrial organization': 0.6312849544750182...</td>\n      <td>[Gynecology, Hydrology, Systems engineering, E...</td>\n      <td>{'Biology': 0.6809966859453974, 'Botany': 0.67...</td>\n      <td>[Biology, Environmental science, Geology, Chem...</td>\n      <td>[Botany, Water resource management, Environmen...</td>\n      <td>Biology</td>\n      <td>Environmental science</td>\n      <td>Geology</td>\n      <td>Botany</td>\n      <td>Water resource management</td>\n      <td>Environmental engineering</td>\n    </tr>\n  </tbody>\n</table>\n</div>"
     },
     "execution_count": 69,
     "metadata": {},
     "output_type": "execute_result"
    }
   ],
   "source": [
    "cats = pd.concat(venue_samples, ignore_index=True)\n",
    "cats.head()"
   ],
   "metadata": {
    "collapsed": false,
    "pycharm": {
     "name": "#%%\n"
    }
   }
  },
  {
   "cell_type": "code",
   "execution_count": 106,
   "outputs": [
    {
     "data": {
      "text/plain": "                 scholar_cat                  l0_k1   id\n0    bio_agronomycropscience                Biology  586\n1    bio_agronomycropscience  Environmental science  157\n2    bio_agronomycropscience              Chemistry   82\n3    bio_agronomycropscience                Geology   75\n4    bio_agronomycropscience       Computer science   38\n..                       ...                    ...  ...\n162             med_virology            Mathematics    1\n163             med_virology      Materials science    1\n164             med_virology             Philosophy    1\n165             med_virology            Engineering    1\n166             med_virology              Sociology    1\n\n[167 rows x 3 columns]",
      "text/html": "<div>\n<style scoped>\n    .dataframe tbody tr th:only-of-type {\n        vertical-align: middle;\n    }\n\n    .dataframe tbody tr th {\n        vertical-align: top;\n    }\n\n    .dataframe thead th {\n        text-align: right;\n    }\n</style>\n<table border=\"1\" class=\"dataframe\">\n  <thead>\n    <tr style=\"text-align: right;\">\n      <th></th>\n      <th>scholar_cat</th>\n      <th>l0_k1</th>\n      <th>id</th>\n    </tr>\n  </thead>\n  <tbody>\n    <tr>\n      <th>0</th>\n      <td>bio_agronomycropscience</td>\n      <td>Biology</td>\n      <td>586</td>\n    </tr>\n    <tr>\n      <th>1</th>\n      <td>bio_agronomycropscience</td>\n      <td>Environmental science</td>\n      <td>157</td>\n    </tr>\n    <tr>\n      <th>2</th>\n      <td>bio_agronomycropscience</td>\n      <td>Chemistry</td>\n      <td>82</td>\n    </tr>\n    <tr>\n      <th>3</th>\n      <td>bio_agronomycropscience</td>\n      <td>Geology</td>\n      <td>75</td>\n    </tr>\n    <tr>\n      <th>4</th>\n      <td>bio_agronomycropscience</td>\n      <td>Computer science</td>\n      <td>38</td>\n    </tr>\n    <tr>\n      <th>...</th>\n      <td>...</td>\n      <td>...</td>\n      <td>...</td>\n    </tr>\n    <tr>\n      <th>162</th>\n      <td>med_virology</td>\n      <td>Mathematics</td>\n      <td>1</td>\n    </tr>\n    <tr>\n      <th>163</th>\n      <td>med_virology</td>\n      <td>Materials science</td>\n      <td>1</td>\n    </tr>\n    <tr>\n      <th>164</th>\n      <td>med_virology</td>\n      <td>Philosophy</td>\n      <td>1</td>\n    </tr>\n    <tr>\n      <th>165</th>\n      <td>med_virology</td>\n      <td>Engineering</td>\n      <td>1</td>\n    </tr>\n    <tr>\n      <th>166</th>\n      <td>med_virology</td>\n      <td>Sociology</td>\n      <td>1</td>\n    </tr>\n  </tbody>\n</table>\n<p>167 rows × 3 columns</p>\n</div>"
     },
     "execution_count": 106,
     "metadata": {},
     "output_type": "execute_result"
    }
   ],
   "source": [
    "def summarize(cats, col='l0_k1'):\n",
    "    df = cats.copy()\n",
    "    counts = df.groupby(['scholar_cat', col], as_index=False)[['id']].agg('count')\n",
    "    counts = counts.groupby('scholar_cat').apply(lambda x: x.sort_values('id', ascending=False))\n",
    "    counts = counts.reset_index(drop=True).reset_index(drop=True)\n",
    "    return counts\n",
    "\n",
    "l0_counts = summarize(cats, 'l0_k1')\n",
    "l0_counts"
   ],
   "metadata": {
    "collapsed": false,
    "pycharm": {
     "name": "#%%\n"
    }
   }
  },
  {
   "cell_type": "code",
   "execution_count": 105,
   "outputs": [],
   "source": [
    "l0_counts.set_index('scholar_cat').to_csv('venue_l0_counts.csv')"
   ],
   "metadata": {
    "collapsed": false,
    "pycharm": {
     "name": "#%%\n"
    }
   }
  },
  {
   "cell_type": "code",
   "execution_count": 107,
   "outputs": [
    {
     "data": {
      "text/plain": "                  scholar_cat                      l1_k1   id\n0     bio_agronomycropscience                     Botany  223\n1     bio_agronomycropscience               Soil science  118\n2     bio_agronomycropscience                   Genetics   84\n3     bio_agronomycropscience                   Agronomy   52\n4     bio_agronomycropscience  Water resource management   46\n...                       ...                        ...  ...\n1042             med_virology           Internet privacy    1\n1043             med_virology                 Literature    1\n1044             med_virology          Medical emergency    1\n1045             med_virology        Medicinal chemistry    1\n1046             med_virology                 Gynecology    1\n\n[1047 rows x 3 columns]",
      "text/html": "<div>\n<style scoped>\n    .dataframe tbody tr th:only-of-type {\n        vertical-align: middle;\n    }\n\n    .dataframe tbody tr th {\n        vertical-align: top;\n    }\n\n    .dataframe thead th {\n        text-align: right;\n    }\n</style>\n<table border=\"1\" class=\"dataframe\">\n  <thead>\n    <tr style=\"text-align: right;\">\n      <th></th>\n      <th>scholar_cat</th>\n      <th>l1_k1</th>\n      <th>id</th>\n    </tr>\n  </thead>\n  <tbody>\n    <tr>\n      <th>0</th>\n      <td>bio_agronomycropscience</td>\n      <td>Botany</td>\n      <td>223</td>\n    </tr>\n    <tr>\n      <th>1</th>\n      <td>bio_agronomycropscience</td>\n      <td>Soil science</td>\n      <td>118</td>\n    </tr>\n    <tr>\n      <th>2</th>\n      <td>bio_agronomycropscience</td>\n      <td>Genetics</td>\n      <td>84</td>\n    </tr>\n    <tr>\n      <th>3</th>\n      <td>bio_agronomycropscience</td>\n      <td>Agronomy</td>\n      <td>52</td>\n    </tr>\n    <tr>\n      <th>4</th>\n      <td>bio_agronomycropscience</td>\n      <td>Water resource management</td>\n      <td>46</td>\n    </tr>\n    <tr>\n      <th>...</th>\n      <td>...</td>\n      <td>...</td>\n      <td>...</td>\n    </tr>\n    <tr>\n      <th>1042</th>\n      <td>med_virology</td>\n      <td>Internet privacy</td>\n      <td>1</td>\n    </tr>\n    <tr>\n      <th>1043</th>\n      <td>med_virology</td>\n      <td>Literature</td>\n      <td>1</td>\n    </tr>\n    <tr>\n      <th>1044</th>\n      <td>med_virology</td>\n      <td>Medical emergency</td>\n      <td>1</td>\n    </tr>\n    <tr>\n      <th>1045</th>\n      <td>med_virology</td>\n      <td>Medicinal chemistry</td>\n      <td>1</td>\n    </tr>\n    <tr>\n      <th>1046</th>\n      <td>med_virology</td>\n      <td>Gynecology</td>\n      <td>1</td>\n    </tr>\n  </tbody>\n</table>\n<p>1047 rows × 3 columns</p>\n</div>"
     },
     "execution_count": 107,
     "metadata": {},
     "output_type": "execute_result"
    }
   ],
   "source": [
    "l1_counts = summarize(cats, 'l1_k1')\n",
    "l1_counts"
   ],
   "metadata": {
    "collapsed": false,
    "pycharm": {
     "name": "#%%\n"
    }
   }
  },
  {
   "cell_type": "code",
   "execution_count": 108,
   "outputs": [],
   "source": [
    "l1_counts.set_index('scholar_cat').to_csv('venue_l1_counts.csv')"
   ],
   "metadata": {
    "collapsed": false,
    "pycharm": {
     "name": "#%%\n"
    }
   }
  },
  {
   "cell_type": "code",
   "execution_count": 137,
   "outputs": [],
   "source": [
    "def summarize_journals(cats, col='l1_k1'):\n",
    "    df = cats.copy()\n",
    "    counts = df.groupby(['scholar_cat', 'journal_name', col], as_index=False)[['id']].agg('count')\n",
    "    counts = counts.groupby(['scholar_cat', 'journal_name']).apply(lambda x: x.sort_values('id', ascending=False))\n",
    "    counts = counts.reset_index(drop=True).reset_index(drop=True)\n",
    "    return counts\n",
    "\n",
    "j_counts = summarize_journals(cats)\n",
    "j_counts['prop'] = j_counts.groupby(['scholar_cat', 'journal_name'])['id'].apply(lambda x: x / x.sum())\n",
    "j_counts['total'] = j_counts.groupby(['scholar_cat', 'journal_name'])['id'].apply(lambda x: x.apply(lambda y: x.sum()))\n",
    "j_counts = j_counts.query('total >= 100')\n",
    "j_counts = j_counts.rename(columns={'id': 'n'})\n",
    "j_counts.to_csv('journal_l1_counts.csv', float_format='%.2f')\n",
    "\n",
    "heads = {}\n",
    "for idx, df in j_counts.groupby(['scholar_cat', 'journal_name']):\n",
    "    heads[idx] = df.iloc[:(min(df.shape[0], 5))][['l1_k1', 'prop', 'total']]\n",
    "j_heads = pd.concat(heads).reset_index(level=2, drop=True)\n",
    "j_heads.to_csv('journal_l1_counts_truncated.csv', float_format='%.2f')"
   ],
   "metadata": {
    "collapsed": false,
    "pycharm": {
     "name": "#%%\n"
    }
   }
  },
  {
   "cell_type": "code",
   "execution_count": 136,
   "outputs": [
    {
     "data": {
      "text/plain": "                  scholar_cat                   journal_name  \\\n154   bio_agronomycropscience  Industrial Crops and Products   \n155   bio_agronomycropscience  Industrial Crops and Products   \n156   bio_agronomycropscience  Industrial Crops and Products   \n157   bio_agronomycropscience  Industrial Crops and Products   \n158   bio_agronomycropscience  Industrial Crops and Products   \n...                       ...                            ...   \n2748             med_virology                        Vaccine   \n2749             med_virology                        Vaccine   \n2750             med_virology                        Vaccine   \n2751             med_virology                        Vaccine   \n2752             med_virology                        Vaccine   \n\n                                  l1_k1   n      prop  total  \n154                              Botany  34  0.225166    151  \n155                  Composite material  16  0.105960    151  \n156                        Biochemistry  15  0.099338    151  \n157                   Nuclear chemistry  14  0.092715    151  \n158                   Organic chemistry   7  0.046358    151  \n...                                 ...  ..       ...    ...  \n2748             Environmental planning   1  0.005682    176  \n2749  Environmental resource management   1  0.005682    176  \n2750                     Gender studies   1  0.005682    176  \n2751               Knowledge management   1  0.005682    176  \n2752            International economics   1  0.005682    176  \n\n[1440 rows x 6 columns]",
      "text/html": "<div>\n<style scoped>\n    .dataframe tbody tr th:only-of-type {\n        vertical-align: middle;\n    }\n\n    .dataframe tbody tr th {\n        vertical-align: top;\n    }\n\n    .dataframe thead th {\n        text-align: right;\n    }\n</style>\n<table border=\"1\" class=\"dataframe\">\n  <thead>\n    <tr style=\"text-align: right;\">\n      <th></th>\n      <th>scholar_cat</th>\n      <th>journal_name</th>\n      <th>l1_k1</th>\n      <th>n</th>\n      <th>prop</th>\n      <th>total</th>\n    </tr>\n  </thead>\n  <tbody>\n    <tr>\n      <th>154</th>\n      <td>bio_agronomycropscience</td>\n      <td>Industrial Crops and Products</td>\n      <td>Botany</td>\n      <td>34</td>\n      <td>0.225166</td>\n      <td>151</td>\n    </tr>\n    <tr>\n      <th>155</th>\n      <td>bio_agronomycropscience</td>\n      <td>Industrial Crops and Products</td>\n      <td>Composite material</td>\n      <td>16</td>\n      <td>0.105960</td>\n      <td>151</td>\n    </tr>\n    <tr>\n      <th>156</th>\n      <td>bio_agronomycropscience</td>\n      <td>Industrial Crops and Products</td>\n      <td>Biochemistry</td>\n      <td>15</td>\n      <td>0.099338</td>\n      <td>151</td>\n    </tr>\n    <tr>\n      <th>157</th>\n      <td>bio_agronomycropscience</td>\n      <td>Industrial Crops and Products</td>\n      <td>Nuclear chemistry</td>\n      <td>14</td>\n      <td>0.092715</td>\n      <td>151</td>\n    </tr>\n    <tr>\n      <th>158</th>\n      <td>bio_agronomycropscience</td>\n      <td>Industrial Crops and Products</td>\n      <td>Organic chemistry</td>\n      <td>7</td>\n      <td>0.046358</td>\n      <td>151</td>\n    </tr>\n    <tr>\n      <th>...</th>\n      <td>...</td>\n      <td>...</td>\n      <td>...</td>\n      <td>...</td>\n      <td>...</td>\n      <td>...</td>\n    </tr>\n    <tr>\n      <th>2748</th>\n      <td>med_virology</td>\n      <td>Vaccine</td>\n      <td>Environmental planning</td>\n      <td>1</td>\n      <td>0.005682</td>\n      <td>176</td>\n    </tr>\n    <tr>\n      <th>2749</th>\n      <td>med_virology</td>\n      <td>Vaccine</td>\n      <td>Environmental resource management</td>\n      <td>1</td>\n      <td>0.005682</td>\n      <td>176</td>\n    </tr>\n    <tr>\n      <th>2750</th>\n      <td>med_virology</td>\n      <td>Vaccine</td>\n      <td>Gender studies</td>\n      <td>1</td>\n      <td>0.005682</td>\n      <td>176</td>\n    </tr>\n    <tr>\n      <th>2751</th>\n      <td>med_virology</td>\n      <td>Vaccine</td>\n      <td>Knowledge management</td>\n      <td>1</td>\n      <td>0.005682</td>\n      <td>176</td>\n    </tr>\n    <tr>\n      <th>2752</th>\n      <td>med_virology</td>\n      <td>Vaccine</td>\n      <td>International economics</td>\n      <td>1</td>\n      <td>0.005682</td>\n      <td>176</td>\n    </tr>\n  </tbody>\n</table>\n<p>1440 rows × 6 columns</p>\n</div>"
     },
     "execution_count": 136,
     "metadata": {},
     "output_type": "execute_result"
    }
   ],
   "source": [
    "j_counts"
   ],
   "metadata": {
    "collapsed": false,
    "pycharm": {
     "name": "#%%\n"
    }
   }
  }
 ],
 "metadata": {
  "kernelspec": {
   "display_name": "Python 3",
   "language": "python",
   "name": "python3"
  },
  "language_info": {
   "codemirror_mode": {
    "name": "ipython",
    "version": 2
   },
   "file_extension": ".py",
   "mimetype": "text/x-python",
   "name": "python",
   "nbconvert_exporter": "python",
   "pygments_lexer": "ipython2",
   "version": "2.7.6"
  }
 },
 "nbformat": 4,
 "nbformat_minor": 0
}