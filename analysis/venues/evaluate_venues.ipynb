{
 "cells": [
  {
   "cell_type": "code",
   "execution_count": 4,
   "metadata": {
    "collapsed": true
   },
   "outputs": [],
   "source": [
    "import pandas as pd\n",
    "from fos.util import preprocess\n",
    "\n",
    "from fos.settings import ASSETS_DIR\n",
    "\n",
    "meta = pd.read_pickle(ASSETS_DIR / \"fields/fos.pkl.gz\")\n",
    "meta.index = meta.index.astype(int)\n",
    "id_to_name = meta.query(\"level == 0\")[\"display_name\"].to_dict()\n",
    "\n",
    "from fos.model import FieldModel\n",
    "field_model = FieldModel('en')\n",
    "\n",
    "venues = pd.read_json('ai_venue_text.jsonl', lines=True)"
   ]
  },
  {
   "cell_type": "code",
   "execution_count": 7,
   "outputs": [],
   "source": [
    "venues.columns, venues.head()\n",
    "venue_samples = {}\n",
    "for scholar_cat, df in venues.groupby('scholar_cat'):\n",
    "    venue_samples[scholar_cat] = df.sample(min(df.shape[0], 1_000), random_state=20220323)"
   ],
   "metadata": {
    "collapsed": false,
    "pycharm": {
     "name": "#%%\n"
    }
   }
  },
  {
   "cell_type": "code",
   "execution_count": 8,
   "outputs": [
    {
     "data": {
      "text/plain": "[1000, 1000, 1000, 1000, 1000, 1000, 1000, 1000, 1000, 1000]"
     },
     "execution_count": 8,
     "metadata": {},
     "output_type": "execute_result"
    }
   ],
   "source": [
    "[df.shape[0] for df in venue_samples.values()]"
   ],
   "metadata": {
    "collapsed": false,
    "pycharm": {
     "name": "#%%\n"
    }
   }
  },
  {
   "cell_type": "code",
   "execution_count": 44,
   "outputs": [],
   "source": [
    "def score(text,\n",
    "          field_model: FieldModel,\n",
    "          field_meta: pd.DataFrame,\n",
    "          preprocess_text=False,\n",
    "          lang='en'):\n",
    "    if preprocess_text:\n",
    "        text = preprocess(text, lang)\n",
    "    vector = field_model.embed(text)\n",
    "    score = field_model.score(vector)\n",
    "    avg_score = score.average()\n",
    "    assert len(field_model.index) == len(avg_score)\n",
    "    return {field_meta.loc[int(k), 'display_name']: v for k, v in zip(field_model.index, avg_score)}\n",
    "\n",
    "def ordered_names(fields):\n",
    "    return dict(sorted(fields.items(), key=lambda x: x[1], reverse=True))\n",
    "\n",
    "def keep_l0(fields):\n",
    "    l0_names = meta.loc[meta['level'] == 0, 'display_name'].values\n",
    "    return {k: v for k, v in fields.items() if k in l0_names}\n",
    "\n",
    "def keep_l1(fields):\n",
    "    l1_names = meta.loc[meta['level'] == 1, 'display_name'].values\n",
    "    return {k: v for k, v in fields.items() if k in l1_names}"
   ],
   "metadata": {
    "collapsed": false,
    "pycharm": {
     "name": "#%%\n"
    }
   }
  },
  {
   "cell_type": "code",
   "execution_count": 60,
   "outputs": [
    {
     "name": "stderr",
     "output_type": "stream",
     "text": [
      "100%|██████████| 10/10 [03:43<00:00, 22.30s/it]\n"
     ]
    }
   ],
   "source": [
    "from tqdm import tqdm\n",
    "\n",
    "for cat, df in tqdm(venue_samples.items()):\n",
    "    df['fields'] = df['text'].apply(score, field_model=field_model, field_meta=meta)"
   ],
   "metadata": {
    "collapsed": false,
    "pycharm": {
     "name": "#%%\n"
    }
   }
  },
  {
   "cell_type": "code",
   "execution_count": 61,
   "outputs": [],
   "source": [
    "def process_scores(df):\n",
    "    df['field_names'] = df['fields'].apply(ordered_names)\n",
    "    df['l0'] = df['field_names'].apply(keep_l0).apply(lambda x: [k for k, v in sorted(x.items(), key=lambda y: y[1], reverse=True)])\n",
    "    df['l1'] = df['field_names'].apply(keep_l1).apply(lambda x: [k for k, v in sorted(x.items(), key=lambda y: y[1], reverse=True)])\n",
    "    for level in [0, 1]:\n",
    "        for k in range(3):\n",
    "            df[f'l{level}_k{k+1}'] = df[f'l{level}'].apply(lambda x: x[k])\n",
    "    return df\n",
    "\n",
    "for cat, df in venue_samples.items():\n",
    "    venue_samples[cat] = process_scores(df)"
   ],
   "metadata": {
    "collapsed": false,
    "pycharm": {
     "name": "#%%\n"
    }
   }
  },
  {
   "cell_type": "code",
   "execution_count": 65,
   "outputs": [
    {
     "data": {
      "text/plain": "('med_virology',\n l1_k1\n Virology               488\n Immunology             103\n Cell biology            84\n Molecular biology       36\n Genetics                24\n                       ... \n Internet privacy         1\n Literature               1\n Medical emergency        1\n Medicinal chemistry      1\n Gynecology               1\n Name: id, Length: 87, dtype: int64)"
     },
     "execution_count": 65,
     "metadata": {},
     "output_type": "execute_result"
    }
   ],
   "source": [
    "cat, df.groupby(['l1_k1'])['id'].agg('count').sort_values(ascending=False)"
   ],
   "metadata": {
    "collapsed": false,
    "pycharm": {
     "name": "#%%\n"
    }
   }
  },
  {
   "cell_type": "code",
   "execution_count": 69,
   "outputs": [
    {
     "data": {
      "text/plain": "           id              scholar_cat  \\\n0  2744039113  bio_agronomycropscience   \n1  2991192488  bio_agronomycropscience   \n2  2520437996  bio_agronomycropscience   \n3  3130483981  bio_agronomycropscience   \n4  2343019514  bio_agronomycropscience   \n\n                               journal_name  year  \\\n0             Industrial Crops and Products  2016   \n1  Computers and Electronics in Agriculture  2020   \n2                      Field Crops Research  2016   \n3          Theoretical and Applied Genetics  2021   \n4                    Scientia Horticulturae  2016   \n\n                                                text  \\\n0                                    powered by nict   \n1  hybrid extreme learning machine with metaheuri...   \n2  n and s concentration and stoichiometry in soy...   \n3  genotyping crossing parents and family bulks c...   \n4  effect of highly processed calcined kaolin res...   \n\n                                              fields  \\\n0  {'Industrial organization': 0.1760948600414657...   \n1  {'Industrial organization': 0.6385366394218659...   \n2  {'Industrial organization': 0.3171993576008785...   \n3  {'Industrial organization': 0.6401885717449108...   \n4  {'Industrial organization': 0.6312849544750182...   \n\n                                        named_fields  \\\n0  [Gynecology, Hydrology, Systems engineering, E...   \n1  [Gynecology, Hydrology, Systems engineering, E...   \n2  [Gynecology, Hydrology, Systems engineering, E...   \n3  [Gynecology, Hydrology, Systems engineering, E...   \n4  [Gynecology, Hydrology, Systems engineering, E...   \n\n                                         field_names  \\\n0  {'Embedded system': 0.20845264613976014, 'Elec...   \n1  {'Machine learning': 0.7251366770152661, 'Algo...   \n2  {'Biology': 0.3488822570079546, 'Geology': 0.3...   \n3  {'Bioinformatics': 0.696970277990277, 'Biology...   \n4  {'Biology': 0.6809966859453974, 'Botany': 0.67...   \n\n                                                  l0  \\\n0  [Computer science, Engineering, Physics, Mater...   \n1  [Computer science, Mathematics, Physics, Geolo...   \n2  [Biology, Geology, Chemistry, Medicine, Geogra...   \n3  [Biology, Computer science, Engineering, Medic...   \n4  [Biology, Environmental science, Geology, Chem...   \n\n                                                  l1             l0_k1  \\\n0  [Embedded system, Electrical engineering, Aero...  Computer science   \n1  [Machine learning, Algorithm, Pattern recognit...  Computer science   \n2  [Botany, Economic growth, Geochemistry, Biotec...           Biology   \n3  [Bioinformatics, Simulation, Genetics, Genealo...           Biology   \n4  [Botany, Water resource management, Environmen...           Biology   \n\n                   l0_k2        l0_k3             l1_k1  \\\n0            Engineering      Physics   Embedded system   \n1            Mathematics      Physics  Machine learning   \n2                Geology    Chemistry            Botany   \n3       Computer science  Engineering    Bioinformatics   \n4  Environmental science      Geology            Botany   \n\n                       l1_k2                      l1_k3  \n0     Electrical engineering                Aeronautics  \n1                  Algorithm        Pattern recognition  \n2            Economic growth               Geochemistry  \n3                 Simulation                   Genetics  \n4  Water resource management  Environmental engineering  ",
      "text/html": "<div>\n<style scoped>\n    .dataframe tbody tr th:only-of-type {\n        vertical-align: middle;\n    }\n\n    .dataframe tbody tr th {\n        vertical-align: top;\n    }\n\n    .dataframe thead th {\n        text-align: right;\n    }\n</style>\n<table border=\"1\" class=\"dataframe\">\n  <thead>\n    <tr style=\"text-align: right;\">\n      <th></th>\n      <th>id</th>\n      <th>scholar_cat</th>\n      <th>journal_name</th>\n      <th>year</th>\n      <th>text</th>\n      <th>fields</th>\n      <th>named_fields</th>\n      <th>field_names</th>\n      <th>l0</th>\n      <th>l1</th>\n      <th>l0_k1</th>\n      <th>l0_k2</th>\n      <th>l0_k3</th>\n      <th>l1_k1</th>\n      <th>l1_k2</th>\n      <th>l1_k3</th>\n    </tr>\n  </thead>\n  <tbody>\n    <tr>\n      <th>0</th>\n      <td>2744039113</td>\n      <td>bio_agronomycropscience</td>\n      <td>Industrial Crops and Products</td>\n      <td>2016</td>\n      <td>powered by nict</td>\n      <td>{'Industrial organization': 0.1760948600414657...</td>\n      <td>[Gynecology, Hydrology, Systems engineering, E...</td>\n      <td>{'Embedded system': 0.20845264613976014, 'Elec...</td>\n      <td>[Computer science, Engineering, Physics, Mater...</td>\n      <td>[Embedded system, Electrical engineering, Aero...</td>\n      <td>Computer science</td>\n      <td>Engineering</td>\n      <td>Physics</td>\n      <td>Embedded system</td>\n      <td>Electrical engineering</td>\n      <td>Aeronautics</td>\n    </tr>\n    <tr>\n      <th>1</th>\n      <td>2991192488</td>\n      <td>bio_agronomycropscience</td>\n      <td>Computers and Electronics in Agriculture</td>\n      <td>2020</td>\n      <td>hybrid extreme learning machine with metaheuri...</td>\n      <td>{'Industrial organization': 0.6385366394218659...</td>\n      <td>[Gynecology, Hydrology, Systems engineering, E...</td>\n      <td>{'Machine learning': 0.7251366770152661, 'Algo...</td>\n      <td>[Computer science, Mathematics, Physics, Geolo...</td>\n      <td>[Machine learning, Algorithm, Pattern recognit...</td>\n      <td>Computer science</td>\n      <td>Mathematics</td>\n      <td>Physics</td>\n      <td>Machine learning</td>\n      <td>Algorithm</td>\n      <td>Pattern recognition</td>\n    </tr>\n    <tr>\n      <th>2</th>\n      <td>2520437996</td>\n      <td>bio_agronomycropscience</td>\n      <td>Field Crops Research</td>\n      <td>2016</td>\n      <td>n and s concentration and stoichiometry in soy...</td>\n      <td>{'Industrial organization': 0.3171993576008785...</td>\n      <td>[Gynecology, Hydrology, Systems engineering, E...</td>\n      <td>{'Biology': 0.3488822570079546, 'Geology': 0.3...</td>\n      <td>[Biology, Geology, Chemistry, Medicine, Geogra...</td>\n      <td>[Botany, Economic growth, Geochemistry, Biotec...</td>\n      <td>Biology</td>\n      <td>Geology</td>\n      <td>Chemistry</td>\n      <td>Botany</td>\n      <td>Economic growth</td>\n      <td>Geochemistry</td>\n    </tr>\n    <tr>\n      <th>3</th>\n      <td>3130483981</td>\n      <td>bio_agronomycropscience</td>\n      <td>Theoretical and Applied Genetics</td>\n      <td>2021</td>\n      <td>genotyping crossing parents and family bulks c...</td>\n      <td>{'Industrial organization': 0.6401885717449108...</td>\n      <td>[Gynecology, Hydrology, Systems engineering, E...</td>\n      <td>{'Bioinformatics': 0.696970277990277, 'Biology...</td>\n      <td>[Biology, Computer science, Engineering, Medic...</td>\n      <td>[Bioinformatics, Simulation, Genetics, Genealo...</td>\n      <td>Biology</td>\n      <td>Computer science</td>\n      <td>Engineering</td>\n      <td>Bioinformatics</td>\n      <td>Simulation</td>\n      <td>Genetics</td>\n    </tr>\n    <tr>\n      <th>4</th>\n      <td>2343019514</td>\n      <td>bio_agronomycropscience</td>\n      <td>Scientia Horticulturae</td>\n      <td>2016</td>\n      <td>effect of highly processed calcined kaolin res...</td>\n      <td>{'Industrial organization': 0.6312849544750182...</td>\n      <td>[Gynecology, Hydrology, Systems engineering, E...</td>\n      <td>{'Biology': 0.6809966859453974, 'Botany': 0.67...</td>\n      <td>[Biology, Environmental science, Geology, Chem...</td>\n      <td>[Botany, Water resource management, Environmen...</td>\n      <td>Biology</td>\n      <td>Environmental science</td>\n      <td>Geology</td>\n      <td>Botany</td>\n      <td>Water resource management</td>\n      <td>Environmental engineering</td>\n    </tr>\n  </tbody>\n</table>\n</div>"
     },
     "execution_count": 69,
     "metadata": {},
     "output_type": "execute_result"
    }
   ],
   "source": [
    "cats = pd.concat(venue_samples, ignore_index=True)\n",
    "cats.head()"
   ],
   "metadata": {
    "collapsed": false,
    "pycharm": {
     "name": "#%%\n"
    }
   }
  },
  {
   "cell_type": "code",
   "execution_count": 198,
   "outputs": [
    {
     "data": {
      "text/plain": "                 scholar_cat                  l0_k1   id\n0    bio_agronomycropscience                Biology  586\n1    bio_agronomycropscience  Environmental science  157\n2    bio_agronomycropscience              Chemistry   82\n3    bio_agronomycropscience                Geology   75\n4    bio_agronomycropscience       Computer science   38\n..                       ...                    ...  ...\n162             med_virology            Mathematics    1\n163             med_virology      Materials science    1\n164             med_virology             Philosophy    1\n165             med_virology            Engineering    1\n166             med_virology              Sociology    1\n\n[167 rows x 3 columns]",
      "text/html": "<div>\n<style scoped>\n    .dataframe tbody tr th:only-of-type {\n        vertical-align: middle;\n    }\n\n    .dataframe tbody tr th {\n        vertical-align: top;\n    }\n\n    .dataframe thead th {\n        text-align: right;\n    }\n</style>\n<table border=\"1\" class=\"dataframe\">\n  <thead>\n    <tr style=\"text-align: right;\">\n      <th></th>\n      <th>scholar_cat</th>\n      <th>l0_k1</th>\n      <th>id</th>\n    </tr>\n  </thead>\n  <tbody>\n    <tr>\n      <th>0</th>\n      <td>bio_agronomycropscience</td>\n      <td>Biology</td>\n      <td>586</td>\n    </tr>\n    <tr>\n      <th>1</th>\n      <td>bio_agronomycropscience</td>\n      <td>Environmental science</td>\n      <td>157</td>\n    </tr>\n    <tr>\n      <th>2</th>\n      <td>bio_agronomycropscience</td>\n      <td>Chemistry</td>\n      <td>82</td>\n    </tr>\n    <tr>\n      <th>3</th>\n      <td>bio_agronomycropscience</td>\n      <td>Geology</td>\n      <td>75</td>\n    </tr>\n    <tr>\n      <th>4</th>\n      <td>bio_agronomycropscience</td>\n      <td>Computer science</td>\n      <td>38</td>\n    </tr>\n    <tr>\n      <th>...</th>\n      <td>...</td>\n      <td>...</td>\n      <td>...</td>\n    </tr>\n    <tr>\n      <th>162</th>\n      <td>med_virology</td>\n      <td>Mathematics</td>\n      <td>1</td>\n    </tr>\n    <tr>\n      <th>163</th>\n      <td>med_virology</td>\n      <td>Materials science</td>\n      <td>1</td>\n    </tr>\n    <tr>\n      <th>164</th>\n      <td>med_virology</td>\n      <td>Philosophy</td>\n      <td>1</td>\n    </tr>\n    <tr>\n      <th>165</th>\n      <td>med_virology</td>\n      <td>Engineering</td>\n      <td>1</td>\n    </tr>\n    <tr>\n      <th>166</th>\n      <td>med_virology</td>\n      <td>Sociology</td>\n      <td>1</td>\n    </tr>\n  </tbody>\n</table>\n<p>167 rows × 3 columns</p>\n</div>"
     },
     "execution_count": 198,
     "metadata": {},
     "output_type": "execute_result"
    }
   ],
   "source": [
    "def summarize(cats, col='l0_k1'):\n",
    "    df = cats.copy()\n",
    "    counts = df.groupby(['scholar_cat', col], as_index=False)[['id']].agg('count')\n",
    "    counts = counts.groupby('scholar_cat').apply(lambda x: x.sort_values('id', ascending=False))\n",
    "    counts = counts.reset_index(drop=True).reset_index(drop=True)\n",
    "    return counts\n",
    "\n",
    "l0_counts = summarize(cats, 'l0_k1')\n",
    "l0_counts"
   ],
   "metadata": {
    "collapsed": false,
    "pycharm": {
     "name": "#%%\n"
    }
   }
  },
  {
   "cell_type": "code",
   "execution_count": 199,
   "outputs": [],
   "source": [
    "l0_counts.set_index('scholar_cat').to_csv('scholar_category_l0_counts.csv')"
   ],
   "metadata": {
    "collapsed": false,
    "pycharm": {
     "name": "#%%\n"
    }
   }
  },
  {
   "cell_type": "code",
   "execution_count": 200,
   "outputs": [
    {
     "data": {
      "text/plain": "                  scholar_cat                      l1_k1   id\n0     bio_agronomycropscience                     Botany  223\n1     bio_agronomycropscience               Soil science  118\n2     bio_agronomycropscience                   Genetics   84\n3     bio_agronomycropscience                   Agronomy   52\n4     bio_agronomycropscience  Water resource management   46\n...                       ...                        ...  ...\n1042             med_virology           Internet privacy    1\n1043             med_virology                 Literature    1\n1044             med_virology          Medical emergency    1\n1045             med_virology        Medicinal chemistry    1\n1046             med_virology                 Gynecology    1\n\n[1047 rows x 3 columns]",
      "text/html": "<div>\n<style scoped>\n    .dataframe tbody tr th:only-of-type {\n        vertical-align: middle;\n    }\n\n    .dataframe tbody tr th {\n        vertical-align: top;\n    }\n\n    .dataframe thead th {\n        text-align: right;\n    }\n</style>\n<table border=\"1\" class=\"dataframe\">\n  <thead>\n    <tr style=\"text-align: right;\">\n      <th></th>\n      <th>scholar_cat</th>\n      <th>l1_k1</th>\n      <th>id</th>\n    </tr>\n  </thead>\n  <tbody>\n    <tr>\n      <th>0</th>\n      <td>bio_agronomycropscience</td>\n      <td>Botany</td>\n      <td>223</td>\n    </tr>\n    <tr>\n      <th>1</th>\n      <td>bio_agronomycropscience</td>\n      <td>Soil science</td>\n      <td>118</td>\n    </tr>\n    <tr>\n      <th>2</th>\n      <td>bio_agronomycropscience</td>\n      <td>Genetics</td>\n      <td>84</td>\n    </tr>\n    <tr>\n      <th>3</th>\n      <td>bio_agronomycropscience</td>\n      <td>Agronomy</td>\n      <td>52</td>\n    </tr>\n    <tr>\n      <th>4</th>\n      <td>bio_agronomycropscience</td>\n      <td>Water resource management</td>\n      <td>46</td>\n    </tr>\n    <tr>\n      <th>...</th>\n      <td>...</td>\n      <td>...</td>\n      <td>...</td>\n    </tr>\n    <tr>\n      <th>1042</th>\n      <td>med_virology</td>\n      <td>Internet privacy</td>\n      <td>1</td>\n    </tr>\n    <tr>\n      <th>1043</th>\n      <td>med_virology</td>\n      <td>Literature</td>\n      <td>1</td>\n    </tr>\n    <tr>\n      <th>1044</th>\n      <td>med_virology</td>\n      <td>Medical emergency</td>\n      <td>1</td>\n    </tr>\n    <tr>\n      <th>1045</th>\n      <td>med_virology</td>\n      <td>Medicinal chemistry</td>\n      <td>1</td>\n    </tr>\n    <tr>\n      <th>1046</th>\n      <td>med_virology</td>\n      <td>Gynecology</td>\n      <td>1</td>\n    </tr>\n  </tbody>\n</table>\n<p>1047 rows × 3 columns</p>\n</div>"
     },
     "execution_count": 200,
     "metadata": {},
     "output_type": "execute_result"
    }
   ],
   "source": [
    "l1_counts = summarize(cats, 'l1_k1')\n",
    "l1_counts"
   ],
   "metadata": {
    "collapsed": false,
    "pycharm": {
     "name": "#%%\n"
    }
   }
  },
  {
   "cell_type": "code",
   "execution_count": 201,
   "outputs": [],
   "source": [
    "l1_counts.set_index('scholar_cat').to_csv('scholar_category_l1_counts.csv')"
   ],
   "metadata": {
    "collapsed": false,
    "pycharm": {
     "name": "#%%\n"
    }
   }
  },
  {
   "cell_type": "code",
   "execution_count": 202,
   "outputs": [],
   "source": [
    "def summarize_journals(cats, col='l1_k1'):\n",
    "    df = cats.copy()\n",
    "    counts = df.groupby(['scholar_cat', 'journal_name', col], as_index=False)[['id']].agg('count')\n",
    "    counts = counts.groupby(['scholar_cat', 'journal_name']).apply(lambda x: x.sort_values('id', ascending=False))\n",
    "    counts = counts.reset_index(drop=True).reset_index(drop=True)\n",
    "    return counts\n",
    "\n",
    "j_counts = summarize_journals(cats)\n",
    "j_counts['prop'] = j_counts.groupby(['scholar_cat', 'journal_name'])['id'].apply(lambda x: x / x.sum())\n",
    "j_counts['total'] = j_counts.groupby(['scholar_cat', 'journal_name'])['id'].apply(lambda x: x.apply(lambda y: x.sum()))\n",
    "j_counts = j_counts.query('total >= 100')\n",
    "j_counts = j_counts.rename(columns={'id': 'n'})\n",
    "j_counts.to_csv('journal_l1_counts.csv', float_format='%.2f')\n",
    "\n",
    "heads = {}\n",
    "for idx, df in j_counts.groupby(['scholar_cat', 'journal_name']):\n",
    "    heads[idx] = df.iloc[:(min(df.shape[0], 5))][['l1_k1', 'prop', 'total']]\n",
    "j_heads = pd.concat(heads).reset_index(level=2, drop=True)\n",
    "j_heads.to_csv('journal_l1_counts_truncated.csv', float_format='%.2f')"
   ],
   "metadata": {
    "collapsed": false,
    "pycharm": {
     "name": "#%%\n"
    }
   }
  },
  {
   "cell_type": "code",
   "execution_count": 203,
   "outputs": [
    {
     "data": {
      "text/plain": "                  scholar_cat                   journal_name  \\\n154   bio_agronomycropscience  Industrial Crops and Products   \n155   bio_agronomycropscience  Industrial Crops and Products   \n156   bio_agronomycropscience  Industrial Crops and Products   \n157   bio_agronomycropscience  Industrial Crops and Products   \n158   bio_agronomycropscience  Industrial Crops and Products   \n...                       ...                            ...   \n2748             med_virology                        Vaccine   \n2749             med_virology                        Vaccine   \n2750             med_virology                        Vaccine   \n2751             med_virology                        Vaccine   \n2752             med_virology                        Vaccine   \n\n                                  l1_k1   n      prop  total  \n154                              Botany  34  0.225166    151  \n155                  Composite material  16  0.105960    151  \n156                        Biochemistry  15  0.099338    151  \n157                   Nuclear chemistry  14  0.092715    151  \n158                   Organic chemistry   7  0.046358    151  \n...                                 ...  ..       ...    ...  \n2748             Environmental planning   1  0.005682    176  \n2749  Environmental resource management   1  0.005682    176  \n2750                     Gender studies   1  0.005682    176  \n2751               Knowledge management   1  0.005682    176  \n2752            International economics   1  0.005682    176  \n\n[1440 rows x 6 columns]",
      "text/html": "<div>\n<style scoped>\n    .dataframe tbody tr th:only-of-type {\n        vertical-align: middle;\n    }\n\n    .dataframe tbody tr th {\n        vertical-align: top;\n    }\n\n    .dataframe thead th {\n        text-align: right;\n    }\n</style>\n<table border=\"1\" class=\"dataframe\">\n  <thead>\n    <tr style=\"text-align: right;\">\n      <th></th>\n      <th>scholar_cat</th>\n      <th>journal_name</th>\n      <th>l1_k1</th>\n      <th>n</th>\n      <th>prop</th>\n      <th>total</th>\n    </tr>\n  </thead>\n  <tbody>\n    <tr>\n      <th>154</th>\n      <td>bio_agronomycropscience</td>\n      <td>Industrial Crops and Products</td>\n      <td>Botany</td>\n      <td>34</td>\n      <td>0.225166</td>\n      <td>151</td>\n    </tr>\n    <tr>\n      <th>155</th>\n      <td>bio_agronomycropscience</td>\n      <td>Industrial Crops and Products</td>\n      <td>Composite material</td>\n      <td>16</td>\n      <td>0.105960</td>\n      <td>151</td>\n    </tr>\n    <tr>\n      <th>156</th>\n      <td>bio_agronomycropscience</td>\n      <td>Industrial Crops and Products</td>\n      <td>Biochemistry</td>\n      <td>15</td>\n      <td>0.099338</td>\n      <td>151</td>\n    </tr>\n    <tr>\n      <th>157</th>\n      <td>bio_agronomycropscience</td>\n      <td>Industrial Crops and Products</td>\n      <td>Nuclear chemistry</td>\n      <td>14</td>\n      <td>0.092715</td>\n      <td>151</td>\n    </tr>\n    <tr>\n      <th>158</th>\n      <td>bio_agronomycropscience</td>\n      <td>Industrial Crops and Products</td>\n      <td>Organic chemistry</td>\n      <td>7</td>\n      <td>0.046358</td>\n      <td>151</td>\n    </tr>\n    <tr>\n      <th>...</th>\n      <td>...</td>\n      <td>...</td>\n      <td>...</td>\n      <td>...</td>\n      <td>...</td>\n      <td>...</td>\n    </tr>\n    <tr>\n      <th>2748</th>\n      <td>med_virology</td>\n      <td>Vaccine</td>\n      <td>Environmental planning</td>\n      <td>1</td>\n      <td>0.005682</td>\n      <td>176</td>\n    </tr>\n    <tr>\n      <th>2749</th>\n      <td>med_virology</td>\n      <td>Vaccine</td>\n      <td>Environmental resource management</td>\n      <td>1</td>\n      <td>0.005682</td>\n      <td>176</td>\n    </tr>\n    <tr>\n      <th>2750</th>\n      <td>med_virology</td>\n      <td>Vaccine</td>\n      <td>Gender studies</td>\n      <td>1</td>\n      <td>0.005682</td>\n      <td>176</td>\n    </tr>\n    <tr>\n      <th>2751</th>\n      <td>med_virology</td>\n      <td>Vaccine</td>\n      <td>Knowledge management</td>\n      <td>1</td>\n      <td>0.005682</td>\n      <td>176</td>\n    </tr>\n    <tr>\n      <th>2752</th>\n      <td>med_virology</td>\n      <td>Vaccine</td>\n      <td>International economics</td>\n      <td>1</td>\n      <td>0.005682</td>\n      <td>176</td>\n    </tr>\n  </tbody>\n</table>\n<p>1440 rows × 6 columns</p>\n</div>"
     },
     "execution_count": 203,
     "metadata": {},
     "output_type": "execute_result"
    }
   ],
   "source": [
    "j_counts"
   ],
   "metadata": {
    "collapsed": false,
    "pycharm": {
     "name": "#%%\n"
    }
   }
  },
  {
   "cell_type": "code",
   "execution_count": 204,
   "outputs": [
    {
     "name": "stdout",
     "output_type": "stream",
     "text": [
      "on the string translations produced by multi bottomup tree transducers tree transducers are defined as relations between trees but in syntaxbased machine translation we are ultimately concerned with the relations between the strings at the yields of the input and output trees we examine the formal power of multi bottomup tree transducers from this point of view\n",
      "restricted nonprojectivity coverage vs efficiency in the last decade various restricted classes of nonprojective dependency trees have been proposed with the goal of achieving a good tradeoff between parsing efficiency and coverage of the syntactic structures found in natural languages we perform an extensive study measuring the coverage of a wide range of such classes on corpora of  languages under two different syntactic annotation criteria the results show that among the currently known relaxations of projectivity the best tradeoff between coverage and computational complexity of exact parsing is achieved by either endpointcrossing trees or mhk trees depending on the level of coverage desired we also present some properties of the relation of mhk trees to other relevant classes of trees\n",
      "unsupervised tree induction for treebased translation in current research most treebased translation models are built directly from parse trees in this study we go in another direction and build a translation model with an unsupervised tree structure derived from a novel nonparametric bayesian model in the model we utilize synchronous tree substitution grammars stsg to capture the bilingual mapping between language pairs to train the model efficiently we develop a gibbs sampler with three novel gibbs operators the sampler is capable of exploring the infinite space of tree structures by performing local changes on the tree nodes experimental results show that the stringtotree translation system using our bayesian tree structures significantly outperforms the strong baseline stringtotree system using parse trees\n"
     ]
    }
   ],
   "source": [
    "sample_df = pd.concat(venue_samples)\n",
    "sample_df = sample_df.reset_index(level=1, drop=True)\n",
    "del sample_df['scholar_cat']\n",
    "for idx, row in sample_df.loc['eng_computationallinguistics'].query(\"l1_k1 == 'Agroforestry'\").iterrows():\n",
    "    print(row['text'])"
   ],
   "metadata": {
    "collapsed": false,
    "pycharm": {
     "name": "#%%\n"
    }
   }
  },
  {
   "cell_type": "code",
   "execution_count": 205,
   "outputs": [],
   "source": [
    "sample_df = sample_df.reset_index().rename(columns={'index': 'scholar_cat'})"
   ],
   "metadata": {
    "collapsed": false,
    "pycharm": {
     "name": "#%%\n"
    }
   }
  },
  {
   "cell_type": "code",
   "execution_count": 206,
   "outputs": [
    {
     "name": "stdout",
     "output_type": "stream",
     "text": [
      "\"Expert Systems With Applications\" (Automotive engineering)\n",
      "fuzzy model of vehicle delay to determine the level of service of twolane roads a fuzzy model for determining delayed vehicles on twoway twolane roads based on drivers perceptionsthe level of service is obtained using the estimated vehicle delay state and the overtaking maneuveran extension of the possible states of a vehicle is defined including overtaking desiresimulation results have been successfully compared with the behavior of twolane road drivers the level of service los on twolane highways and therefore the quality of traffic flow is currently estimated based on the delay of the vehicles and in certain types of roads the average travel speed speed is relatively easy to measure however it is important and not so simple to determine whether a vehicle is delayed traditional methods generally based on quantitative measurements of average time between vehicles and thresholds fail to take into account the inherent vagueness of the driving process in this paper we have developed a fuzzy model that gives a new and reliable method for determining such vehicle state on twoway twolane roads based on drivers perceptions the proposed system is composed of seven fuzzy subsystems that take into account imprecise knowledge human factors and subjective perceptions regarding the road the car the driver environmental conditions etc simulation results of the system have been successfully compared with the behavior of twolane road drivers who were interviewed the level of service of these facilities is obtained using the estimated vehicle delay state and the overtaking maneuver therefore this proposal makes it possible to introduce these existing driving experiences into los assessment and accordingly it is potentially a step forward since los must be related by definition to user experience these results could be used in future frameworks in addition an extension of the possible states of a vehicle is defined this approach takes into account the drivers point of view regarding overtaking desire and in this sense it is closer to reality\n",
      "\n",
      "\"Expert Systems With Applications\" (Automotive engineering)\n",
      "multidepot vehicle routing problem with risk mitigation model and solution algorithm abstract in practice the execution of plans with vehicle routing components is often subjected to external events since the transporting vehicles can be exposed to various risk factors this may lead to delivery failure vehicle breakdown commodity loses etc in this setting the stakeholders can benefit from logistic planning techniques whereby potential vehicle breakdown and cargo delivery failure can be mitigated by limiting vehicle risk exposure and prioritizing deliveries of larger payloads in this paper we propose a cost effective learningbased heuristic technique to minimize the routing cost along with the potential cost due to the risk of vehicle breakdown and cargo delivery failure the approach is elaborated by means of an illustrative case study and it is accompanied by benchmark results along with a comparative study the heuristic solution generation approach can be used to mitigate vehicle routing risk at the planning stage as well as during various proactive and reactive plan adaptation activities in response to the occurrence of exogenous events\n",
      "\n",
      "\"Neurocomputing\" (Computer architecture)\n",
      "withdrawn neural architecture search based on model pool for wildlife identification\n",
      "\n",
      "\"Expert Systems With Applications\" (Multimedia)\n",
      "ensemble multilabel text categorization based on rotation forest and latent semantic indexing abstract text categorization has gained increasing popularity in the last years due the explosive growth of multimedia documents as a document can be associated with multiple nonexclusive categories simultaneously eg virus health sports and olympic games text categorization provides many opportunities for developing novel multilabel learning approaches devoted specifically to textual data in this paper we propose an ensemble multilabel classification method for text categorization based on four key ideas  performing latent semantic indexing based on distinct orthogonal projections on lowerdimensional spaces of concepts  random splitting of the vocabulary  document bootstrapping and  the use of boostexter as a powerful multilabel base learner for text categorization to simultaneously encourage diversity and individual accuracy in the committee diversity of the ensemble is promoted through random splits of the vocabulary that leads to different orthogonal projections on lowerdimensional latent concept spaces accuracy of the committee members is promoted through the underlying latent semantic structure uncovered in the text the combination of both rotationbased ensemble construction and latent semantic indexing projection is shown to bring about significant improvements in terms of average precision coverage ranking loss and one error compared to five stateoftheart approaches across  realword textual data sets covering a wide variety of topics including health education business science and arts\n",
      "\n",
      "\"Expert Systems With Applications\" (Multimedia)\n",
      "video annotation using hierarchical dirichlet process mixture model video annotation has become an important topic to support multimedia information retrieval video content analysis using lowlevel features cannot reduce the gap between lowlevel features and high level semantic concept in this study we propose an approach which combines visual features extracted from visual track of video and keywords extracted from speech transcripts of audio track we construct a predictive model using hierarchical dirichlet process mixture model in the hierarchical model one more layer is added to exploit sharing visual feature distributions among frames and use the shared information to enhance model learning at top level the visual features in the groups are shared appropriately by imposing a prior correlation at the bottom level each visual feature and associated annotation are modeled with mixture distributions the leaned predictive model allows us to compute a conditional likelihood over words which are used to predict the most likely annotation words for the testing sample the model achieves high accuracy in video annotation than the model without using hierarchy\n",
      "\n",
      "\"Expert Systems With Applications\" (Environmental health)\n",
      "structural equation modeling for multistage analysis on radio frequency identification rfid diffusion in the health care industry highlights we model the diffusion of rfid in health care industry  sem was applied to examine the model  variables from toe and doi models have different effects on rfid diffusion stages  decision makers can formulate appropriate rfid strategies from the findings structural equation analysis for multistage analysis on radio frequency identification rfid diffusion in the health care industryfaced with an increasingly competitive business environment organizations in the health care industry are applying radio frequency identification rfid to improve operational efficiency and to gain a competitive advantage over their competitors this research provides a multistage analysis on the antecedents that affects the diffusion of rfid in the health care industry data collected from  health care organizations were analyzed using structural equation modeling analysis the result shows that variables within the technologyorganizationenvironment toe framework and the diffusion of innovation doi theory have different effects on the evaluation adoption and routinization stages of rfid diffusion this is one of few empirical studies on the factors influencing the diffusion of rfid in the health care industry the results of this study will help decision makers in the health care industry to better understand the diffusion process of rfid and to formulate strategies for successful diffusion of rfid\n",
      "\n",
      "\"Expert Systems With Applications\" (Data science)\n",
      "measuring employeetourist encounter experience value a big data analytics approach abstract this paper takes a text analytics approach to measuring dimensions of employeevisitor encounters that impact on visitor outcomes a conceptual model measuring dimensions of employeetourist encounters is implemented using a big data analytics approach more suited to largescale online review data than the traditional limited survey approach using a dictionarybased measurement approach and a large sample of reviews for hotels n we test the model and the importance of the factors for leveraging perceptions of satisfaction service and value the results demonstrate the importance of the different dimensions of experiential value in employeetourist encounters in creating positive tourist perceptions this knowledge is crucial for tourism companies aiming to create experiential value for visitors rather than simply delivering service quality\n",
      "\n",
      "\"Expert Systems With Applications\" (Data science)\n",
      "jst\n",
      "\n",
      "\"Neurocomputing\" (Aesthetics)\n",
      "multilevel photo quality assessment with multiview features photo quality assessment using the principles of visual aesthetics has been a hot research topic in recent years due to the complexity of human aesthetic activities this task is very challenging\n",
      "\n",
      "\"Expert Systems With Applications\" (Welfare economics)\n",
      "the slackbased measure model based on supporting hyperplanes of production possibility set employing supporting hyperplanesimproving the efficiency scores computed by the sbm modelfinding supporting hyperplanes of the pps without clustering or random search the original slackbased measure sbm model evaluates the efficiency of decision making units dmus referring to the furthest frontier point within a range hence the projection may go to a remote point on the efficient frontier which may be inappropriate as a reference point in this paper we propose a new variant for the improvement of efficiency scores in sbm models it is based on the determination of strong hyperplanes of the production possibility set pps the approach presented here improves the currently used tone method both from the time consumption and computational points of view comparative examples as well as a case study are given to illustrate the new procedure\n",
      "\n",
      "\"Expert Systems With Applications\" (Communication)\n",
      "double auction mechanisms on markovian networks this paper studies the double auction da mechanism in ma and li  for a class of exchange economies we extend their results to more general cases where sellers and buyers each form a complex time nonhomogeneous markovian chain as specified in ram et al  in the communication of their private information a numerical example is also provided both bubbles and crashes are observed in the example consistent with results of our theorems our example and theoretical results provide new evidence that a da mechanism widely utilized in real exchange markets may contribute to the excess volatility identified in shiller  and leroy and porter\n",
      "\n",
      "\"Expert Systems With Applications\" (Theoretical computer science)\n",
      "chaotic encryption method based on lifelike cellular automata a chaotic encryption algorithm is proposed based on the lifelike cellular automata ca which acts as a pseudorandom generator prng the paper main focus is to use chaos theory to cryptography thus ca was explored to look for this chaos property this way the manuscript is more concerning on tests like lyapunov exponent entropy and hamming distance to measure the chaos in ca as well as statistic analysis like diehard and ent suites our results achieved higher randomness quality than others ciphers in literature these results reinforce the supposition of a strong relationship between chaos and the randomness quality thus the chaos property of ca is a good reason to be employed in cryptography furthermore for its simplicity low cost of implementation and respectable encryption power\n",
      "\n",
      "\"Expert Systems With Applications\" (Fishery)\n",
      "shortterm prediction of fishing effort distributions by discovering fishing chronology among trawlers based on vms dataset abstract shortterm prediction of fishing effort distributions will guide fishery management in a dynamic way however it meets two unique challenges the randomness of fishers behaviors and the diversity of marine meteorology such as sea storms in the short period this study proposes shortterm prediction system of fishing effort distribution by mining a new kind of knowledge fishing chronology among trawlers we first define quantify and dig out chronological fishing relations among trawlers based on the vms dataset then the system extracts the optimal early bird set from chronological fishing relations whose current fishing behaviors can serve as indicators of future fishing effort distributions based on the knowledge of fishing chronology we further design a convolution neural network cnn to predict the shortterm fishing effort distribution only taking the current fishing behaviors of early birds as input we evaluate the system performance on the vms dataset of  trawlers in the east china sea from october  to april  the system uses the vms traces in the first half period to calculate fishing chronology among trawlers to extract early birds and to train the cnn model the traces in the last half period is used to evaluate the prediction accuracy the results confirm a low prediction error ratio of  across all the weeks only by tracking  early birds more importantly our prediction system keeps its accuracy during the week of a sea storm in feb  th to  th   the application of our system for fishery management is encouraging tracking only  trawlers suffices to predict shortterm fishing effort distributions in the near future\n",
      "\n",
      "\"Neurocomputing\" (Financial economics)\n",
      "fuzzy timeseries model based on rough set rule induction for forecasting stock price abstract the stock price prediction is an important issue in stock markets because it will result in significant benefits and impacts for investor in contrast to traditional time series fuzzy time series can solve the forecast problem with historical data of linguistic values in order to improve forecast performance of fuzzy timeseries models this study replaced fuzzy logical relationships with rulebased algorithm to extract forecast rules from timeseries observations therefore this paper developed a novel fuzzy timeseries model based on rough set rule induction for forecasting stock index and this study has four contributions to improve forecast accuracy and provide investment point in right time to investors  proposed a novel fuzzy timeseries model to improve forecast accuracy  rough sets are employed to generate forecasting rules to replace fuzzy logical relationship rules based on the lag period  utilized adaptive expectation model to strengthen forecasting performance and based on the meaning of adaptive parameter to observe stock fluctuation and oscillation and  proposed buy and sell rules to calculate the profit and based on three different scenarios to provide investment suggestion to investor as references for evaluating the proposed model we practically collected taiex nikkei and hsi stock price from  to  years as experimental dataset and compared the listing models under three error indexes and profits criteria the results show that the proposed method outperforms listing models in error indexes and profits\n",
      "\n",
      "\"Neurocomputing\" (World Wide Web)\n",
      "webpowered by nict\n",
      "\n",
      "\"Neurocomputing\" (Topology)\n",
      "vsoinn a topology preserving visualization method for multidimensional data abstract data visualization plays an important role in data analysis by displaying data to observers in an interpretable way visualizing multidimensional data requires projecting the data into a lowdimensional space that is visible to humans in this paper we propose a neural network model that can generate such projections while preserving the topology relationships within data points which is named visible self organizing incremental neural network vsoinn vsoinn is able to construct a topology preserving visible network automatically and classify visible nodes to different classes in the lowdimensional space the thought of topology preserving visualization stems from selforganizing map som compared to som the main advantage of vsoinn is that it does not need prior decision of network structure including the number of nodes and grid in the output layer vsoinn can show the density distribution of datasets by using the activation counts of datasets vsoinn is able to depict the number of classes in the lowdimensional space as well we perform experiments on artificial and realworld datasets and vsoinn outperforms pca mds tsne neural gas and som on the datasets experiments show that vsoinn can preserve the topology and vsoinn can produce the correct classification result when the number of samples is small\n",
      "\n",
      "\"Neurocomputing\" (Topology)\n",
      "finitetime passivity of multiple weighted coupled uncertain neural networks with directed and undirected topologies abstract this paper is mainly concerned with the finitetime passivity ftp of the multiple weighted coupled uncertain neural networks cunns with directed and undirected topologies first of all by selecting the appropriate controller some criteria are established for the ftp of the multiple weighted cunns with directed topology then a finitetime synchronization fts criterion is derived based on the ftp of the multiple weighted cunns with directed topology similarly we also concern the ftp and fts of the multiple weighted cunns with undirected topology finally simulation examples verify the validity of the results\n",
      "\n",
      "\"Expert Systems With Applications\" (Marine engineering)\n",
      "an intelligent realtime multivessel collision risk assessment system from vts view point based on fuzzy inference system due to brisk industrial growth the marine traffic has become an imperative subject in the open sea nowadays the crew inside the vehicle traffic service vts centre is facing challenging issues on account of continuous growth in vessel number currently most of vts centers are using the arpa radar based conventional vehicle traffic management system and vts staff has to carry out most of the things manually to guide the ships captain properly therefore there is a strong impetus in the field of ocean engineering to develop a smart system which can take the data from radar and autonomously manipulate it to calculate the degree of collision risk among all vessels from the vts centre later on the traffic management officer utilizes this information for intelligent decision making in the past several researchers have addressed this issue to facilities the vts crew and captain of the ship but mostly their research work was for academic purposes and could not get popularity because of extra manual workload our proposed vessel collision risk assessment system is an intelligent solution which is based on fuzzy inference system and has the ability to solve the said issues we calculated the dcpa tcpa bearing and vcd among all vessels ships from the vts centre by using conventional marine equipments and exploited the extracted information to calculate and display the degree of collision risk among all vessels furthermore we developed the radar filtration algorithm which helps the vts officer to gauge out the degree of collision risk around a particular ship to authenticate the validity and to monitor the performance efficiency we developed radar operated intelligent software which directly gets the required data from radar and displays the vessels list based on their degree of collision severity the laboratory experiments confirm the validity of the proposed system\n",
      "\n",
      "\"Neural Computing and Applications\" (Natural language processing)\n",
      "intelligent analysis system for signal processing tasks based on lstm recurrent neural network algorithm in order to improve the effectiveness of signal processing according to the actual needs of signal processing and the current problems in signal processing this paper introduces an improved lstm recurrent neural network algorithm to construct the signal processing algorithm moreover this paper sets up the functional structure of this paper based on the neural network model structure and builds an intelligent analysis system for signal processing tasks based on the lstm recurrent neural network algorithm in addition this paper analyzes the system algorithm flow in detail and combines experimental research to carry out the effectiveness of the system constructed in this paper and conducts quantitative analysis from two aspects of signal threshold prediction and signal processing effect finally this paper conducts experimental results research with the support of mathematical statistics methods from the research point of view it can be known that the system constructed in this paper has good signal processing functions\n",
      "\n",
      "\"Neurocomputing\" (Reliability engineering)\n",
      "consideration effect of uncertainty in power system reliability indices using radial basis function network and fuzzy logic theory reliability assessment of composite power systems is a critical and important part of power investigations especially in the marketdriven environments therefore the reliability indices as criteria for the comparison of the reliability of the power systems should be evaluated precisely and carefully because of the nonlinear behavior of the systems as the effect of different parameters like weather conditions load pattern changes and some others reliability indices always contain much uncertainty in this paper a neurofuzzy based method is proposed to reduce the degree of the uncertainty in the reliability indices and therefore to evaluate the reliability of the composite power systems precisely fuzzy logic theory makes it possible to make use of the human experts knowledge in the reliability evaluations also by the use of rbfnn and its powerful characteristic to learn any nonlinear mapping between two states it would be possible to evaluate the reliability indices for every short time interval needed so that reliability evaluation in real time would be achievable and feasible in this paper the rbfnn is trained by the training patterns that are achieved by the use of fuzzy logic theory then the results are examined on a standard reliability test system rts\n",
      "\n",
      "\"Neural Computing and Applications\" (Multimedia)\n",
      "an adaptive contextaware optimization framework for multimedia adaptation service selection in pervasive systems context is a direct cause to adapt the content of multimedia documents so that they comply as far as possible with the current constraints in this respect several adaptation approaches have already been proposed in which adaptation services are often selected from shortlists of services practically speaking adaptation services are provided in various instances and ways thus making the selection task more difficult furthermore existing approaches for the service selection paradigm cannot be properly applied mainly because constraints on execution time and the availability of computation resources must be considered to deal with this issue we propose a framework for adaptive service selection using a bag of metaheuristics ranging from local to global search methods depending on the contextual constraints a subbag of algorithms is selected for which the budget is distributed using a reinforcement learning mechanism related to their performances the proposal is validated through a set of experiments and comparisons the obtained results are satisfactory and encouraging\n",
      "\n",
      "\"Expert Systems With Applications\" (Internet privacy)\n",
      "fake news detection based on explicit and implicit signals of a hybrid crowd an approach inspired in metalearning abstract the problem of automatic fake news detection in digital media of news distribution dmnd  eg social networks online newspaper etc has become even more relevant among the main detection approaches the one based on crowd signals from dmnd users has stood out by obtaining promising results in essence in order to classify a piece of news as fake or not fake such approach explores the collective sense by combining opinions signals ie votes about the classification of some news of a high number of users crowd considering the reputations of these users regarding their capacity of identifying fake news although promising the crowd signals approach has a significant limitation it depends on the explicit user opinion which is not always available about the classification of the analyzed news such unavailability may be caused by the absence of a functionality in the dmnd that collects user opinion about the news or by the simple option of the users in not giving their opinion facing this limitation the present work raises the hypothesis that it is possible to build models of fake news detection with a performance comparable to the crowd signals based approach avoiding the dependence on the explicit opinion of dmnd users to validate this hypothesis the present work proposes hcs an approach based on crowd signals that considers implicit user opinions instead of the explicit ones the implicit opinions are inferred from the behavior of users concerning the dissemination of the news analyzed inspired in metalearning the hcs can also use the explicit opinions from machines news classification models to complement the implicit user opinions by means of hybrid crowds experiments carried out in five datasets presented significant evidence that confirms the raised hypothesis even without considering dmnd users explicit opinions hcs was able to achieve results comparable to the ones produced by the crowd signals approach besides that the results also revealed a performance improvement of hcs when the implicit opinions of the users were combined with the explicit opinions of machines\n",
      "\n",
      "\"Expert Systems With Applications\" (Internet privacy)\n",
      "predicting ecommerce company success by mining the text of its publiclyaccessible website we analyze the impact of textual information from ecommerce companies websites on their commercial success the textual information is extracted from web content of ecommerce companies divided into the top  worldwide most successful companies and into the top  to  worldwide most successful companies it is shown that latent semantic concepts extracted from the analysis of textual information can be adopted as success factors for a top  ecommerce company classification this contributes to the existing literature concerning ecommerce success factors as evaluation a regression model based on these concepts is built that is successful in predicting the commercial success of the top  companies these findings are valuable for ecommerce websites creation\n",
      "\n",
      "\"Neurocomputing\" (Parallel computing)\n",
      "joint offloading and scheduling decisions for dag applications in mobile edge computing abstract mobile edge computing mec is a promising technology to support computationintensive tasks for mobile devices which are usually associated with limited resources many researches from both scientific and industrial field have put focuses on mec however most of them assume that in a mec environment the offloaded tasks are independent or that there is only one server in the mec center nevertheless in reality tasks with dependencies take the majority and in a mec center there are usually multiple servers under this circumstance previous methods no longer take effects in this work we consider offloading with precedence constraints among tasks and try to minimize makespan over a mec center with multiple servers this problem becomes more complex given that a task can not start unless its predecessors are completed to solve the problem we jointly involve front end task offloading order and back end scheduling to optimize makespan and propose a corresponding algorithm called joint reordering and frequency scaling jrfs extensive experiments have been conducted the results show that compared with several other methods jrfs can achieve better makespan\n",
      "\n",
      "\"Neurocomputing\" (Engineering drawing)\n",
      "a pmjinspired cognitive framework for natural scene categorization in line drawings humans remarkable capacity on rapid natural scene categorization has been widely studied in neuroscience recently a functional mri fmri study showed that in human brain decoding of natural scenes from line drawings was very similar to those from color photographs in this paper based on recently proposed computational cognition model of perception memory and judgement pmj model we investigate the computational model of line drawings and propose a pmjinspired cognitive framework for natural scene categorization in line drawings the ohio state university osu dataset was used which included  color photographs in six categories ie beaches city streets forests highways mountains and offices as well as  corresponding line drawings produced by trained artists experimental results show that our proposed cognitive framework achieves  recognition rate in leaveoneout crossvalidation which is much higher than fmridatadriven decoding accuracy in the visualprocessing hierarchy  in v1  in v2vp  in v4  in ppa and  in rsc\n",
      "\n",
      "\"Neurocomputing\" (Social psychology)\n",
      "contusion and recovery of individual cognition based on catastrophe theory a computational model abstract originated in emergent behavior characterized by interactions between individuals and cognitive processes sudden changes in behavior are common phenomena under the information pressure being perceived by individuals particularly those whose cognition is weak to negative information said behavioral changes are thus related to reactive individual behavior to probe its underlying mechanism we introduce an icr model that accounts for the sudden changes in individual cognitions and behaviors to ensure that our model is stable in different types of network environments verification results show that the model indeed accurately describes the various catastrophe paths of individual cognition exploration of our model also shows it can be applied in polarization of group behavior and the confidence intervals of the resilience of individuals were analyzed to identify reversal patterns of polarized group behavior as a discussion of the results it shows that the proposed model has wonderful prospect to support neural network training in individual behaviors among networks\n",
      "\n",
      "\"Neurocomputing\" (Social psychology)\n",
      "eeg responses to emotional videos can quantitatively predict bigfive personality traits abstract recent advances in information technology have suggested the potential possibility to assess an individuals personality automatically the present study proposed and implemented an eegbased personality assessment method for quantitative evaluation of peoples big five personality eeg data were collected from  participants while they watched a total number of  video clips covering  typical emotion categories of amusement joy inspiration tenderness anger disgust fear sadness and neutral regression analyses were performed to predict the participants big five personality trait scores using the eeg responses to these emotional video clips a nested leaveoneout crossvalidation procedure was employed with a sparse feature selection strategy to evaluate the outofsample personality assessment performance the established eegbased regression models could effectively predict the participants selfreported personality trait scores the prediction accuracies measured as the correlations between the eegpredicted personality trait scores and the selfreported scores were     and  for agreeableness conscientiousness neuroticism openness and extraversion respectively a series of tests from both the internal and external validity perspective further showed that a good reliability of the obtained results these results suggest the proposed method as a promising alternative to conventional personality questionnaires\n",
      "\n",
      "\"Neural Computing and Applications\" (Mining engineering)\n",
      "a hierarchical localmodel tree for predicting roof displacement in longwall tailgates an explicit challenge for mine productivity and personnels safety in mechanized underground mines is to envisage the uncontrolled roof displacements usually occurred in underground roadways for this purpose support systems are to be installed to guarantee the proper functionality of underground structures during mining operations roof displacement is a reliable indicator to examine stability conditions of tunnels or roadways which are driven in underground coal mines in this research a neurofuzzybased method namely hierarchical local model tree hilomot was employed to predict the roof displacements and consequently indicate the unstable zones in a tailgate roadway in this regard the geomechanical and instrumentation information measured from a longwall panel at tabas coal mine was employed to validate the developed hilomot model according to the results the proposed hilomot model could predict roof displacements in reasonable conformity when compared with measured ones in order to examine the prediction capability of the hilomot model three indices of the coefficient of determination   r   variance accounted for vaf and root mean square error rmse were used introducing unseen test data r   vaf and rmse were respectively obtained as   and  which showed high goodness of fit and low error for the proposed model in comparison with anfis as a common fuzzybased model hilomot could predict the roof displacement by a nonlinear partitioning based on the incremental treeconstruction which improves the quality of the model without further iteration loops or trial and error therefore the hilomot model may be implemented as a new applicable tool for predicting roof displacements ahead of time in mechanized longwall mining\n",
      "\n",
      "\"Expert Systems With Applications\" (Artificial intelligence)\n",
      "goals values and reasoning abstract it is impossible to model human reasoning without taking into consideration the values and goals behind a decision although the problem of inference with values and goals has been discussed by a number of authors many issues still stand in need of further development the main purpose of this work is to discuss the issue of modeling of values and goals in reasoning and argumentation hence the need for an analysis of existing definitions of values and goals a discussion of relations between them and the formulation of value and goalbased mechanisms of reasoning\n",
      "\n",
      "\"Neurocomputing\" (Systems engineering)\n",
      "the existence and exponential stability of periodic solution for coupled systems on networks without strong connectedness abstract this paper focuses on the problem of the existence and global exponential stability of periodic solution for coupled systems with delays on networks without strong connectedness nwsc which extends previous results of strongly connected networks an innovative hierarchical method is proposed to characterize a large nwsc then each layer consists of several independent strongly connected subnets by using the existing results of strongly connected networks and constructing auxiliary systems we investigate the existence of periodic solution for original coupled systems on nwsc layer by layer moreover the uniqueness and global exponential stability of periodic solution are considered as well then the theoretical results are applied to coupled oscillators on nwsc finally a numerical example is also provided to illustrate the effectiveness of the theoretical results\n",
      "\n",
      "\"Neurocomputing\" (Control engineering)\n",
      "stabilization and synchronization of chaotic systems with mixed timevarying delays via intermittent control with nonfixed both control period and control width in this paper a class of chaotic systems with both discrete and distributed timevarying delays are considered without assuming the differentiability of the timevarying delays the stabilization and synchronization for the considered chaotic systems are investigated via intermittent control with nonfixed both control period and control width several delaydependent criteria for checking the stabilization and synchronization for the considered chaotic systems are presented by employing lyapunovkrasovskii functional and using the matrix inequality techniques the obtained results extend ones on stabilization and synchronization of delayed chaotic systems by periodically intermittent control with both fixed control period and control width an example with simulations is given to show the effectiveness of the obtained results\n",
      "\n",
      "\"Neurocomputing\" (Control engineering)\n",
      "predictionbased approach to finitetime stabilization of networked control systems with time delays and data packet dropouts abstract the problem of finitetime stabilization is investigated for a class of discretetime networked control systems with network induced time delays and data packet dropouts in the feedback channel and the forward channel by using predictive networked control methods novel finitetime statefeedback and outputfeedback stabilization controllers are proposed and the time delays and data packet dropouts are compensated actively for the given discretetime networked control system sufficient conditions of finitetime stabilization are given numerical examples are provided to illustrate the effectiveness of the proposed results in this paper\n",
      "\n",
      "\"Neurocomputing\" (Mathematical analysis)\n",
      "boundedness and convergence of split complex gradient descent algorithm with momentum and regularizer for tsk fuzzy models abstract this paper investigates the split complex gradient descent based neurofuzzy algorithm with selfadaptive momentum and l2 regularizer for training tsk takagisugenokang fuzzy inference models the major threat for disposing complex data with fuzzy system is contradiction of boundedness and analyticity in the complex domain as expressed by liouvilles theorem the proposed algorithm operates a couple of realvalued functions and splits the complex variables into real part and imaginary part dynamical momentum is included in the learning mechanism to promote learning speed l2 regularizer is also added to control the magnitude of the weight parameters furthermore a detailed convergence analysis of the proposed algorithm is fully studied the monotonic decreasing property of the error function and convergence of the weight sequence are guaranteed plus a mild condition strong convergence of the weight sequence is deduced finally the simulation results are also demonstrated to verify the theoretical analysis results\n",
      "\n",
      "\"Neurocomputing\" (Database)\n",
      "generalpurpose image quality assessment based on distortionaware decision fusion generalpurpose image quality metrics aiming for quality prediction across various distortion types exhibit on the whole very limited effectiveness in this paper we propose a twostage scheme to alleviate this limitation at the first stage probabilistic knowledge about the image distortion types is obtained based on a supportvector classification method at the second stage decision fusion of three existing image quality metrics is performed using the knearestneighbor knn regression where the aforementioned probabilistic knowledge is utilized under an adaptive weighting scheme we evaluate our method on the tid2008 database that is the largest publicly available image quality database containing  distortion types the results strongly support the effectiveness and robustness of our method\n",
      "\n",
      "\"Expert Systems With Applications\" (Telecommunications)\n",
      "performance evaluation of the correntropy coefficient in automatic modulation classification abstract automatic modulation classification amc techniques have applications in a variety of wireless communication scenarios such as adaptive systems cognitive radio and surveillance systems however a common requirement to most of the amc techniques proposed in the literature is the use of signal preprocessing modules which can increase the computational cost and decrease the scalability of the amc strategy this work proposes the direct use of a similarity measure based on information theory for the automatic recognition of digital modulations which is known as correntropy coefficient the performance of correntropy in amc applied to channels subject to additive white gaussian noise awgn is evaluated specifically the influence of the kernel size on the classifier performance is analyzed since it is the only free parameter in correntropy besides a relationship between its respective value and the signaltonoise ratio snr of the channel is also proposed considering the investigated modulation techniques numerical results obtained by simulation demonstrate that there are high accuracy rates in classification even at low snr values by using correntropy amc task becomes simpler and more efficient\n",
      "\n",
      "\"Neural Computing and Applications\" (Microeconomics)\n",
      "supply chain security evaluation model and index system based on a 5g information system currently the supply chain management model has been widely adopted worldwide internationally renowned companies such as ibm and walmart have made significant achievements in supply chain management and have played a greater role in promoting the growth of their interests however while they are enjoying their own interests they are also facing various risks in the supply chain from the perspective of systems engineering this paper uses complex network theory as a research tool to study supply chain networks and systematically study the important issues of supply chain network risks this paper analyzes the new characteristics of the relationship between enterprises and suppliers in the supply chain and which indicators should be selected as the basis for evaluating suppliers from the perspective of cooperation and development which more comprehensively reflects the characteristics of the new enterprisesupplier relationship in the supply chain environment this highlights the evaluation of the suppliers cooperation ability and development ability aiming at the problem of supply chain network system identification and integrated evaluation a supply chain security evaluation model and index system research framework model are proposed and the intercompany business risk and supply chain in supply chain network evaluation are introduced as a model for evaluating transition parameters the study of supply chain risk propagation introduces the theory of dynamic propagation in complex networks the law of evolution and the suppliers dynamic supply chain risk model the experimental results of this paper show that when the global reputation value is  and the local reputation value is  and  the trust degree changes with the change of the confidence factor when the value of the confidence factor decreases the degree of trust converges more and more to the global reputation and vice versa it can be seen that this model has high feasibility\n",
      "\n",
      "\"Expert Systems With Applications\" (Marketing)\n",
      "application of salesmanlike recommendation system in 3g mobile phone online shopping decision support the rapid growth of ecommerce has confronted both enterprises and consumers with a new situation whereas companies are finding it harder to survive consumers are unable to effectively select the products that really to meet their needs to reduce the product overload of internet shoppers a variety of recommendation techniques that track previous actions of groups of consumers to make personalized recommendations have been developed and applied current personalized recommendation systems suffer from the need to analyze large sets of consumer data or data for numerous consumers however even within a single group consumer preferences may differ and individual preferences may also change with circumstances additionally the consumer product knowledge influences their browsing actions to orient webvisitors on how to become consumers a salesmanlike recommendation technology was developed based on visitor product preference index which comprises of their product knowledge and browsing actions in scene a prototype system for use with hightechnology product 3g phones was developed to test the effectiveness of the recommendation technology through a test of  objectives the results show that the recommendation deviation level can be reduced to  and exact fit with visitor favor products can reach  showing that the proposed model can achieve recommendation effectiveness\n",
      "\n",
      "\"Expert Systems With Applications\" (Environmental planning)\n",
      "environmental impact assessment based on d numbers environmental impact assessment eia is a complex problem influenced by many aspects such as environmental social economic etc due to the involvement of human judgment various uncertainties are introduced in the eia process one critical issue of eia is the representation and handling of uncertain information many different theories are available to deal with uncertainty however deficiencies exist in these theories in this paper based on a more effective representation of uncertainty called d numbers a new method is proposed for the eia problem in the proposed method the assessment results of environmental impacts are expressed and modeled by d numbers an illustrative case is provided to demonstrate the effectiveness of the proposed method\n",
      "\n",
      "\"Expert Systems With Applications\" (Environmental planning)\n",
      "an expert system for the identification of environmental impact based on a geographic information system the identification and assessment of the environmental impacts of engineering projects is an essential step in studies on environmental impact ies there are methods that allow both tasks to be performed and methods that allow each of them to be carried out separately normally traditional methods are used to identify and evaluate environmental impacts such as matrices causeeffect network diagrams or check lists here we report the configuration of an expert system as a tool that allows environmental impacts to be identified the expert system is based on a geographic information system to configure the knowledge base the inference motor and the user interface the knowledge base comprises declarative knowledge structured in an alphanumeric and spatial database from official cartographic information and procedural knowledge via heuristic rules that superimpose project actions over environmental factors we then describe the application of the expert system to the study of the environmental impact of the r motorway in the community of madrid spain as results running the expert system allows the identification of environmental impacts on environmental factors defined at the  and  cartographic scales finally analysis of the results or conclusions allows the validity of the use of graphic expert systems to be compared for the identification of environmental impacts\n",
      "\n",
      "\"Neurocomputing\" (Artificial intelligence)\n",
      "encoding symbolic features in simple decision systems over ontological graphs for pso and neural network based classifiers in the paper we present the idea of encoding symbolic features appearing in simple decision systems over ontological graphs for building classifiers based on particle swarm optimization pso as well as neural networks simple decision systems over ontological graphs refer to a general trend in computations proposed by zadeh and called computing with words in case of such decision systems we deal with attribute values describing objects of interest which are concepts placed in semantic spaces expressed by means of ontological graphs ontological graphs deliver us some additional knowledge which can be useful in classification processes symbolic data in our approach in the form of concepts from ontologies require special treatment to be used in classifiers based on searching for the numerical mapping functions between the known inputs and the corresponding known outputs\n",
      "\n",
      "\"Neurocomputing\" (Artificial intelligence)\n",
      "enhancing riskadjusted performance of stock market intraday trading with neurofuzzy systems whilst the interest of many former studies on the application of ai in finance is solely on predicting market movements trading practitioners are predominantly concerned about riskadjusted performance this paper provides new insights into improving the timevarying riskadjusted performance of trading systems controlled by artificial neural networks anns adaptive neurofuzzy systems anfis or dynamic evolving neuro fuzzy systems denfis contrary to most former studies which focus on daily predictions we compare these models in an intraday stock trading scenario using highfrequency data firstly we propose a dynamic extension of the popular moving average rule and enhance it with a model validation methodology using heat maps to analyse favourable profitability in specific holding time and signal regions secondly we study the effect of realistic constraints such as transaction costs and intraday trading hours which many existing approaches in the literature ignore thirdly unlike most former studies that only aim to minimise statistical error measures we compare this approach with financially more relevant riskadjusted objective functions to this end we also consider an innovative anfis ensemble architecture which on an intraday level dynamically selects between different riskadjusted models our study shows that accounting for transaction costs and the use of riskreturn objective functions provide better results in outofsample tests overall the ann model is identified as a viable model however anfis shows more stable timevarying performance across multiple market regimes moreover we find that combining multiple riskadjusted objective functions using an anfis ensemble yields promising results\n",
      "\n",
      "\"Expert Systems With Applications\" (Virology)\n",
      "sufmofpa a superpixel and metaheuristic based fuzzy image segmentation approach to explicate covid radiological images abstract coronavirus disease  or covid is one of the biggest challenges which are being faced by mankind researchers are continuously trying to discover a vaccine or medicine for this highly infectious disease but proper success is not achieved to date many countries are suffering from this disease and trying to find some solution that can prevent the dramatic spread of this virus although the mortality rate is not very high the highly infectious nature of this virus makes it a global threat rtpcr test is the only means to confirm the presence of this virus to date only precautionary measures like early screening frequent hand wash social distancing use of masks and other protective equipment can prevent us from this virus some researches show that the radiological images can be quite helpful for the early screening purpose because some features of the radiological images indicate the presence of the covid virus and therefore it can serve as an effective screening tool automated analysis of these radiological images can help the physicians and other domain experts to study and screen the suspected patients easily and reliably within the stipulated amount of time this method may not replace the traditional rtpcr method for detection but it can be helpful to filter the suspected patients from the rest of the community that can effectively reduce the spread in the of this virus a novel method is proposed in this work to segment the radiological images for the better explication of the covid radiological images the proposed method will be known as sufmofpa superpixel based fuzzy modified flower pollination algorithm the type  fuzzy clustering system is blended with this proposed approach to get the bettersegmented outcome obtained results are quite promising and outperforming some of the standard approaches which are encouraging for the practical uses of the proposed approach to screening the covid patients\n",
      "\n",
      "\"Expert Systems With Applications\" (Human–computer interaction)\n",
      "evaluating heuristics for tabletop user segmentation based on simultaneous interaction abstract differentiating between users that interact on a tabletop could be beneficial for collaborative tasks to support territorialityoriented features such as a more efficient space management or a better presentation of the contents in this paper we design a novel algorithm for the user differentiation or segmentation based on the simultaneous manipulation of the controls this is a potential differentiating factor that has remained unexplored so far and in combination with other factors may become relevant to successfully accomplish such differentiation task basically it relies on the idea that users manipulate digital elements with a single hand and hence if two controls are being used at the same time they most likely belong to different users on the generic algorithm three different versions have been implemented that include several heuristics to address the problem the comparison under a simulated experiment shows that the heuristic involving more knowledge on distances on user controls performed better according to different goodness functions this shows promising to further development and refinement of the approach by expanding it with other potential factors to eventually build a robust user differentiation subsystem\n",
      "\n",
      "\"Expert Systems With Applications\" (Astrobiology)\n",
      "application of adaptive neurofuzzy inference system in modeling fatigue life under interspersed mixedmode i and ii spike overload in service components and structures frequently come across complicated fatigue loading situations such as interspersed mixedmode i and ii spike load on subsequent modei fatigue crack growth the designers rely on different fatigue life prediction methodology in order to avoid costly and time consuming fatigue tests earlier authors have proposed exponential and ann models to predict the fatigue life of  t7 and  t3 al alloys under the above loading conditions in the present work an attempt has been made to predict the fatigue life by adopting adoptive neurofuzzy inference anfis technique it is observed that the predicted results for both the alloys are within the maximum range of  in comparison to experimental findings\n",
      "\n",
      "\"Neurocomputing\" (Computer security)\n",
      "eventtriggered generalized dissipative filtering for delayed neural networks under aperiodic dos jamming attacks abstract this paper is concerned with eventtriggered generalized dissipative filtering for delayed neural networks under aperiodic denialofservice dos attacks note that dos attacks impede the wireless communications on measurement from time to time this paper aims at designing resilient filters against dos attacks to estimate neuronal states in the sense of dissipative for this goal a switched filter is introduced to cope with dos attacks and unavailability of state information in order to save precious communication resources an eventtriggered communication scheme is devised to transmit only necessary information to the filter with such setting the filtering error system is modeled as a switched system with timedelay by employing the piecewise lyapunovkrasovskii functional approach and linear matrix inequality techniques some criteria on the existence of suitable filters are presented against aperiodic dos attacks while suitable filtering performance can be ensured it should be mentioned that since a generalized dissipative performance index is introduced several kinds of resilient eventbased filtering issues such as h filtering passive filtering mixed h and passive filtering q s rdissipative filtering are solved in a unified framework in the presence of aperiodic dos attacks finally a numerical example is given to illustrate the effectiveness of the proposed method\n",
      "\n",
      "\"Neurocomputing\" (Data mining)\n",
      "topic aspectoriented summarization via group selection abstract the summarization is desirable to efficiently apprehend the gist of the huge amount of data and becomes a significant challenge in many applications such as news article summarization and social media mining considering the summaries from multidocuments of one topic can describe various aspects of one given topic this paper attempts to exploit appropriate priors to generate topic aspectoriented summarization abbreviated as taos the underlying intuition of the proposed taos is that different topics can prefer different aspects and the different aspects can be represented by different preference of featureseg technical topic may prefer proper noun than sports topic in order to materialize the intuition of taos we first extract several groups of features according to topic factors and then a group norm penalty ie l   l  norm and latent variables are utilized to select overlapping groups of features we compare our proposed approach with some stateoftheart methods on duc2003 duc2004 datasets for text summarization and nuswide dataset for image summarization the results show our method can generate meaningful summarization in terms of rouge and jensenshannon divergence metrics\n",
      "\n",
      "\"Neural Computing and Applications\" (World Wide Web)\n",
      "predicting phishing websites based on selfstructuring neural network internet has become an essential component of our everyday social and financial activities nevertheless internet users may be vulnerable to different types of web threats which may cause financial damages identity theft loss of private information brand reputation damage and loss of customers confidence in ecommerce and online banking phishing is considered as a form of web threats that is defined as the art of impersonating a website of an honest enterprise aiming to obtain confidential information such as usernames passwords and social security number so far there is no single solution that can capture every phishing attack in this article we proposed an intelligent model for predicting phishing attacks based on artificial neural network particularly selfstructuring neural networks phishing is a continuous problem where features significant in determining the type of web pages are constantly changing thus we need to constantly improve the network structure in order to cope with these changes our model solves this problem by automating the process of structuring the network and shows high acceptance for noisy data fault tolerance and high prediction accuracy several experiments were conducted in our research and the number of epochs differs in each experiment from the results we find that all produced structures have high generalization ability\n",
      "\n",
      "\"Expert Systems With Applications\" (Transport engineering)\n",
      "the city trip planner research highlights city trip planner integrates selection of attractions with routing between them  it provides personalised interest estimation  the realtime planning takes into account personal constraints and opening hours  usage statistics and user feedback demonstrate the appreciation by tourists over the last few years advanced digital applications have become available to tourists some of these offer the possibility of creating personalised routes this paper introduces a tourist expert system called the city trip planner that allows planning routes for five cities in belgium it is implemented as a web application that takes into account the interests and trip constraints of the user and matches these to a database of locations in order to predict personal interests a fast and effective planning algorithm provides an onthefly suggestion of a personal trip for a requested number of days taking into account opening hours of attractions and time for a lunch break the expert system is discussed in detail usage statistics and user feedback demonstrate that it is highly appreciated by tourists\n",
      "\n",
      "\"Expert Systems With Applications\" (Transport engineering)\n",
      "applying genetic algorithm to a new biobjective stochastic model for transportation location and allocation of hazardous materials a stochastic model for the locating and allocation of facilities of hazardous material is proposedthe model studies the transportation of hazardous material and supplying customers with goodsenvironmental risk profitability and cost stochasticity are incorporated into the modela genetic algorithm ga finds optimum and high quality solutions for both small and large problemsa ga is developed to obtain the best solution with run times of less than  of an exact algorithm in  approximately  hazmat accidents with  injuries and fatalities have been reported in the usa transportation statistics bureau managing hazardous material hazmat transportation and locating the disposal sites for these materials properly can significantly reduce the risk of accidents and its environmental and social aspects in this research a new stochastic model for transportation location and allocation of hazardous materials is proposed the cost of transportation is considered to be of a stochastic nature the objective function minimizes the total cost and risk of locating facilities and transportation of hazmats the decisions which have to be made are  where to open the facilities and disposal sites  to which facilities every customer should be assigned  to which disposal site each facility should be assigned and  which routes a facility should choose to reach the customers and disposal sites a novel genetic algorithm ga is applied to the model the results show the efficiency of the proposed ga in terms of finding high quality solutions in a short time\n",
      "\n",
      "\"Expert Systems With Applications\" (Arithmetic)\n",
      "a new approach for ranking of lr type generalized fuzzy numbers ranking of fuzzy numbers play an important role in decision making optimization forecasting etc fuzzy numbers must be ranked before an action is taken by a decision maker cheng cheng c h  a new approach for ranking fuzzy numbers by distance method fuzzy sets and systems   pointed out that the proof of the statement ranking of generalized fuzzy numbers does not depend upon the height of fuzzy numbers stated by liou and wang liou t s  wang m j  ranking fuzzy numbers with integral value fuzzy sets and systems   is incorrect in this paper by giving an alternative proof it is proved that the above statement is correct also with the help of several counter examples it is proved that ranking method proposed by chen and chen chen s m  chen j h  fuzzy risk analysis based on ranking generalized fuzzy numbers with different heights and different spreads expert systems with applications   is incorrect the main aim of this paper is to modify the liou and wang approach for the ranking of lr type generalized fuzzy numbers the main advantage of the proposed approach is that the proposed approach provide the correct ordering of generalized and normal fuzzy numbers and also the proposed approach is very simple and easy to apply in the real life problems it is shown that proposed ranking function satisfy all the reasonable properties of fuzzy quantities proposed by wang and kerre wang x  kerre e e  reasonable properties for the ordering of fuzzy quantities i fuzzy sets and systems\n",
      "\n",
      "\"Neural Computing and Applications\" (Thermodynamics)\n",
      "combined effects of brownian motion and thermophoresis parameters on threedimensional 3d casson nanofluid flow across the porous layers slendering sheet in a suspension of graphene nanoparticles the present study emphases on the threedimensional 3d casson nanofluid flow across a slendering sheet in porous layers by considering the thermophoresis and brownian motion effect the proposed mathematical model has a tendency to characterise the effect of the nonuniform heat sourcesink in the present simulation the graphenewaterbased nanoparticles have been used at two different temperatures namely  and c the nonlinear ordinary differential equations are solved using the rungekutta feldberg integration method the characteristics of velocity temperature and concentration boundary layers in the presence of graphenewater nanoparticles are presented for different physical parameters such as heat sourcesink parameter thermophoresis parameter brownian motion parameter casson fluid parameter porosity parameter volume fraction and velocity power index parameter moreover the friction factor coefficients nusselt number and sherwood number are also estimated and discussed for aforesaid physical parameters it is found that there is a significant increase in the thermal and concentration boundary layer thickness when the strength of the thermophoresis parameter is increased in contrast thermal boundary layer increases with the rise in the brownian motion parameter while the reverse trend holds true for concentration field in addition the rate of heat and mass transfer rate are higher in case of graphenewater nanoparticle at c compared to c temperature\n",
      "\n"
     ]
    }
   ],
   "source": [
    "i = 0\n",
    "for idx, row in pd.merge( sample_df, j_counts[['scholar_cat', 'journal_name', 'l1_k1', 'prop']].drop_duplicates(),\n",
    "        on=['scholar_cat', 'journal_name', 'l1_k1']).query(\"prop < .01\").iterrows():\n",
    "    if not row['scholar_cat'].startswith('eng_'):\n",
    "        continue\n",
    "    print(f\"\\\"{row['journal_name']}\\\" ({row['l1_k1']})\")\n",
    "    print(row['text'] + '\\n')\n",
    "    i += 1\n",
    "    if i > 50:\n",
    "        break"
   ],
   "metadata": {
    "collapsed": false,
    "pycharm": {
     "name": "#%%\n"
    }
   }
  },
  {
   "cell_type": "code",
   "execution_count": 209,
   "outputs": [
    {
     "data": {
      "text/plain": "                 scholar_cat                  l1_k1    n      prop\n0               med_virology               Virology  157  0.365116\n1               med_virology             Immunology   62  0.144186\n2               med_virology           Cell biology   52  0.120930\n3               med_virology               Genetics   13  0.030233\n4               med_virology             Pediatrics   13  0.030233\n..                       ...                    ...  ...       ...\n822  bio_agronomycropscience        Polymer science    1  0.003731\n823  bio_agronomycropscience             Statistics    1  0.003731\n824  bio_agronomycropscience  Transport engineering    1  0.003731\n825  bio_agronomycropscience               Virology    1  0.003731\n826  bio_agronomycropscience       Waste management    1  0.003731\n\n[827 rows x 4 columns]",
      "text/html": "<div>\n<style scoped>\n    .dataframe tbody tr th:only-of-type {\n        vertical-align: middle;\n    }\n\n    .dataframe tbody tr th {\n        vertical-align: top;\n    }\n\n    .dataframe thead th {\n        text-align: right;\n    }\n</style>\n<table border=\"1\" class=\"dataframe\">\n  <thead>\n    <tr style=\"text-align: right;\">\n      <th></th>\n      <th>scholar_cat</th>\n      <th>l1_k1</th>\n      <th>n</th>\n      <th>prop</th>\n    </tr>\n  </thead>\n  <tbody>\n    <tr>\n      <th>0</th>\n      <td>med_virology</td>\n      <td>Virology</td>\n      <td>157</td>\n      <td>0.365116</td>\n    </tr>\n    <tr>\n      <th>1</th>\n      <td>med_virology</td>\n      <td>Immunology</td>\n      <td>62</td>\n      <td>0.144186</td>\n    </tr>\n    <tr>\n      <th>2</th>\n      <td>med_virology</td>\n      <td>Cell biology</td>\n      <td>52</td>\n      <td>0.120930</td>\n    </tr>\n    <tr>\n      <th>3</th>\n      <td>med_virology</td>\n      <td>Genetics</td>\n      <td>13</td>\n      <td>0.030233</td>\n    </tr>\n    <tr>\n      <th>4</th>\n      <td>med_virology</td>\n      <td>Pediatrics</td>\n      <td>13</td>\n      <td>0.030233</td>\n    </tr>\n    <tr>\n      <th>...</th>\n      <td>...</td>\n      <td>...</td>\n      <td>...</td>\n      <td>...</td>\n    </tr>\n    <tr>\n      <th>822</th>\n      <td>bio_agronomycropscience</td>\n      <td>Polymer science</td>\n      <td>1</td>\n      <td>0.003731</td>\n    </tr>\n    <tr>\n      <th>823</th>\n      <td>bio_agronomycropscience</td>\n      <td>Statistics</td>\n      <td>1</td>\n      <td>0.003731</td>\n    </tr>\n    <tr>\n      <th>824</th>\n      <td>bio_agronomycropscience</td>\n      <td>Transport engineering</td>\n      <td>1</td>\n      <td>0.003731</td>\n    </tr>\n    <tr>\n      <th>825</th>\n      <td>bio_agronomycropscience</td>\n      <td>Virology</td>\n      <td>1</td>\n      <td>0.003731</td>\n    </tr>\n    <tr>\n      <th>826</th>\n      <td>bio_agronomycropscience</td>\n      <td>Waste management</td>\n      <td>1</td>\n      <td>0.003731</td>\n    </tr>\n  </tbody>\n</table>\n<p>827 rows × 4 columns</p>\n</div>"
     },
     "execution_count": 209,
     "metadata": {},
     "output_type": "execute_result"
    }
   ],
   "source": [
    "cat_counts = j_counts.groupby(['scholar_cat', 'l1_k1'])[['n']].agg('sum')\n",
    "cat_counts = cat_counts.sort_values(['scholar_cat', 'n'], ascending=False)\n",
    "cat_counts['prop'] = cat_counts.groupby('scholar_cat')['n'].apply(lambda x: x / x.sum())\n",
    "cat_counts = cat_counts.reset_index()\n",
    "cat_counts.to_csv('scholar_category_l1_counts.csv', index=False)\n",
    "cat_counts"
   ],
   "metadata": {
    "collapsed": false,
    "pycharm": {
     "name": "#%%\n"
    }
   }
  },
  {
   "cell_type": "code",
   "execution_count": 208,
   "outputs": [],
   "source": [
    "cat_counts_truncated = pd.concat({idx: df.iloc[:5] for idx, df in cat_counts.groupby('scholar_cat')}, ignore_index=True)\n",
    "cat_counts_truncated.to_csv('scholar_category_l1_counts_truncated.csv', index=False)"
   ],
   "metadata": {
    "collapsed": false,
    "pycharm": {
     "name": "#%%\n"
    }
   }
  }
 ],
 "metadata": {
  "kernelspec": {
   "display_name": "Python 3",
   "language": "python",
   "name": "python3"
  },
  "language_info": {
   "codemirror_mode": {
    "name": "ipython",
    "version": 2
   },
   "file_extension": ".py",
   "mimetype": "text/x-python",
   "name": "python",
   "nbconvert_exporter": "python",
   "pygments_lexer": "ipython2",
   "version": "2.7.6"
  }
 },
 "nbformat": 4,
 "nbformat_minor": 0
}