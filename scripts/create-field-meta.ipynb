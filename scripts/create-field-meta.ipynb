{
 "cells": [
  {
   "cell_type": "code",
   "id": "initial_id",
   "metadata": {
    "collapsed": true,
    "ExecuteTime": {
     "end_time": "2024-11-29T17:59:24.890013Z",
     "start_time": "2024-11-29T17:59:24.884777Z"
    }
   },
   "source": [
    "from fos.entity import load_entities\n",
    "from fos.vectors import load_fasttext, load_tfidf, load_field_keys\n",
    "from fos.settings import ASSETS_DIR\n",
    "\n",
    "import pandas as pd"
   ],
   "outputs": [],
   "execution_count": 19
  },
  {
   "metadata": {
    "ExecuteTime": {
     "end_time": "2024-11-29T17:59:25.200191Z",
     "start_time": "2024-11-29T17:59:25.197801Z"
    }
   },
   "cell_type": "code",
   "source": "import re",
   "id": "9fcabbfd60edf00a",
   "outputs": [],
   "execution_count": 20
  },
  {
   "metadata": {
    "ExecuteTime": {
     "end_time": "2024-11-29T17:59:25.538469Z",
     "start_time": "2024-11-29T17:59:25.535869Z"
    }
   },
   "cell_type": "code",
   "source": [
    "def clean_text(text):\n",
    "    # Normalize hyphens\n",
    "    text = re.sub(r'[–—]', '-', text)\n",
    "    # Normalize whitespace\n",
    "    text = re.sub(r'\\s+', ' ', text)\n",
    "    text = text.strip()\n",
    "    return text"
   ],
   "id": "5859e347dfb07180",
   "outputs": [],
   "execution_count": 21
  },
  {
   "metadata": {
    "ExecuteTime": {
     "end_time": "2024-11-29T17:59:25.957589Z",
     "start_time": "2024-11-29T17:59:25.950319Z"
    }
   },
   "cell_type": "code",
   "source": [
    "def to_title(text):\n",
    "    # We assume all dashes are hyphens and each whitespace is a space \n",
    "    #   which requires clean_text first\n",
    "    tokens = re.split(r'([ \\-\\(\\)])', text)\n",
    "    cased_tokens = []\n",
    "    for i, token in enumerate(tokens):\n",
    "        # Two split-pattern chars in a row yields an empty string between the matches\n",
    "        if len(token) == 0:\n",
    "            continue\n",
    "        # Don't change abbreviation casing\n",
    "        elif len(token) > 1 and token.isupper():\n",
    "            cased_tokens.append(token)\n",
    "        # Also don't change e.g. 'eWLB'\n",
    "        elif not token[0].isupper() and len(token) > 1 \\\n",
    "            and any(c.isalpha() and c.isupper() for c in token[1:]):\n",
    "                cased_tokens.append(token)\n",
    "        # Lowercase prepositions, unless they're the first word\n",
    "        elif i > 0 and token.lower() in ['a', 'an', 'the', 'of', 'and', 'or', 'but', 'for', 'nor', 'on', 'at', 'to', 'from', 'by', 'with', 'in', 'through', 'via']:\n",
    "            cased_tokens.append(token.lower())\n",
    "        # Uppercase the first letter of other words\n",
    "        elif len(token) == 1:\n",
    "            cased_tokens.append(token[0].upper())\n",
    "        else:\n",
    "            cased_tokens.append(token[0].upper() + token[1:])\n",
    "    text = ''.join(cased_tokens)\n",
    "    return text\n",
    "\n",
    "assert to_title('Computer science') == 'Computer Science', to_title('Computer science')\n",
    "assert to_title('Neuro-symbolic AI') == 'Neuro-Symbolic AI'\n",
    "assert to_title('text-to-speech') == 'Text-to-Speech'\n",
    "assert to_title('Text-To-Image Models') == 'Text-to-Image Models'\n",
    "assert to_title('System On A Chip') == 'System on a Chip'\n",
    "assert to_title('Zero-Knowledge Proofs') == 'Zero-Knowledge Proofs'\n",
    "assert to_title('Law and society') == 'Law and Society'\n",
    "assert to_title('The Law and society') == 'The Law and Society'\n",
    "assert to_title('GPU') == 'GPU'\n",
    "assert to_title('Brain-computer interfacing') == 'Brain-Computer Interfacing'\n",
    "assert to_title('eWLB packaging') == 'eWLB Packaging'\n",
    "assert to_title('System in a package') == 'System in a Package'\n",
    "assert to_title('Risk analysis (Engineering)') == 'Risk Analysis (Engineering)'"
   ],
   "id": "814117ef75af69da",
   "outputs": [],
   "execution_count": 22
  },
  {
   "metadata": {
    "ExecuteTime": {
     "end_time": "2024-11-29T17:59:26.473874Z",
     "start_time": "2024-11-29T17:59:26.469529Z"
    }
   },
   "cell_type": "code",
   "source": [
    "keys = load_field_keys(\"en\")\n",
    "len(keys)"
   ],
   "id": "1377dcd28e555005",
   "outputs": [
    {
     "data": {
      "text/plain": [
       "1109"
      ]
     },
     "execution_count": 23,
     "metadata": {},
     "output_type": "execute_result"
    }
   ],
   "execution_count": 23
  },
  {
   "metadata": {
    "ExecuteTime": {
     "end_time": "2024-11-29T17:59:26.980162Z",
     "start_time": "2024-11-29T17:59:26.976950Z"
    }
   },
   "cell_type": "code",
   "source": "keys[:5]",
   "id": "db5bff2dbf752053",
   "outputs": [
    {
     "data": {
      "text/plain": [
       "['Environmental science', 'Geology', 'Chemistry', 'History', 'Engineering']"
      ]
     },
     "execution_count": 24,
     "metadata": {},
     "output_type": "execute_result"
    }
   ],
   "execution_count": 24
  },
  {
   "metadata": {
    "ExecuteTime": {
     "end_time": "2024-11-29T17:59:30.244013Z",
     "start_time": "2024-11-29T17:59:30.227158Z"
    }
   },
   "cell_type": "code",
   "source": [
    "keys = [to_title(clean_text(key)) for key in keys]\n",
    "\n",
    "# Going to need to fix this -- on inspection this appears in the DB too. We have one\n",
    "# record with a dash and another with an en-dash.\n",
    "pd.Series(keys)[pd.Series(keys).duplicated()]"
   ],
   "id": "d7d3debd9291f583",
   "outputs": [
    {
     "data": {
      "text/plain": [
       "370    Human-Computer Interaction\n",
       "dtype: object"
      ]
     },
     "execution_count": 25,
     "metadata": {},
     "output_type": "execute_result"
    }
   ],
   "execution_count": 25
  },
  {
   "metadata": {
    "ExecuteTime": {
     "end_time": "2024-11-29T17:59:36.191866Z",
     "start_time": "2024-11-29T17:59:35.656315Z"
    }
   },
   "cell_type": "code",
   "source": [
    "db = pd.read_sql_table('pages', 'sqlite:///../wiki/data/wiki.db')\n",
    "db.head()"
   ],
   "id": "79974e7f64f7cdc1",
   "outputs": [
    {
     "data": {
      "text/plain": [
       "   id  level           display_name        normalized_name  \\\n",
       "0   1      0  Environmental science  environmental science   \n",
       "1   2      0                Geology                geology   \n",
       "2   3      0              Chemistry              chemistry   \n",
       "3   4      0                History                history   \n",
       "4   5      0            Engineering            engineering   \n",
       "\n",
       "              en_title_1 page_id_1  \\\n",
       "0  Environmental science     64919   \n",
       "1                Geology     12207   \n",
       "2              Chemistry      5180   \n",
       "3                History  10772350   \n",
       "4            Engineering      9251   \n",
       "\n",
       "                                           en_html_1 wiki_title_1_section  \\\n",
       "0  <!DOCTYPE html>\\n<html prefix=\"dc: http://purl...                 None   \n",
       "1  <!DOCTYPE html>\\n<html prefix=\"dc: http://purl...                 None   \n",
       "2  <!DOCTYPE html>\\n<html prefix=\"dc: http://purl...                 None   \n",
       "3  <!DOCTYPE html>\\n<html prefix=\"dc: http://purl...                 None   \n",
       "4  <!DOCTYPE html>\\n<html prefix=\"dc: http://purl...                 None   \n",
       "\n",
       "  wiki_title_2_section en_title_2 page_id_2 wiki_title_3_section en_title_3  \\\n",
       "0                 None       None      None                 None       None   \n",
       "1                 None       None      None                 None       None   \n",
       "2                 None       None      None                 None       None   \n",
       "3                 None       None      None                 None       None   \n",
       "4                 None       None      None                 None       None   \n",
       "\n",
       "  page_id_3 en_html_2 en_html_3  \\\n",
       "0      None      None      None   \n",
       "1      None      None      None   \n",
       "2      None      None      None   \n",
       "3      None      None      None   \n",
       "4      None      None      None   \n",
       "\n",
       "                                             en_text  \n",
       "0   Environmental science is an interdisciplinary...  \n",
       "1   Geology (from Ancient Greek  γῆ (gê) 'earth' ...  \n",
       "2   Chemistry is the scientific study of the prop...  \n",
       "3   History (derived from Ancient Greek  ἱστορία ...  \n",
       "4   Engineering is the practice of using natural ...  "
      ],
      "text/html": [
       "<div>\n",
       "<style scoped>\n",
       "    .dataframe tbody tr th:only-of-type {\n",
       "        vertical-align: middle;\n",
       "    }\n",
       "\n",
       "    .dataframe tbody tr th {\n",
       "        vertical-align: top;\n",
       "    }\n",
       "\n",
       "    .dataframe thead th {\n",
       "        text-align: right;\n",
       "    }\n",
       "</style>\n",
       "<table border=\"1\" class=\"dataframe\">\n",
       "  <thead>\n",
       "    <tr style=\"text-align: right;\">\n",
       "      <th></th>\n",
       "      <th>id</th>\n",
       "      <th>level</th>\n",
       "      <th>display_name</th>\n",
       "      <th>normalized_name</th>\n",
       "      <th>en_title_1</th>\n",
       "      <th>page_id_1</th>\n",
       "      <th>en_html_1</th>\n",
       "      <th>wiki_title_1_section</th>\n",
       "      <th>wiki_title_2_section</th>\n",
       "      <th>en_title_2</th>\n",
       "      <th>page_id_2</th>\n",
       "      <th>wiki_title_3_section</th>\n",
       "      <th>en_title_3</th>\n",
       "      <th>page_id_3</th>\n",
       "      <th>en_html_2</th>\n",
       "      <th>en_html_3</th>\n",
       "      <th>en_text</th>\n",
       "    </tr>\n",
       "  </thead>\n",
       "  <tbody>\n",
       "    <tr>\n",
       "      <th>0</th>\n",
       "      <td>1</td>\n",
       "      <td>0</td>\n",
       "      <td>Environmental science</td>\n",
       "      <td>environmental science</td>\n",
       "      <td>Environmental science</td>\n",
       "      <td>64919</td>\n",
       "      <td>&lt;!DOCTYPE html&gt;\\n&lt;html prefix=\"dc: http://purl...</td>\n",
       "      <td>None</td>\n",
       "      <td>None</td>\n",
       "      <td>None</td>\n",
       "      <td>None</td>\n",
       "      <td>None</td>\n",
       "      <td>None</td>\n",
       "      <td>None</td>\n",
       "      <td>None</td>\n",
       "      <td>None</td>\n",
       "      <td>Environmental science is an interdisciplinary...</td>\n",
       "    </tr>\n",
       "    <tr>\n",
       "      <th>1</th>\n",
       "      <td>2</td>\n",
       "      <td>0</td>\n",
       "      <td>Geology</td>\n",
       "      <td>geology</td>\n",
       "      <td>Geology</td>\n",
       "      <td>12207</td>\n",
       "      <td>&lt;!DOCTYPE html&gt;\\n&lt;html prefix=\"dc: http://purl...</td>\n",
       "      <td>None</td>\n",
       "      <td>None</td>\n",
       "      <td>None</td>\n",
       "      <td>None</td>\n",
       "      <td>None</td>\n",
       "      <td>None</td>\n",
       "      <td>None</td>\n",
       "      <td>None</td>\n",
       "      <td>None</td>\n",
       "      <td>Geology (from Ancient Greek  γῆ (gê) 'earth' ...</td>\n",
       "    </tr>\n",
       "    <tr>\n",
       "      <th>2</th>\n",
       "      <td>3</td>\n",
       "      <td>0</td>\n",
       "      <td>Chemistry</td>\n",
       "      <td>chemistry</td>\n",
       "      <td>Chemistry</td>\n",
       "      <td>5180</td>\n",
       "      <td>&lt;!DOCTYPE html&gt;\\n&lt;html prefix=\"dc: http://purl...</td>\n",
       "      <td>None</td>\n",
       "      <td>None</td>\n",
       "      <td>None</td>\n",
       "      <td>None</td>\n",
       "      <td>None</td>\n",
       "      <td>None</td>\n",
       "      <td>None</td>\n",
       "      <td>None</td>\n",
       "      <td>None</td>\n",
       "      <td>Chemistry is the scientific study of the prop...</td>\n",
       "    </tr>\n",
       "    <tr>\n",
       "      <th>3</th>\n",
       "      <td>4</td>\n",
       "      <td>0</td>\n",
       "      <td>History</td>\n",
       "      <td>history</td>\n",
       "      <td>History</td>\n",
       "      <td>10772350</td>\n",
       "      <td>&lt;!DOCTYPE html&gt;\\n&lt;html prefix=\"dc: http://purl...</td>\n",
       "      <td>None</td>\n",
       "      <td>None</td>\n",
       "      <td>None</td>\n",
       "      <td>None</td>\n",
       "      <td>None</td>\n",
       "      <td>None</td>\n",
       "      <td>None</td>\n",
       "      <td>None</td>\n",
       "      <td>None</td>\n",
       "      <td>History (derived from Ancient Greek  ἱστορία ...</td>\n",
       "    </tr>\n",
       "    <tr>\n",
       "      <th>4</th>\n",
       "      <td>5</td>\n",
       "      <td>0</td>\n",
       "      <td>Engineering</td>\n",
       "      <td>engineering</td>\n",
       "      <td>Engineering</td>\n",
       "      <td>9251</td>\n",
       "      <td>&lt;!DOCTYPE html&gt;\\n&lt;html prefix=\"dc: http://purl...</td>\n",
       "      <td>None</td>\n",
       "      <td>None</td>\n",
       "      <td>None</td>\n",
       "      <td>None</td>\n",
       "      <td>None</td>\n",
       "      <td>None</td>\n",
       "      <td>None</td>\n",
       "      <td>None</td>\n",
       "      <td>None</td>\n",
       "      <td>Engineering is the practice of using natural ...</td>\n",
       "    </tr>\n",
       "  </tbody>\n",
       "</table>\n",
       "</div>"
      ]
     },
     "execution_count": 26,
     "metadata": {},
     "output_type": "execute_result"
    }
   ],
   "execution_count": 26
  },
  {
   "metadata": {},
   "cell_type": "markdown",
   "source": "Take a moment to confirm that our key index -- the list of field names that identifes rows in field embedding matrices -- is consistent with the field names in the database.  ",
   "id": "a101611dc9dc9cd9"
  },
  {
   "metadata": {
    "ExecuteTime": {
     "end_time": "2024-11-29T17:59:40.114252Z",
     "start_time": "2024-11-29T17:59:40.095744Z"
    }
   },
   "cell_type": "code",
   "source": [
    "for display_name in db['display_name'].sort_values():\n",
    "    display_name = clean_text(display_name)\n",
    "    if display_name != to_title(display_name):\n",
    "        print(display_name, '->', to_title(display_name))"
   ],
   "id": "bc1da478b8d435d",
   "outputs": [
    {
     "name": "stdout",
     "output_type": "stream",
     "text": [
      "3D integrated circuit -> 3D Integrated Circuit\n",
      "3D microfabrication -> 3D Microfabrication\n",
      "AI alignment -> AI Alignment\n",
      "AI safety -> AI Safety\n",
      "Abductive reasoning -> Abductive Reasoning\n",
      "Access control -> Access Control\n",
      "Active contour model -> Active Contour Model\n",
      "Active learning -> Active Learning\n",
      "Active-pixel sensor -> Active-Pixel Sensor\n",
      "Activity recognition -> Activity Recognition\n",
      "Actuarial science -> Actuarial Science\n",
      "Adversarial machine learning -> Adversarial Machine Learning\n",
      "Aerospace engineering -> Aerospace Engineering\n",
      "Affective neuroscience -> Affective Neuroscience\n",
      "Agent architectures -> Agent Architectures\n",
      "Agent-based modeling -> Agent-Based Modeling\n",
      "Agent-based social simulation -> Agent-Based Social Simulation\n",
      "Agricultural biotechnology -> Agricultural Biotechnology\n",
      "Agricultural economics -> Agricultural Economics\n",
      "Agricultural engineering -> Agricultural Engineering\n",
      "Agricultural science -> Agricultural Science\n",
      "Algorithmic bias -> Algorithmic Bias\n",
      "Alignment-free sequence analysis -> Alignment-Free Sequence Analysis\n",
      "Allergen immunotherapy -> Allergen Immunotherapy\n",
      "Analytical chemistry -> Analytical Chemistry\n",
      "Ancient history -> Ancient History\n",
      "Animal vaccine development -> Animal Vaccine Development\n",
      "Animal virology -> Animal Virology\n",
      "Antigenic drift -> Antigenic Drift\n",
      "Antigenic shift -> Antigenic Shift\n",
      "Antimicrobial resistance -> Antimicrobial Resistance\n",
      "Antiviral drug development -> Antiviral Drug Development\n",
      "Application security -> Application Security\n",
      "Applied mathematics -> Applied Mathematics\n",
      "Applied psychology -> Applied Psychology\n",
      "Arbitrary code execution -> Arbitrary Code Execution\n",
      "Archael virology -> Archael Virology\n",
      "Architectural engineering -> Architectural Engineering\n",
      "Argument mining -> Argument Mining\n",
      "Art history -> Art History\n",
      "Artificial brain -> Artificial Brain\n",
      "Artificial consciousness -> Artificial Consciousness\n",
      "Artificial empathy -> Artificial Empathy\n",
      "Artificial gene synthesis -> Artificial Gene Synthesis\n",
      "Artificial general intelligence -> Artificial General Intelligence\n",
      "Artificial intelligence -> Artificial Intelligence\n",
      "Artificial intelligence in government -> Artificial Intelligence in Government\n",
      "Artificial life -> Artificial Life\n",
      "Atmospheric sciences -> Atmospheric Sciences\n",
      "Atomic force microscopy -> Atomic Force Microscopy\n",
      "Atomic layer deposition -> Atomic Layer Deposition\n",
      "Atomic layer etching -> Atomic Layer Etching\n",
      "Atomic physics -> Atomic Physics\n",
      "Auction theory -> Auction Theory\n",
      "Augmented cognition -> Augmented Cognition\n",
      "Automated planning and scheduling -> Automated Planning and Scheduling\n",
      "Automated reasoning -> Automated Reasoning\n",
      "Automated theorem proving -> Automated Theorem Proving\n",
      "Automatic summarization -> Automatic Summarization\n",
      "Automatic test equipment -> Automatic Test Equipment\n",
      "Automotive engineering -> Automotive Engineering\n",
      "Autoregressive model -> Autoregressive Model\n",
      "BGA packaging -> BGA Packaging\n",
      "Bacterial genetics -> Bacterial Genetics\n",
      "Ball bonding -> Ball Bonding\n",
      "Bayesian inference -> Bayesian Inference\n",
      "Bayesian learning mechanisms -> Bayesian Learning Mechanisms\n",
      "Bayesian networks -> Bayesian Networks\n",
      "Behavioral epigenetics -> Behavioral Epigenetics\n",
      "Behavioral game theory -> Behavioral Game Theory\n",
      "Behavioral neuroscience -> Behavioral Neuroscience\n",
      "Behavioural genetics -> Behavioural Genetics\n",
      "Bio-inspired computing -> Bio-Inspired Computing\n",
      "Biochemical and Bioproducts engineering -> Biochemical and Bioproducts Engineering\n",
      "Biochemical engineering -> Biochemical Engineering\n",
      "Bioimage informatics -> Bioimage Informatics\n",
      "Biological psychopathology -> Biological Psychopathology\n",
      "Biological systems engineering -> Biological Systems Engineering\n",
      "Biomechanical engineering -> Biomechanical Engineering\n",
      "Biomedical engineering -> Biomedical Engineering\n",
      "Biomedical instrumentation -> Biomedical Instrumentation\n",
      "Biomedical text mining -> Biomedical Text Mining\n",
      "Biomolecular engineering -> Biomolecular Engineering\n",
      "Blockchain analysis -> Blockchain Analysis\n",
      "Blockchain ledgers -> Blockchain Ledgers\n",
      "Brain morphometry -> Brain Morphometry\n",
      "Brain simulation -> Brain Simulation\n",
      "Brain-brain interface -> Brain-Brain Interface\n",
      "Brain-computer interfacing -> Brain-Computer Interfacing\n",
      "Browser exploitation -> Browser Exploitation\n",
      "Browser security -> Browser Security\n",
      "Brute-force attacks -> Brute-Force Attacks\n",
      "Buffer overflow protection -> Buffer Overflow Protection\n",
      "Business administration -> Business Administration\n",
      "Cancer epigenetics -> Cancer Epigenetics\n",
      "Cancer immunotherapy -> Cancer Immunotherapy\n",
      "Cancer imunology -> Cancer Imunology\n",
      "Cancer research -> Cancer Research\n",
      "Cancer systems biology -> Cancer Systems Biology\n",
      "Cancer vaccine -> Cancer Vaccine\n",
      "Case-Based reasoning -> Case-Based Reasoning\n",
      "Cassette mutagenesis -> Cassette Mutagenesis\n",
      "Cell biology -> Cell Biology\n",
      "Cell engineering -> Cell Engineering\n",
      "Cell therapy -> Cell Therapy\n",
      "Cell-mediated immunity -> Cell-Mediated Immunity\n",
      "Cellular agriculture -> Cellular Agriculture\n",
      "Cellular model -> Cellular Model\n",
      "Cellular neuroscience -> Cellular Neuroscience\n",
      "Ceramic materials -> Ceramic Materials\n",
      "Certificate revocation -> Certificate Revocation\n",
      "Certificate transparency -> Certificate Transparency\n",
      "Certificate-based encryption -> Certificate-Based Encryption\n",
      "Chemical engineering -> Chemical Engineering\n",
      "Chemical physics -> Chemical Physics\n",
      "Chemical vapor deposition -> Chemical Vapor Deposition\n",
      "Chemical-mechanical polishing -> Chemical-Mechanical Polishing\n",
      "Chip-scale packaging -> Chip-Scale Packaging\n",
      "Civil engineering -> Civil Engineering\n",
      "Classical economics -> Classical Economics\n",
      "Classical genetics -> Classical Genetics\n",
      "Classical immunology -> Classical Immunology\n",
      "Classical mechanics -> Classical Mechanics\n",
      "Clinical decision support system -> Clinical Decision Support System\n",
      "Clinical engineering -> Clinical Engineering\n",
      "Clinical immunology -> Clinical Immunology\n",
      "Clinical metagenomic sequencing -> Clinical Metagenomic Sequencing\n",
      "Clinical neurochemistry -> Clinical Neurochemistry\n",
      "Clinical neurophysiology -> Clinical Neurophysiology\n",
      "Clinical neuroscience -> Clinical Neuroscience\n",
      "Clinical psychology -> Clinical Psychology\n",
      "Cluster analysis -> Cluster Analysis\n",
      "Code injection -> Code Injection\n",
      "Cognitive architectures -> Cognitive Architectures\n",
      "Cognitive biology -> Cognitive Biology\n",
      "Cognitive development -> Cognitive Development\n",
      "Cognitive genomics -> Cognitive Genomics\n",
      "Cognitive hearing science -> Cognitive Hearing Science\n",
      "Cognitive neuropsychology -> Cognitive Neuropsychology\n",
      "Cognitive neuroscience -> Cognitive Neuroscience\n",
      "Cognitive neuroscience of dreams -> Cognitive Neuroscience of Dreams\n",
      "Cognitive psychology -> Cognitive Psychology\n",
      "Cognitive robotics -> Cognitive Robotics\n",
      "Cognitive science -> Cognitive Science\n",
      "Collaborative filtering -> Collaborative Filtering\n",
      "Combinatorial chemistry -> Combinatorial Chemistry\n",
      "Commonsense reasoning -> Commonsense Reasoning\n",
      "Comparative cognition -> Comparative Cognition\n",
      "Comparative genomics -> Comparative Genomics\n",
      "Composite material -> Composite Material\n",
      "Computational anatomy -> Computational Anatomy\n",
      "Computational biology -> Computational Biology\n",
      "Computational chemistry -> Computational Chemistry\n",
      "Computational creativity -> Computational Creativity\n",
      "Computational epigenetics -> Computational Epigenetics\n",
      "Computational genomics -> Computational Genomics\n",
      "Computational immunology -> Computational Immunology\n",
      "Computational lithography -> Computational Lithography\n",
      "Computational neuroscience -> Computational Neuroscience\n",
      "Computational photography -> Computational Photography\n",
      "Computational physics -> Computational Physics\n",
      "Computational science -> Computational Science\n",
      "Computer architecture -> Computer Architecture\n",
      "Computer engineering -> Computer Engineering\n",
      "Computer graphics -> Computer Graphics\n",
      "Computer hardware -> Computer Hardware\n",
      "Computer networks -> Computer Networks\n",
      "Computer science -> Computer Science\n",
      "Computer security -> Computer Security\n",
      "Computer simulation -> Computer Simulation\n",
      "Computer vision -> Computer Vision\n",
      "Condensed matter physics -> Condensed Matter Physics\n",
      "Conditional random fields -> Conditional Random Fields\n",
      "Consensus protocols -> Consensus Protocols\n",
      "Conservation genetics -> Conservation Genetics\n",
      "Constraint learning -> Constraint Learning\n",
      "Construction engineering -> Construction Engineering\n",
      "Consumer neuroscience -> Consumer Neuroscience\n",
      "Continuous optimization -> Continuous Optimization\n",
      "Control engineering -> Control Engineering\n",
      "Control system security -> Control System Security\n",
      "Control theory -> Control Theory\n",
      "Control-flow integrity -> Control-Flow Integrity\n",
      "Cooperative game theory -> Cooperative Game Theory\n",
      "Credential stuffing -> Credential Stuffing\n",
      "Cross-site scripting -> Cross-Site Scripting\n",
      "Cryptographic protocols -> Cryptographic Protocols\n",
      "Cultural neuroscience -> Cultural Neuroscience\n",
      "Curve tracer -> Curve Tracer\n",
      "Cytopathic effect -> Cytopathic Effect\n",
      "DNS analytics -> DNS Analytics\n",
      "Data and information visualization -> Data and Information Visualization\n",
      "Data anonymization -> Data Anonymization\n",
      "Data augmentation -> Data Augmentation\n",
      "Data center security -> Data Center Security\n",
      "Data mining -> Data Mining\n",
      "Data science -> Data Science\n",
      "Data stream mining -> Data Stream Mining\n",
      "Decentralized computing -> Decentralized Computing\n",
      "Deep learning -> Deep Learning\n",
      "Deep reactive-ion etching -> Deep Reactive-Ion Etching\n",
      "Deep reinforcement learning -> Deep Reinforcement Learning\n",
      "Deletion mapping -> Deletion Mapping\n",
      "Demographic economics -> Demographic Economics\n",
      "Denial-of-service attacks -> Denial-of-Service Attacks\n",
      "Description logic -> Description Logic\n",
      "Design rule checking -> Design Rule Checking\n",
      "Development economics -> Development Economics\n",
      "Developmental biology -> Developmental Biology\n",
      "Developmental cognitive neuroscience -> Developmental Cognitive Neuroscience\n",
      "Developmental immunology -> Developmental Immunology\n",
      "Developmental neuropsychology -> Developmental Neuropsychology\n",
      "Developmental psychobiology -> Developmental Psychobiology\n",
      "Developmental psychology -> Developmental Psychology\n",
      "Dialogue systems -> Dialogue Systems\n",
      "Die preparation -> Die Preparation\n",
      "Dielectric withstand test -> Dielectric Withstand Test\n",
      "Differential privacy -> Differential Privacy\n",
      "Digital forensics -> Digital Forensics\n",
      "Digital pathology -> Digital Pathology\n",
      "Digital signatures -> Digital Signatures\n",
      "Digital supply chain security -> Digital Supply Chain Security\n",
      "Dimensionality reduction -> Dimensionality Reduction\n",
      "Directed evolution -> Directed Evolution\n",
      "Discrete mathematics -> Discrete Mathematics\n",
      "Discrete optimization -> Discrete Optimization\n",
      "Distributed artificial intelligence -> Distributed Artificial Intelligence\n",
      "Distributed constraint optimization -> Distributed Constraint Optimization\n",
      "Distributed databases -> Distributed Databases\n",
      "Distributed search engine -> Distributed Search Engine\n",
      "Document classification -> Document Classification\n",
      "Domain adaptation -> Domain Adaptation\n",
      "Drive-by dowloads -> Drive-by Dowloads\n",
      "Drug development -> Drug Development\n",
      "Drug discovery -> Drug Discovery\n",
      "Dry etching -> Dry Etching\n",
      "Dynamic program analysis -> Dynamic Program Analysis\n",
      "Dynamical genetics -> Dynamical Genetics\n",
      "Dynamical neuroscience -> Dynamical Neuroscience\n",
      "EDA software -> EDA Software\n",
      "EUV lithography -> EUV Lithography\n",
      "Earth science -> Earth Science\n",
      "Ecological genetics -> Ecological Genetics\n",
      "Economic equilibrium -> Economic Equilibrium\n",
      "Economic geography -> Economic Geography\n",
      "Economic growth -> Economic Growth\n",
      "Economic history -> Economic History\n",
      "Economic policy -> Economic Policy\n",
      "Economic system -> Economic System\n",
      "Educational neuroscience -> Educational Neuroscience\n",
      "Electrical engineering -> Electrical Engineering\n",
      "Electron-beam lithography -> Electron-Beam Lithography\n",
      "Electronic engineering -> Electronic Engineering\n",
      "Email filtering -> Email Filtering\n",
      "Embedded system -> Embedded System\n",
      "Emergency medicine -> Emergency Medicine\n",
      "Emergent algorithms -> Emergent Algorithms\n",
      "Engineering drawing -> Engineering Drawing\n",
      "Engineering ethics -> Engineering Ethics\n",
      "Engineering management -> Engineering Management\n",
      "Engineering physics -> Engineering Physics\n",
      "Ensemble learning -> Ensemble Learning\n",
      "Environmental biotechnology -> Environmental Biotechnology\n",
      "Environmental chemistry -> Environmental Chemistry\n",
      "Environmental economics -> Environmental Economics\n",
      "Environmental engineering -> Environmental Engineering\n",
      "Environmental ethics -> Environmental Ethics\n",
      "Environmental health -> Environmental Health\n",
      "Environmental planning -> Environmental Planning\n",
      "Environmental protection -> Environmental Protection\n",
      "Environmental resource management -> Environmental Resource Management\n",
      "Environmental science -> Environmental Science\n",
      "Epigenetic therapy -> Epigenetic Therapy\n",
      "Epigenetics of human development -> Epigenetics of Human Development\n",
      "Epigenome editing -> Epigenome Editing\n",
      "Evolution of nervous systems -> Evolution of Nervous Systems\n",
      "Evolution of the brain -> Evolution of the Brain\n",
      "Evolutionary biology -> Evolutionary Biology\n",
      "Evolutionary computation -> Evolutionary Computation\n",
      "Evolutionary neuroscience -> Evolutionary Neuroscience\n",
      "Explainable artificial intelligence -> Explainable Artificial Intelligence\n",
      "Facial recognition -> Facial Recognition\n",
      "Fair division -> Fair Division\n",
      "Family medicine -> Family Medicine\n",
      "Fan-out packaging -> Fan-Out Packaging\n",
      "Feature selection -> Feature Selection\n",
      "Federated learning -> Federated Learning\n",
      "Feed manufacturing -> Feed Manufacturing\n",
      "Fermentation in food processing -> Fermentation in Food Processing\n",
      "Field-effect transistor -> Field-Effect Transistor\n",
      "File integrity monitoring -> File Integrity Monitoring\n",
      "File verification -> File Verification\n",
      "Financial economics -> Financial Economics\n",
      "Financial system -> Financial System\n",
      "Flash memory -> Flash Memory\n",
      "Flip chip -> Flip Chip\n",
      "Food engineering -> Food Engineering\n",
      "Food microbiology -> Food Microbiology\n",
      "Food science -> Food Science\n",
      "Forensic engineering -> Forensic Engineering\n",
      "Functional genomics -> Functional Genomics\n",
      "Functional integration -> Functional Integration\n",
      "Gender studies -> Gender Studies\n",
      "Gene expression profiling -> Gene Expression Profiling\n",
      "Gene mapping -> Gene Mapping\n",
      "Gene prediction -> Gene Prediction\n",
      "Gene targeting -> Gene Targeting\n",
      "Gene therapy -> Gene Therapy\n",
      "General game playing -> General Game Playing\n",
      "General surgery -> General Surgery\n",
      "Generative adversarial networks -> Generative Adversarial Networks\n",
      "Generative artificial intelligence -> Generative Artificial Intelligence\n",
      "Generative models -> Generative Models\n",
      "Genetic analysis -> Genetic Analysis\n",
      "Genetic architecture -> Genetic Architecture\n",
      "Genetic engineering -> Genetic Engineering\n",
      "Genetic epidemiology -> Genetic Epidemiology\n",
      "Genetic genealogy -> Genetic Genealogy\n",
      "Genetic interaction network -> Genetic Interaction Network\n",
      "Genetic programming -> Genetic Programming\n",
      "Genetic testing -> Genetic Testing\n",
      "Genetically modified crops -> Genetically Modified Crops\n",
      "Genetically modified food -> Genetically Modified Food\n",
      "Genome architecture mapping -> Genome Architecture Mapping\n",
      "Genome informatics -> Genome Informatics\n",
      "Geotechnical engineering -> Geotechnical Engineering\n",
      "Gesture recognition -> Gesture Recognition\n",
      "Graphical models -> Graphical Models\n",
      "Hardware security -> Hardware Security\n",
      "Health informatics -> Health Informatics\n",
      "High-performance computing -> High-Performance Computing\n",
      "Homomorphic encryption -> Homomorphic Encryption\n",
      "Honeypots and honeynets -> Honeypots and Honeynets\n",
      "Host defense -> Host Defense\n",
      "Host-directed therapeutics -> Host-Directed Therapeutics\n",
      "Human germline engineering -> Human Germline Engineering\n",
      "Human mitochondrial genetics -> Human Mitochondrial Genetics\n",
      "Human virome -> Human Virome\n",
      "Human-agent teaming -> Human-Agent Teaming\n",
      "Human-based computation -> Human-Based Computation\n",
      "Human-based computation game -> Human-Based Computation Game\n",
      "Human-computer interaction -> Human-Computer Interaction\n",
      "Human-robot interaction -> Human-Robot Interaction\n",
      "Human-computer interaction -> Human-Computer Interaction\n",
      "Humoral immunology -> Humoral Immunology\n",
      "Hyperparameter optimization -> Hyperparameter Optimization\n",
      "IC interconnect -> IC Interconnect\n",
      "Image retrieval -> Image Retrieval\n",
      "Image segmentation -> Image Segmentation\n",
      "Imaging genetics -> Imaging Genetics\n",
      "Imaging informatics -> Imaging Informatics\n",
      "Immersion lithography -> Immersion Lithography\n",
      "Immune dysregulation -> Immune Dysregulation\n",
      "Immune evasion -> Immune Evasion\n",
      "Immune tolerance -> Immune Tolerance\n",
      "Immuno-psychiatry -> Immuno-Psychiatry\n",
      "Industrial engineering -> Industrial Engineering\n",
      "Industrial enzymes -> Industrial Enzymes\n",
      "Industrial fermentation -> Industrial Fermentation\n",
      "Industrial organization -> Industrial Organization\n",
      "Information extraction -> Information Extraction\n",
      "Information flow -> Information Flow\n",
      "Information privacy -> Information Privacy\n",
      "Information retrieval -> Information Retrieval\n",
      "Injection moulding -> Injection Moulding\n",
      "Inorganic chemistry -> Inorganic Chemistry\n",
      "Integrated circuit design -> Integrated Circuit Design\n",
      "Integrated circuit packaging -> Integrated Circuit Packaging\n",
      "Integrative neuroscience -> Integrative Neuroscience\n",
      "Intelligent user interfaces -> Intelligent User Interfaces\n",
      "Intensive care medicine -> Intensive Care Medicine\n",
      "Internal medicine -> Internal Medicine\n",
      "International economics -> International Economics\n",
      "International trade -> International Trade\n",
      "Internet censorship circumvention -> Internet Censorship Circumvention\n",
      "Internet security -> Internet Security\n",
      "Interpersonal neurobiology -> Interpersonal Neurobiology\n",
      "Interventional neuroradiology -> Interventional Neuroradiology\n",
      "Intravascular immunology -> Intravascular Immunology\n",
      "Intrinsic motivation -> Intrinsic Motivation\n",
      "Intrusion detection -> Intrusion Detection\n",
      "Inverse lithography -> Inverse Lithography\n",
      "Ion beam deposition -> Ion Beam Deposition\n",
      "Ion beam lithography -> Ion Beam Lithography\n",
      "Ion implantation -> Ion Implantation\n",
      "Ion milling machine -> Ion Milling Machine\n",
      "Kernel methods -> Kernel Methods\n",
      "Keynesian economics -> Keynesian Economics\n",
      "Knowledge acquisition -> Knowledge Acquisition\n",
      "Knowledge bases -> Knowledge Bases\n",
      "Knowledge distillation -> Knowledge Distillation\n",
      "Knowledge engineering -> Knowledge Engineering\n",
      "Knowledge graphs -> Knowledge Graphs\n",
      "Knowledge management -> Knowledge Management\n",
      "Knowledge representation and reasoning -> Knowledge Representation and Reasoning\n",
      "Labour economics -> Labour Economics\n",
      "Landscape genetics -> Landscape Genetics\n",
      "Language model -> Language Model\n",
      "Language-based security -> Language-Based Security\n",
      "Law and economics -> Law and Economics\n",
      "Learning to rank -> Learning to Rank\n",
      "Library science -> Library Science\n",
      "Lithography stepper -> Lithography Stepper\n",
      "Logic programming -> Logic Programming\n",
      "Lysogenic cycle -> Lysogenic Cycle\n",
      "Lytic cycle -> Lytic Cycle\n",
      "Machine learning -> Machine Learning\n",
      "Machine translation -> Machine Translation\n",
      "Malware analysis -> Malware Analysis\n",
      "Man-in-the-middle attacks -> Man-in-the-Middle Attacks\n",
      "Management science -> Management Science\n",
      "Manufacturing engineering -> Manufacturing Engineering\n",
      "Marine engineering -> Marine Engineering\n",
      "Marine virology -> Marine Virology\n",
      "Market economy -> Market Economy\n",
      "Market systems -> Market Systems\n",
      "Markov decision processes -> Markov Decision Processes\n",
      "Mask inspection -> Mask Inspection\n",
      "Maskless lithography -> Maskless Lithography\n",
      "Materials science -> Materials Science\n",
      "Mathematical analysis -> Mathematical Analysis\n",
      "Mathematical economics -> Mathematical Economics\n",
      "Mathematical optimization -> Mathematical Optimization\n",
      "Mathematical physics -> Mathematical Physics\n",
      "Mathematics education -> Mathematics Education\n",
      "Mechanical engineering -> Mechanical Engineering\n",
      "Mechanism design -> Mechanism Design\n",
      "Media studies -> Media Studies\n",
      "Medical biotechnology -> Medical Biotechnology\n",
      "Medical education -> Medical Education\n",
      "Medical emergency -> Medical Emergency\n",
      "Medical genetics -> Medical Genetics\n",
      "Medical imaging -> Medical Imaging\n",
      "Medical physics -> Medical Physics\n",
      "Medicinal chemistry -> Medicinal Chemistry\n",
      "Memory and aging -> Memory and Aging\n",
      "Message authentication -> Message Authentication\n",
      "Meta-learning -> Meta-Learning\n",
      "Metabolic network -> Metabolic Network\n",
      "Metabolic network modelling -> Metabolic Network Modelling\n",
      "Metalorganic vapour-phase epitaxy -> Metalorganic Vapour-Phase Epitaxy\n",
      "Microbial biodegradation -> Microbial Biodegradation\n",
      "Microbial food cultures -> Microbial Food Cultures\n",
      "Microbial genetics -> Microbial Genetics\n",
      "Microbial symbiosis and immunity -> Microbial Symbiosis and Immunity\n",
      "Mining engineering -> Mining Engineering\n",
      "Mobile security -> Mobile Security\n",
      "Model predictive control -> Model Predictive Control\n",
      "Model-based reasoning -> Model-Based Reasoning\n",
      "Modelling biological systems -> Modelling Biological Systems\n",
      "Molecular biology -> Molecular Biology\n",
      "Molecular cellular cognition -> Molecular Cellular Cognition\n",
      "Molecular cytogenetics -> Molecular Cytogenetics\n",
      "Molecular diagnostics -> Molecular Diagnostics\n",
      "Molecular dynamics -> Molecular Dynamics\n",
      "Molecular genetics -> Molecular Genetics\n",
      "Molecular modeling -> Molecular Modeling\n",
      "Molecular neuroscience -> Molecular Neuroscience\n",
      "Molecular physics -> Molecular Physics\n",
      "Molecular-beam epitaxy -> Molecular-Beam Epitaxy\n",
      "Monetary economics -> Monetary Economics\n",
      "Monolayer doping -> Monolayer Doping\n",
      "Motion analysis -> Motion Analysis\n",
      "Motion planning -> Motion Planning\n",
      "Mucosal immunology -> Mucosal Immunology\n",
      "Multi-agent planning -> Multi-Agent Planning\n",
      "Multi-agent reinforcement learning -> Multi-Agent Reinforcement Learning\n",
      "Multi-agent systems -> Multi-Agent Systems\n",
      "Multi-armed bandits -> Multi-Armed Bandits\n",
      "Multi-chip module -> Multi-Chip Module\n",
      "Multi-factor authentication -> Multi-Factor Authentication\n",
      "Multi-label classification -> Multi-Label Classification\n",
      "Multi-task learning -> Multi-Task Learning\n",
      "Multiclass classification -> Multiclass Classification\n",
      "Multimodal learning -> Multimodal Learning\n",
      "Multiple patterning -> Multiple Patterning\n",
      "Mutual information -> Mutual Information\n",
      "Natural history -> Natural History\n",
      "Natural language processing -> Natural Language Processing\n",
      "Natural resource economics -> Natural Resource Economics\n",
      "Negotiation theory -> Negotiation Theory\n",
      "Neoclassical economics -> Neoclassical Economics\n",
      "Network assurance -> Network Assurance\n",
      "Network behavior anomaly detection -> Network Behavior Anomaly Detection\n",
      "Network neuroscience -> Network Neuroscience\n",
      "Network security -> Network Security\n",
      "Neural architecture search -> Neural Architecture Search\n",
      "Neural coding -> Neural Coding\n",
      "Neural engineering -> Neural Engineering\n",
      "Neural networks -> Neural Networks\n",
      "Neuro-ophthalmology -> Neuro-Ophthalmology\n",
      "Neuroanatomy of handedness -> Neuroanatomy of Handedness\n",
      "Neuroanatomy of intimacy -> Neuroanatomy of Intimacy\n",
      "Neuroanatomy of memory -> Neuroanatomy of Memory\n",
      "Neurobiological origins of language -> Neurobiological Origins of Language\n",
      "Neuromorphic engineering -> Neuromorphic Engineering\n",
      "Neuroscience and intelligence -> Neuroscience and Intelligence\n",
      "Neuroscience and race -> Neuroscience and Race\n",
      "Neuroscience and sexual orientation -> Neuroscience and Sexual Orientation\n",
      "Neuroscience in space -> Neuroscience in Space\n",
      "Neuroscience of aging -> Neuroscience of Aging\n",
      "Neuroscience of free will -> Neuroscience of Free Will\n",
      "Neuroscience of multilingualism -> Neuroscience of Multilingualism\n",
      "Neuroscience of music -> Neuroscience of Music\n",
      "Neuroscience of religion -> Neuroscience of Religion\n",
      "Neuroscience of rhythm -> Neuroscience of Rhythm\n",
      "Neuroscience of sex differences -> Neuroscience of Sex Differences\n",
      "Neuroscience of sleep -> Neuroscience of Sleep\n",
      "Next-generation lithography -> Next-Generation Lithography\n",
      "Noninvasive genotyping -> Noninvasive Genotyping\n",
      "Nonmonotonic logic -> Nonmonotonic Logic\n",
      "Nuclear chemistry -> Nuclear Chemistry\n",
      "Nuclear engineering -> Nuclear Engineering\n",
      "Nuclear magnetic resonance -> Nuclear Magnetic Resonance\n",
      "Nuclear medicine -> Nuclear Medicine\n",
      "Nuclear physics -> Nuclear Physics\n",
      "Numerical cognition -> Numerical Cognition\n",
      "Nutritional genomics -> Nutritional Genomics\n",
      "Nutritional immunology -> Nutritional Immunology\n",
      "Nutritional neuroscience -> Nutritional Neuroscience\n",
      "Object categorization from image search -> Object Categorization from Image Search\n",
      "Object detection -> Object Detection\n",
      "Off-axis illumination -> Off-Axis Illumination\n",
      "Offline learning -> Offline Learning\n",
      "Oncolytic virus -> Oncolytic Virus\n",
      "One-shot learning -> One-Shot Learning\n",
      "Onion routing -> Onion Routing\n",
      "Online machine learning -> Online Machine Learning\n",
      "Ontology language -> Ontology Language\n",
      "Ontology learning -> Ontology Learning\n",
      "Operating systems -> Operating Systems\n",
      "Operations management -> Operations Management\n",
      "Operations research -> Operations Research\n",
      "Optical proximity correction -> Optical Proximity Correction\n",
      "Optimal control -> Optimal Control\n",
      "Organic chemistry -> Organic Chemistry\n",
      "Package on a package -> Package on a Package\n",
      "Partially observable markov decision processes -> Partially Observable Markov Decision Processes\n",
      "Particle physics -> Particle Physics\n",
      "Pathogen transmission -> Pathogen Transmission\n",
      "Personal genomics -> Personal Genomics\n",
      "Personalized genomics -> Personalized Genomics\n",
      "Personalized medicine -> Personalized Medicine\n",
      "Petroleum engineering -> Petroleum Engineering\n",
      "Phage display -> Phage Display\n",
      "Phage ecology -> Phage Ecology\n",
      "Phage therapy -> Phage Therapy\n",
      "Phage virology -> Phage Virology\n",
      "Phage-ligand technology -> Phage-Ligand Technology\n",
      "Pharmaceutical engineering -> Pharmaceutical Engineering\n",
      "Pharmaceutical manufacturing -> Pharmaceutical Manufacturing\n",
      "Phase-shift mask -> Phase-Shift Mask\n",
      "Phenotype mixing -> Phenotype Mixing\n",
      "Physical chemistry -> Physical Chemistry\n",
      "Physical geography -> Physical Geography\n",
      "Physical medicine and rehabilitation -> Physical Medicine and Rehabilitation\n",
      "Physical therapy -> Physical Therapy\n",
      "Physical vapor deposition -> Physical Vapor Deposition\n",
      "Physiological psychology -> Physiological Psychology\n",
      "Plant genetics -> Plant Genetics\n",
      "Plant virology -> Plant Virology\n",
      "Plasma etching -> Plasma Etching\n",
      "Plasma-enhanced chemical vapor deposition -> Plasma-Enhanced Chemical Vapor Deposition\n",
      "Political economy -> Political Economy\n",
      "Political science -> Political Science\n",
      "Polymer chemistry -> Polymer Chemistry\n",
      "Polymer science -> Polymer Science\n",
      "Population genetics -> Population Genetics\n",
      "Population genomics -> Population Genomics\n",
      "Pose tracking -> Pose Tracking\n",
      "Positive economics -> Positive Economics\n",
      "Positive neuroscience -> Positive Neuroscience\n",
      "Post-quantum cryptography -> Post-Quantum Cryptography\n",
      "Post-translational modifications -> Post-Translational Modifications\n",
      "Predictive medicine -> Predictive Medicine\n",
      "Preference learning -> Preference Learning\n",
      "Prime editing -> Prime Editing\n",
      "Probabilistic programming -> Probabilistic Programming\n",
      "Procedural generation -> Procedural Generation\n",
      "Process engineering -> Process Engineering\n",
      "Process management -> Process Management\n",
      "Processor design -> Processor Design\n",
      "Program analysis -> Program Analysis\n",
      "Program optimization -> Program Optimization\n",
      "Program synthesis -> Program Synthesis\n",
      "Programming languages -> Programming Languages\n",
      "Proof-carrying code -> Proof-Carrying Code\n",
      "Protein function prediction -> Protein Function Prediction\n",
      "Protein structure prediction -> Protein Structure Prediction\n",
      "Protein-protein interactions -> Protein-Protein Interactions\n",
      "Protein-protein interaction prediction -> Protein-Protein Interaction Prediction\n",
      "Psychiatric genetics -> Psychiatric Genetics\n",
      "Public administration -> Public Administration\n",
      "Public economics -> Public Economics\n",
      "Public health genomics -> Public Health Genomics\n",
      "Public relations -> Public Relations\n",
      "Public-key cryptography -> Public-Key Cryptography\n",
      "Pulp and paper industry -> Pulp and Paper Industry\n",
      "Pure mathematics -> Pure Mathematics\n",
      "Qualitative reasoning -> Qualitative Reasoning\n",
      "Quantitative genetics -> Quantitative Genetics\n",
      "Quantum cognition -> Quantum Cognition\n",
      "Quantum computing -> Quantum Computing\n",
      "Quantum electrodynamics -> Quantum Electrodynamics\n",
      "Quantum lithography -> Quantum Lithography\n",
      "Quantum machine learning -> Quantum Machine Learning\n",
      "Quantum mechanics -> Quantum Mechanics\n",
      "Question answering -> Question Answering\n",
      "RCA clean -> RCA Clean\n",
      "Rapid thermal processing -> Rapid Thermal Processing\n",
      "Reactive-ion etching -> Reactive-Ion Etching\n",
      "Recommender systems -> Recommender Systems\n",
      "Regional science -> Regional Science\n",
      "Regression analysis -> Regression Analysis\n",
      "Regulation of artificial intelligence -> Regulation of Artificial Intelligence\n",
      "Rehabilitation engineering -> Rehabilitation Engineering\n",
      "Reinforcement learning -> Reinforcement Learning\n",
      "Reliability engineering -> Reliability Engineering\n",
      "Religious studies -> Religious Studies\n",
      "Remote sensing -> Remote Sensing\n",
      "Renewable energy -> Renewable Energy\n",
      "Reproductive immunology -> Reproductive Immunology\n",
      "Resolution enhancement technologies -> Resolution Enhancement Technologies\n",
      "Reverse engineering -> Reverse Engineering\n",
      "Risk analysis (engineering) -> Risk Analysis (Engineering)\n",
      "Robot control -> Robot Control\n",
      "Robot learning -> Robot Learning\n",
      "Robot localization -> Robot Localization\n",
      "Robot locomotion -> Robot Locomotion\n",
      "Robot navigation -> Robot Navigation\n",
      "Robotic mapping -> Robotic Mapping\n",
      "Robotic sensing -> Robotic Sensing\n",
      "SQL injection attacks -> SQL Injection Attacks\n",
      "Satisfiability modulo theories -> Satisfiability Modulo Theories\n",
      "Secure cryptoprocessors -> Secure Cryptoprocessors\n",
      "Secure multi-party computation -> Secure Multi-Party Computation\n",
      "Security information and event management -> Security Information and Event Management\n",
      "Self-driving cars -> Self-Driving Cars\n",
      "Self-play -> Self-Play\n",
      "Self-supervised learning -> Self-Supervised Learning\n",
      "Semantic parsing -> Semantic Parsing\n",
      "Semiconductor device fabrication -> Semiconductor Device Fabrication\n",
      "Sensor fusion -> Sensor Fusion\n",
      "Sensory neuroscience -> Sensory Neuroscience\n",
      "Sentiment analysis -> Sentiment Analysis\n",
      "Sequence alignment -> Sequence Alignment\n",
      "Sequence assembly -> Sequence Assembly\n",
      "Sequential decision making -> Sequential Decision Making\n",
      "Session hijacking -> Session Hijacking\n",
      "Shallow parsing -> Shallow Parsing\n",
      "Shallow trench isolation -> Shallow Trench Isolation\n",
      "Side-channel attacks -> Side-Channel Attacks\n",
      "Signal processing -> Signal Processing\n",
      "Simultaneous localization and mapping -> Simultaneous Localization and Mapping\n",
      "Single cell epigenomics -> Single Cell Epigenomics\n",
      "Single-cell transcriptomics -> Single-Cell Transcriptomics\n",
      "Sleep epigenetics -> Sleep Epigenetics\n",
      "Smart contracts -> Smart Contracts\n",
      "Sniffing attacks -> Sniffing Attacks\n",
      "Social choice theory -> Social Choice Theory\n",
      "Social cognitive neuroscience -> Social Cognitive Neuroscience\n",
      "Social engineering -> Social Engineering\n",
      "Social network analysis -> Social Network Analysis\n",
      "Social neuroscience -> Social Neuroscience\n",
      "Social psychology -> Social Psychology\n",
      "Social science -> Social Science\n",
      "Software engineering -> Software Engineering\n",
      "Soil science -> Soil Science\n",
      "Spatial cognition -> Spatial Cognition\n",
      "Spatial-temporal reasoning -> Spatial-Temporal Reasoning\n",
      "Speech processing -> Speech Processing\n",
      "Speech recognition -> Speech Recognition\n",
      "Speech synthesis -> Speech Synthesis\n",
      "State space search -> State Space Search\n",
      "Static program analysis -> Static Program Analysis\n",
      "Statistical classification -> Statistical Classification\n",
      "Statistical learning theory -> Statistical Learning Theory\n",
      "Statistical physics -> Statistical Physics\n",
      "Stochastic optimization -> Stochastic Optimization\n",
      "Structural bioinformatics -> Structural Bioinformatics\n",
      "Structural engineering -> Structural Engineering\n",
      "Structural genomics -> Structural Genomics\n",
      "Structural inheritance -> Structural Inheritance\n",
      "Structure mining -> Structure Mining\n",
      "Structured prediction -> Structured Prediction\n",
      "Supply chain attacks -> Supply Chain Attacks\n",
      "Sustainable agriculture -> Sustainable Agriculture\n",
      "Symbolic execution -> Symbolic Execution\n",
      "Synaptic pharmacology -> Synaptic Pharmacology\n",
      "Synthetic biology -> Synthetic Biology\n",
      "Synthetic immunology -> Synthetic Immunology\n",
      "Synthetic media -> Synthetic Media\n",
      "Synthetic virology -> Synthetic Virology\n",
      "System in a package -> System in a Package\n",
      "System on a chip -> System on a Chip\n",
      "Systems biology -> Systems Biology\n",
      "Systems biomedicine -> Systems Biomedicine\n",
      "Systems engineering -> Systems Engineering\n",
      "Systems immunology -> Systems Immunology\n",
      "Systems neuroscience -> Systems Neuroscience\n",
      "Testicular immunology -> Testicular Immunology\n",
      "Text mining -> Text Mining\n",
      "Text-to-image-models -> Text-to-Image-Models\n",
      "Theoretical computer science -> Theoretical Computer Science\n",
      "Theoretical physics -> Theoretical Physics\n",
      "Threat analysis -> Threat Analysis\n",
      "Through-silicon via -> Through-Silicon via\n",
      "Tissue engineering -> Tissue Engineering\n",
      "Traditional medicine -> Traditional Medicine\n",
      "Traffic analysis -> Traffic Analysis\n",
      "Trajectory optimization -> Trajectory Optimization\n",
      "Transfer learning -> Transfer Learning\n",
      "Transfer molding -> Transfer Molding\n",
      "Transgenerational epigenetic inheritance -> Transgenerational Epigenetic Inheritance\n",
      "Translational neuroscience -> Translational Neuroscience\n",
      "Transplant engineering -> Transplant Engineering\n",
      "Transport engineering -> Transport Engineering\n",
      "Transposon mutagenesis -> Transposon Mutagenesis\n",
      "Trustworthy computing -> Trustworthy Computing\n",
      "Uncertainty quantification -> Uncertainty Quantification\n",
      "Unsupervised learning -> Unsupervised Learning\n",
      "User behavior analytics -> User Behavior Analytics\n",
      "Vaccine development -> Vaccine Development\n",
      "Vacuum deposition -> Vacuum Deposition\n",
      "Vehicular automation -> Vehicular Automation\n",
      "Veterinary medicine -> Veterinary Medicine\n",
      "Veterinary virology -> Veterinary Virology\n",
      "Viral capsid -> Viral Capsid\n",
      "Viral classification -> Viral Classification\n",
      "Viral disease -> Viral Disease\n",
      "Viral dynamics -> Viral Dynamics\n",
      "Viral emergence -> Viral Emergence\n",
      "Viral entry -> Viral Entry\n",
      "Viral envelope -> Viral Envelope\n",
      "Viral epidemiology -> Viral Epidemiology\n",
      "Viral evolution -> Viral Evolution\n",
      "Viral gene therapy -> Viral Gene Therapy\n",
      "Viral genetics -> Viral Genetics\n",
      "Viral genome -> Viral Genome\n",
      "Viral life cycle and processes -> Viral Life Cycle and Processes\n",
      "Viral metagenomics -> Viral Metagenomics\n",
      "Viral oncogenesis -> Viral Oncogenesis\n",
      "Viral pathogenesis -> Viral Pathogenesis\n",
      "Viral phylodynamics -> Viral Phylodynamics\n",
      "Viral proteins -> Viral Proteins\n",
      "Viral reassortment -> Viral Reassortment\n",
      "Viral recombination -> Viral Recombination\n",
      "Viral replication -> Viral Replication\n",
      "Viral shedding -> Viral Shedding\n",
      "Viral transformation -> Viral Transformation\n",
      "Viral vectors -> Viral Vectors\n",
      "Virtual humans -> Virtual Humans\n",
      "Virtual screening -> Virtual Screening\n",
      "Virulence factors -> Virulence Factors\n",
      "Virus latency -> Virus Latency\n",
      "Virus structure -> Virus Structure\n",
      "Visual arts -> Visual Arts\n",
      "Visual neuroscience -> Visual Neuroscience\n",
      "Visual servoing -> Visual Servoing\n",
      "Voting behavior -> Voting Behavior\n",
      "Vulnerability assessment -> Vulnerability Assessment\n",
      "Wafer backgrinding -> Wafer Backgrinding\n",
      "Wafer bonding -> Wafer Bonding\n",
      "Wafer dicing -> Wafer Dicing\n",
      "Wafer testing -> Wafer Testing\n",
      "Wafer-level packaging -> Wafer-Level Packaging\n",
      "Waste management -> Waste Management\n",
      "Water resource management -> Water Resource Management\n",
      "Watering hole attacks -> Watering Hole Attacks\n",
      "Weak artificial intelligence -> Weak Artificial Intelligence\n",
      "Weak supervision -> Weak Supervision\n",
      "Web tracking -> Web Tracking\n",
      "Wedge bonding -> Wedge Bonding\n",
      "Welfare economics -> Welfare Economics\n",
      "Wire bonding -> Wire Bonding\n",
      "Wireless security -> Wireless Security\n",
      "X-ray lithography -> X-Ray Lithography\n",
      "Zero-knowledge proofs -> Zero-Knowledge Proofs\n",
      "eWLB packaging -> eWLB Packaging\n",
      "gene expression -> Gene Expression\n"
     ]
    }
   ],
   "execution_count": 27
  },
  {
   "metadata": {
    "ExecuteTime": {
     "end_time": "2024-11-29T17:59:42.700541Z",
     "start_time": "2024-11-29T17:59:42.657714Z"
    }
   },
   "cell_type": "code",
   "source": [
    "# Same field names in each?\n",
    "db['display_name'] = db['display_name'].apply(lambda x: to_title(clean_text(x)))\n",
    "assert set(keys) == set(db['display_name'])"
   ],
   "id": "352b0203f856a7b",
   "outputs": [],
   "execution_count": 28
  },
  {
   "metadata": {
    "ExecuteTime": {
     "end_time": "2024-11-29T17:59:47.060551Z",
     "start_time": "2024-11-29T17:59:47.036045Z"
    }
   },
   "cell_type": "code",
   "source": [
    "# Same order?\n",
    "assert all(pd.Series(keys) == db['display_name'])"
   ],
   "id": "3d5a847f9efb8d92",
   "outputs": [],
   "execution_count": 29
  },
  {
   "metadata": {},
   "cell_type": "markdown",
   "source": "## First approach",
   "id": "44ac7878040d1e14"
  },
  {
   "metadata": {},
   "cell_type": "markdown",
   "source": "Below I load `all_fields_hierarchy.jsonl` because I thought it contained the field metadata (i.e., levels) and parent-child links we need for BQ, but this turns out to be a detour. The metadata in it isn't final or consistent with what we settled on.",
   "id": "6ad76bb42d751662"
  },
  {
   "metadata": {
    "ExecuteTime": {
     "end_time": "2024-11-29T18:00:51.707077Z",
     "start_time": "2024-11-29T18:00:51.654658Z"
    }
   },
   "cell_type": "code",
   "source": [
    "# Now load the parent/child link information from all_fields_hierarchy.jsonl\n",
    "links = pd.read_json(ASSETS_DIR / \"fields/all_fields_hierarchy.jsonl\", lines=True)\n",
    "links['display_name'] = links['display_name'].apply(lambda x: to_title(clean_text(x)))\n",
    "links['child_display_name'] = links['child_display_name'].apply(lambda x: to_title(clean_text(x)))\n",
    "links.head()"
   ],
   "id": "ebd22a425f6ae289",
   "outputs": [
    {
     "data": {
      "text/plain": [
       "         normalized_name           display_name  parent_level  \\\n",
       "0  environmental science  Environmental Science             0   \n",
       "1            engineering            Engineering             0   \n",
       "2  environmental science  Environmental Science             0   \n",
       "3              geography              Geography             0   \n",
       "4  environmental science  Environmental Science             0   \n",
       "\n",
       "               child_normalized_name                 child_display_name  \\\n",
       "0          environmental engineering          Environmental Engineering   \n",
       "1          environmental engineering          Environmental Engineering   \n",
       "2             environmental planning             Environmental Planning   \n",
       "3             environmental planning             Environmental Planning   \n",
       "4  environmental resource management  Environmental Resource Management   \n",
       "\n",
       "   child_level  \n",
       "0            1  \n",
       "1            1  \n",
       "2            1  \n",
       "3            1  \n",
       "4            1  "
      ],
      "text/html": [
       "<div>\n",
       "<style scoped>\n",
       "    .dataframe tbody tr th:only-of-type {\n",
       "        vertical-align: middle;\n",
       "    }\n",
       "\n",
       "    .dataframe tbody tr th {\n",
       "        vertical-align: top;\n",
       "    }\n",
       "\n",
       "    .dataframe thead th {\n",
       "        text-align: right;\n",
       "    }\n",
       "</style>\n",
       "<table border=\"1\" class=\"dataframe\">\n",
       "  <thead>\n",
       "    <tr style=\"text-align: right;\">\n",
       "      <th></th>\n",
       "      <th>normalized_name</th>\n",
       "      <th>display_name</th>\n",
       "      <th>parent_level</th>\n",
       "      <th>child_normalized_name</th>\n",
       "      <th>child_display_name</th>\n",
       "      <th>child_level</th>\n",
       "    </tr>\n",
       "  </thead>\n",
       "  <tbody>\n",
       "    <tr>\n",
       "      <th>0</th>\n",
       "      <td>environmental science</td>\n",
       "      <td>Environmental Science</td>\n",
       "      <td>0</td>\n",
       "      <td>environmental engineering</td>\n",
       "      <td>Environmental Engineering</td>\n",
       "      <td>1</td>\n",
       "    </tr>\n",
       "    <tr>\n",
       "      <th>1</th>\n",
       "      <td>engineering</td>\n",
       "      <td>Engineering</td>\n",
       "      <td>0</td>\n",
       "      <td>environmental engineering</td>\n",
       "      <td>Environmental Engineering</td>\n",
       "      <td>1</td>\n",
       "    </tr>\n",
       "    <tr>\n",
       "      <th>2</th>\n",
       "      <td>environmental science</td>\n",
       "      <td>Environmental Science</td>\n",
       "      <td>0</td>\n",
       "      <td>environmental planning</td>\n",
       "      <td>Environmental Planning</td>\n",
       "      <td>1</td>\n",
       "    </tr>\n",
       "    <tr>\n",
       "      <th>3</th>\n",
       "      <td>geography</td>\n",
       "      <td>Geography</td>\n",
       "      <td>0</td>\n",
       "      <td>environmental planning</td>\n",
       "      <td>Environmental Planning</td>\n",
       "      <td>1</td>\n",
       "    </tr>\n",
       "    <tr>\n",
       "      <th>4</th>\n",
       "      <td>environmental science</td>\n",
       "      <td>Environmental Science</td>\n",
       "      <td>0</td>\n",
       "      <td>environmental resource management</td>\n",
       "      <td>Environmental Resource Management</td>\n",
       "      <td>1</td>\n",
       "    </tr>\n",
       "  </tbody>\n",
       "</table>\n",
       "</div>"
      ]
     },
     "execution_count": 32,
     "metadata": {},
     "output_type": "execute_result"
    }
   ],
   "execution_count": 32
  },
  {
   "metadata": {
    "ExecuteTime": {
     "end_time": "2024-11-29T18:00:52.131832Z",
     "start_time": "2024-11-29T18:00:52.128582Z"
    }
   },
   "cell_type": "code",
   "source": "links.shape",
   "id": "ec58c31be9cb6f41",
   "outputs": [
    {
     "data": {
      "text/plain": [
       "(1162, 6)"
      ]
     },
     "execution_count": 33,
     "metadata": {},
     "output_type": "execute_result"
    }
   ],
   "execution_count": 33
  },
  {
   "metadata": {
    "ExecuteTime": {
     "end_time": "2024-11-29T18:01:01.532647Z",
     "start_time": "2024-11-29T18:01:01.523385Z"
    }
   },
   "cell_type": "code",
   "source": [
    "# Quick consistency check: all the links file field names are in the database\n",
    "assert links['display_name'].isin(db['display_name']).all()"
   ],
   "id": "8f2522ec6af97604",
   "outputs": [],
   "execution_count": 34
  },
  {
   "metadata": {
    "ExecuteTime": {
     "end_time": "2024-11-29T18:01:02.075295Z",
     "start_time": "2024-11-29T18:01:02.071907Z"
    }
   },
   "cell_type": "code",
   "source": [
    "# Similarly, all the db field names can be found either as parents or children in the links file\n",
    "assert (db['display_name'].isin(links['display_name']) | db['display_name'].isin(links['child_display_name'])).all()"
   ],
   "id": "150465ec83c8164",
   "outputs": [],
   "execution_count": 35
  },
  {
   "metadata": {
    "ExecuteTime": {
     "end_time": "2024-11-29T18:01:04.229439Z",
     "start_time": "2024-11-29T18:01:04.208795Z"
    }
   },
   "cell_type": "code",
   "source": [
    "# What levels are linked here?\n",
    "links[['parent_level', 'child_level']].value_counts(sort=False, dropna=False)"
   ],
   "id": "12cb65df209feaab",
   "outputs": [
    {
     "data": {
      "text/plain": [
       "parent_level  child_level\n",
       "0             1              351\n",
       "1             2              106\n",
       "2             3              705\n",
       "dtype: int64"
      ]
     },
     "execution_count": 36,
     "metadata": {},
     "output_type": "execute_result"
    }
   ],
   "execution_count": 36
  },
  {
   "metadata": {
    "ExecuteTime": {
     "end_time": "2024-11-29T18:02:22.643729Z",
     "start_time": "2024-11-29T18:02:22.637539Z"
    }
   },
   "cell_type": "code",
   "source": [
    "# The idea here is to populate the dictionaries with the children of each field at each level\n",
    "l0_l1 = {}\n",
    "l0_l2 = {}\n",
    "l0_l3 = {}\n",
    "l1_l2 = {}\n",
    "l1_l3 = {}\n",
    "l2_l3 = {}"
   ],
   "id": "4ec96b7b9ad9b068",
   "outputs": [],
   "execution_count": 37
  },
  {
   "metadata": {
    "ExecuteTime": {
     "end_time": "2024-11-29T18:02:25.658221Z",
     "start_time": "2024-11-29T18:02:25.645650Z"
    }
   },
   "cell_type": "code",
   "source": [
    "# Get rows containing children of each L0; all L0s have children so we can iterate over rows with 'parent_level' == 0\n",
    "for l0_parent, l1_children in links.loc[links['parent_level'] == 0].groupby('display_name'):\n",
    "    # For each L0, we want to know what their L1 children are\n",
    "    assert (l1_children['child_level'] == 1).all()\n",
    "    l0_l1[l0_parent] = l1_children['child_display_name'].tolist()\n",
    "    print('[0]', l0_parent, l1_children.shape[0])"
   ],
   "id": "9060633e7edad3dc",
   "outputs": [
    {
     "name": "stdout",
     "output_type": "stream",
     "text": [
      "[0] Art 6\n",
      "[0] Biology 29\n",
      "[0] Business 13\n",
      "[0] Chemistry 21\n",
      "[0] Computer Science 17\n",
      "[0] Economics 40\n",
      "[0] Engineering 45\n",
      "[0] Environmental Science 8\n",
      "[0] Geography 11\n",
      "[0] Geology 18\n",
      "[0] History 7\n",
      "[0] Materials Science 7\n",
      "[0] Mathematics 20\n",
      "[0] Medicine 45\n",
      "[0] Philosophy 7\n",
      "[0] Physics 27\n",
      "[0] Political Science 3\n",
      "[0] Psychology 14\n",
      "[0] Sociology 13\n"
     ]
    }
   ],
   "execution_count": 38
  },
  {
   "metadata": {
    "ExecuteTime": {
     "end_time": "2024-11-29T18:02:39.933045Z",
     "start_time": "2024-11-29T18:02:39.823023Z"
    }
   },
   "cell_type": "code",
   "source": [
    "surprises = []\n",
    "for l0, l1s in l0_l1.items():\n",
    "    for l1 in l1s:\n",
    "        # print(l0, '->', l1)\n",
    "        l1_l2_links = links.loc[links['display_name'] == l1]\n",
    "        for _, row in l1_l2_links.iterrows():\n",
    "            if row['child_level'] != 2:\n",
    "                surprises.append(row['child_display_name'])\n",
    "            l2_name = row['child_display_name']\n",
    "            l1_l2[l1] = l2_name\n",
    "            l0_l2[l0] = l2_name"
   ],
   "id": "fa00bc0e9fb314dc",
   "outputs": [],
   "execution_count": 39
  },
  {
   "metadata": {},
   "cell_type": "markdown",
   "source": "The parent_level and child_level fields in this file don't look consistent -- below, AI has a parent level of `2` where it appears as a parent of active learning, but a child level of `1` where it appears as a child of computer science.",
   "id": "2f77bdb0398764d1"
  },
  {
   "metadata": {
    "ExecuteTime": {
     "end_time": "2024-11-29T18:03:03.866204Z",
     "start_time": "2024-11-29T18:03:03.854801Z"
    }
   },
   "cell_type": "code",
   "source": "len(surprises)",
   "id": "b750a4f23b1e3c95",
   "outputs": [
    {
     "data": {
      "text/plain": [
       "892"
      ]
     },
     "execution_count": 41,
     "metadata": {},
     "output_type": "execute_result"
    }
   ],
   "execution_count": 41
  },
  {
   "metadata": {
    "ExecuteTime": {
     "end_time": "2024-11-29T18:03:06.522384Z",
     "start_time": "2024-11-29T18:03:06.515716Z"
    }
   },
   "cell_type": "code",
   "source": "links.loc[links['child_display_name'] == 'Active Learning']",
   "id": "2856ad171450800a",
   "outputs": [
    {
     "data": {
      "text/plain": [
       "             normalized_name             display_name  parent_level  \\\n",
       "441  artificial intelligence  Artificial Intelligence             2   \n",
       "\n",
       "    child_normalized_name child_display_name  child_level  \n",
       "441       active learning    Active Learning            3  "
      ],
      "text/html": [
       "<div>\n",
       "<style scoped>\n",
       "    .dataframe tbody tr th:only-of-type {\n",
       "        vertical-align: middle;\n",
       "    }\n",
       "\n",
       "    .dataframe tbody tr th {\n",
       "        vertical-align: top;\n",
       "    }\n",
       "\n",
       "    .dataframe thead th {\n",
       "        text-align: right;\n",
       "    }\n",
       "</style>\n",
       "<table border=\"1\" class=\"dataframe\">\n",
       "  <thead>\n",
       "    <tr style=\"text-align: right;\">\n",
       "      <th></th>\n",
       "      <th>normalized_name</th>\n",
       "      <th>display_name</th>\n",
       "      <th>parent_level</th>\n",
       "      <th>child_normalized_name</th>\n",
       "      <th>child_display_name</th>\n",
       "      <th>child_level</th>\n",
       "    </tr>\n",
       "  </thead>\n",
       "  <tbody>\n",
       "    <tr>\n",
       "      <th>441</th>\n",
       "      <td>artificial intelligence</td>\n",
       "      <td>Artificial Intelligence</td>\n",
       "      <td>2</td>\n",
       "      <td>active learning</td>\n",
       "      <td>Active Learning</td>\n",
       "      <td>3</td>\n",
       "    </tr>\n",
       "  </tbody>\n",
       "</table>\n",
       "</div>"
      ]
     },
     "execution_count": 42,
     "metadata": {},
     "output_type": "execute_result"
    }
   ],
   "execution_count": 42
  },
  {
   "metadata": {
    "ExecuteTime": {
     "end_time": "2024-11-29T18:03:08.494788Z",
     "start_time": "2024-11-29T18:03:08.481581Z"
    }
   },
   "cell_type": "code",
   "source": "links.loc[links['child_display_name'] == 'Artificial Intelligence']",
   "id": "a4f4857de7263875",
   "outputs": [
    {
     "data": {
      "text/plain": [
       "      normalized_name      display_name  parent_level  \\\n",
       "319  computer science  Computer Science             0   \n",
       "\n",
       "       child_normalized_name       child_display_name  child_level  \n",
       "319  artificial intelligence  Artificial Intelligence            1  "
      ],
      "text/html": [
       "<div>\n",
       "<style scoped>\n",
       "    .dataframe tbody tr th:only-of-type {\n",
       "        vertical-align: middle;\n",
       "    }\n",
       "\n",
       "    .dataframe tbody tr th {\n",
       "        vertical-align: top;\n",
       "    }\n",
       "\n",
       "    .dataframe thead th {\n",
       "        text-align: right;\n",
       "    }\n",
       "</style>\n",
       "<table border=\"1\" class=\"dataframe\">\n",
       "  <thead>\n",
       "    <tr style=\"text-align: right;\">\n",
       "      <th></th>\n",
       "      <th>normalized_name</th>\n",
       "      <th>display_name</th>\n",
       "      <th>parent_level</th>\n",
       "      <th>child_normalized_name</th>\n",
       "      <th>child_display_name</th>\n",
       "      <th>child_level</th>\n",
       "    </tr>\n",
       "  </thead>\n",
       "  <tbody>\n",
       "    <tr>\n",
       "      <th>319</th>\n",
       "      <td>computer science</td>\n",
       "      <td>Computer Science</td>\n",
       "      <td>0</td>\n",
       "      <td>artificial intelligence</td>\n",
       "      <td>Artificial Intelligence</td>\n",
       "      <td>1</td>\n",
       "    </tr>\n",
       "  </tbody>\n",
       "</table>\n",
       "</div>"
      ]
     },
     "execution_count": 43,
     "metadata": {},
     "output_type": "execute_result"
    }
   ],
   "execution_count": 43
  },
  {
   "metadata": {},
   "cell_type": "markdown",
   "source": "## Final approach",
   "id": "343a00b0b9f37f9d"
  },
  {
   "metadata": {},
   "cell_type": "markdown",
   "source": "We have a Google Sheet called `Consolidated revisions` [here](https://docs.google.com/spreadsheets/d/1ic_ckG2zujuQXBIdasWtPXVE8yQUW9s_IXtiVczduao/edit?gid=0#gid=0) containing everything we changed as part of the L2 project. (This includes changing some L1s.) Then, we have in the `fields_of_study` dataset in BQ the original L0 and L1 fields. Together these have all the information we need to reliably define the current field taxonomy: L0-L2 names, levels, and relations/links between them.",
   "id": "f4c3fbd6f3d2d95e"
  },
  {
   "metadata": {
    "ExecuteTime": {
     "end_time": "2024-11-29T17:34:56.678582Z",
     "start_time": "2024-11-29T17:34:55.574231Z"
    }
   },
   "cell_type": "code",
   "source": [
    "# Grab the L0-L1 names and levels from BQ\n",
    "import pandas_gbq as pbq\n",
    "\n",
    "meta = pbq.read_gbq('select name, level from fields_of_study.field_meta where level between 0 and 1')\n",
    "meta['name'] = meta['name'].apply(lambda x: to_title(clean_text(x)))\n",
    "meta.head()"
   ],
   "id": "2fb585bf46468e98",
   "outputs": [
    {
     "name": "stdout",
     "output_type": "stream",
     "text": [
      "Downloading: 100%|\u001B[32m██████████\u001B[0m|\n"
     ]
    },
    {
     "data": {
      "text/plain": [
       "                name  level\n",
       "0  Political Science      0\n",
       "1         Psychology      0\n",
       "2        Mathematics      0\n",
       "3          Chemistry      0\n",
       "4                Art      0"
      ],
      "text/html": [
       "<div>\n",
       "<style scoped>\n",
       "    .dataframe tbody tr th:only-of-type {\n",
       "        vertical-align: middle;\n",
       "    }\n",
       "\n",
       "    .dataframe tbody tr th {\n",
       "        vertical-align: top;\n",
       "    }\n",
       "\n",
       "    .dataframe thead th {\n",
       "        text-align: right;\n",
       "    }\n",
       "</style>\n",
       "<table border=\"1\" class=\"dataframe\">\n",
       "  <thead>\n",
       "    <tr style=\"text-align: right;\">\n",
       "      <th></th>\n",
       "      <th>name</th>\n",
       "      <th>level</th>\n",
       "    </tr>\n",
       "  </thead>\n",
       "  <tbody>\n",
       "    <tr>\n",
       "      <th>0</th>\n",
       "      <td>Political Science</td>\n",
       "      <td>0</td>\n",
       "    </tr>\n",
       "    <tr>\n",
       "      <th>1</th>\n",
       "      <td>Psychology</td>\n",
       "      <td>0</td>\n",
       "    </tr>\n",
       "    <tr>\n",
       "      <th>2</th>\n",
       "      <td>Mathematics</td>\n",
       "      <td>0</td>\n",
       "    </tr>\n",
       "    <tr>\n",
       "      <th>3</th>\n",
       "      <td>Chemistry</td>\n",
       "      <td>0</td>\n",
       "    </tr>\n",
       "    <tr>\n",
       "      <th>4</th>\n",
       "      <td>Art</td>\n",
       "      <td>0</td>\n",
       "    </tr>\n",
       "  </tbody>\n",
       "</table>\n",
       "</div>"
      ]
     },
     "execution_count": 330,
     "metadata": {},
     "output_type": "execute_result"
    }
   ],
   "execution_count": 330
  },
  {
   "metadata": {
    "ExecuteTime": {
     "end_time": "2024-11-29T17:35:01.525966Z",
     "start_time": "2024-11-29T17:35:01.517650Z"
    }
   },
   "cell_type": "code",
   "source": "meta.shape",
   "id": "1239c8f41aa620e8",
   "outputs": [
    {
     "data": {
      "text/plain": [
       "(311, 2)"
      ]
     },
     "execution_count": 331,
     "metadata": {},
     "output_type": "execute_result"
    }
   ],
   "execution_count": 331
  },
  {
   "metadata": {
    "ExecuteTime": {
     "end_time": "2024-11-29T17:35:03.264047Z",
     "start_time": "2024-11-29T17:35:03.256588Z"
    }
   },
   "cell_type": "code",
   "source": "meta['name'].str.lower().duplicated().any()",
   "id": "8a4b7d93d7ea851a",
   "outputs": [
    {
     "data": {
      "text/plain": [
       "False"
      ]
     },
     "execution_count": 332,
     "metadata": {},
     "output_type": "execute_result"
    }
   ],
   "execution_count": 332
  },
  {
   "metadata": {
    "ExecuteTime": {
     "end_time": "2024-11-29T17:35:25.569263Z",
     "start_time": "2024-11-29T17:35:24.231476Z"
    }
   },
   "cell_type": "code",
   "source": [
    "# Grab the parent-child relations for the above L0-L1 fields\n",
    "children = pbq.read_gbq('''\\\n",
    "select \n",
    "  l0_meta.name as parent_name,\n",
    "  l1_meta.name as child_name\n",
    "from fields_of_study.field_meta as l0_meta\n",
    "inner join fields_of_study.field_children using(field_id)\n",
    "inner join fields_of_study.field_meta as l1_meta on field_children.child_field_id = l1_meta.field_id\n",
    "where l0_meta.level = 0\n",
    "order by \n",
    "  parent_name, \n",
    "  child_name\n",
    "''')\n",
    "children['parent_name'] = children['parent_name'].apply(lambda x: to_title(clean_text(x)))\n",
    "children['child_name'] = children['child_name'].apply(lambda x: to_title(clean_text(x)))\n",
    "children"
   ],
   "id": "b4aac2006352bc19",
   "outputs": [
    {
     "name": "stdout",
     "output_type": "stream",
     "text": [
      "Downloading: 100%|\u001B[32m██████████\u001B[0m|\n"
     ]
    },
    {
     "data": {
      "text/plain": [
       "    parent_name         child_name\n",
       "0           Art         Aesthetics\n",
       "1           Art        Art History\n",
       "2           Art           Classics\n",
       "3           Art         Humanities\n",
       "4           Art         Literature\n",
       "..          ...                ...\n",
       "365   Sociology           Pedagogy\n",
       "366   Sociology  Political Economy\n",
       "367   Sociology   Regional Science\n",
       "368   Sociology     Social Science\n",
       "369   Sociology     Socioeconomics\n",
       "\n",
       "[370 rows x 2 columns]"
      ],
      "text/html": [
       "<div>\n",
       "<style scoped>\n",
       "    .dataframe tbody tr th:only-of-type {\n",
       "        vertical-align: middle;\n",
       "    }\n",
       "\n",
       "    .dataframe tbody tr th {\n",
       "        vertical-align: top;\n",
       "    }\n",
       "\n",
       "    .dataframe thead th {\n",
       "        text-align: right;\n",
       "    }\n",
       "</style>\n",
       "<table border=\"1\" class=\"dataframe\">\n",
       "  <thead>\n",
       "    <tr style=\"text-align: right;\">\n",
       "      <th></th>\n",
       "      <th>parent_name</th>\n",
       "      <th>child_name</th>\n",
       "    </tr>\n",
       "  </thead>\n",
       "  <tbody>\n",
       "    <tr>\n",
       "      <th>0</th>\n",
       "      <td>Art</td>\n",
       "      <td>Aesthetics</td>\n",
       "    </tr>\n",
       "    <tr>\n",
       "      <th>1</th>\n",
       "      <td>Art</td>\n",
       "      <td>Art History</td>\n",
       "    </tr>\n",
       "    <tr>\n",
       "      <th>2</th>\n",
       "      <td>Art</td>\n",
       "      <td>Classics</td>\n",
       "    </tr>\n",
       "    <tr>\n",
       "      <th>3</th>\n",
       "      <td>Art</td>\n",
       "      <td>Humanities</td>\n",
       "    </tr>\n",
       "    <tr>\n",
       "      <th>4</th>\n",
       "      <td>Art</td>\n",
       "      <td>Literature</td>\n",
       "    </tr>\n",
       "    <tr>\n",
       "      <th>...</th>\n",
       "      <td>...</td>\n",
       "      <td>...</td>\n",
       "    </tr>\n",
       "    <tr>\n",
       "      <th>365</th>\n",
       "      <td>Sociology</td>\n",
       "      <td>Pedagogy</td>\n",
       "    </tr>\n",
       "    <tr>\n",
       "      <th>366</th>\n",
       "      <td>Sociology</td>\n",
       "      <td>Political Economy</td>\n",
       "    </tr>\n",
       "    <tr>\n",
       "      <th>367</th>\n",
       "      <td>Sociology</td>\n",
       "      <td>Regional Science</td>\n",
       "    </tr>\n",
       "    <tr>\n",
       "      <th>368</th>\n",
       "      <td>Sociology</td>\n",
       "      <td>Social Science</td>\n",
       "    </tr>\n",
       "    <tr>\n",
       "      <th>369</th>\n",
       "      <td>Sociology</td>\n",
       "      <td>Socioeconomics</td>\n",
       "    </tr>\n",
       "  </tbody>\n",
       "</table>\n",
       "<p>370 rows × 2 columns</p>\n",
       "</div>"
      ]
     },
     "execution_count": 333,
     "metadata": {},
     "output_type": "execute_result"
    }
   ],
   "execution_count": 333
  },
  {
   "metadata": {
    "ExecuteTime": {
     "end_time": "2024-11-29T17:35:37.196691Z",
     "start_time": "2024-11-29T17:35:36.981885Z"
    }
   },
   "cell_type": "code",
   "source": [
    "from openpyxl import load_workbook\n",
    "\n",
    "# This is the above `Consolidated revisions` sheet saved to a local Excel file\n",
    "path = str(ASSETS_DIR / \"fields/l2_revisions.xlsx\")\n",
    "wb = load_workbook(path)\n",
    "wb.sheetnames"
   ],
   "id": "d85843a2dd89b921",
   "outputs": [
    {
     "data": {
      "text/plain": [
       "['Computer Science L1s',\n",
       " 'Biology L1s',\n",
       " 'AI L2s',\n",
       " 'AI L3s',\n",
       " 'Additional Eng L1',\n",
       " 'Semiconductor L2s',\n",
       " 'Semiconductor L3s',\n",
       " 'Biotech L2s',\n",
       " 'Biotech L3s',\n",
       " 'Genetics L2s',\n",
       " 'Genetics L3s',\n",
       " 'Immunology L2s',\n",
       " 'Immunology L3s',\n",
       " 'Neuroscience L2s',\n",
       " 'Neuroscience L3s',\n",
       " 'Virology L2s',\n",
       " 'Virology L3s',\n",
       " 'Bioinformatics L2s',\n",
       " 'Bioinformatics L3s',\n",
       " 'Cybersecurity L2s',\n",
       " 'Cybersecurity L3s',\n",
       " 'All consolidated']"
      ]
     },
     "execution_count": 334,
     "metadata": {},
     "output_type": "execute_result"
    }
   ],
   "execution_count": 334
  },
  {
   "metadata": {},
   "cell_type": "markdown",
   "source": [
    "## DRY\n",
    "We need to do this about a dozen more times, so let's abstract.\n"
   ],
   "id": "58eafbd60febbadf"
  },
  {
   "metadata": {
    "ExecuteTime": {
     "end_time": "2024-11-29T17:36:00.157398Z",
     "start_time": "2024-11-29T17:36:00.122746Z"
    }
   },
   "cell_type": "code",
   "source": [
    "def load_revisions(sheet_name):\n",
    "    df = pd.read_excel(path, sheet_name=sheet_name)\n",
    "    df = df.rename(columns={'display_name': 'child_name'})\n",
    "    df['parent_name'] = df['parent_name'].apply(lambda x: to_title(clean_text(x)))\n",
    "    df['child_name'] = df['child_name'].apply(lambda x: to_title(clean_text(x)))\n",
    "    assert df['parent_name'].nunique() == 1\n",
    "    assert not df['child_name'].duplicated().any()\n",
    "    assert df['level'].nunique() == 1\n",
    "    assert (df['parent_name'] != '').all()\n",
    "    assert (df['child_name'] != '').all()\n",
    "    assert df[['parent_name', 'child_name']].duplicated().sum() == 0, df.loc[df[['parent_name', 'child_name']].duplicated(), :]\n",
    "    print('Read sheet', sheet_name, 'with', df.shape[0], 'rows')\n",
    "    return df\n",
    "\n",
    "def drop_children_meta(meta, parent_name):\n",
    "    n1 = meta.shape[0]\n",
    "    assert parent_name in meta['name'].values, parent_name\n",
    "    meta = meta.loc[~meta['name'].isin(children.loc[children['parent_name'] == parent_name, 'child_name'])]\n",
    "    n2 = meta.shape[0]\n",
    "    print('Dropped', n1 - n2, 'rows from meta')\n",
    "    return meta\n",
    "\n",
    "def drop_children_children(children, parent_name):\n",
    "    n1 = children.shape[0]\n",
    "    assert parent_name in children['parent_name'].values\n",
    "    children = children.loc[children['parent_name'] != parent_name]\n",
    "    n2 = children.shape[0]\n",
    "    print('Dropped', n1 - n2, 'rows from children')\n",
    "    return children\n",
    "\n",
    "def add_children(children, revisions):\n",
    "    children = pd.concat([children, revisions[['parent_name', 'child_name']]], ignore_index=True)\n",
    "    assert not children.duplicated().any(), children.loc[children.duplicated(), :]\n",
    "    print('Added', revisions.shape[0], 'rows to children')\n",
    "    return children\n",
    "\n",
    "def add_meta(meta, revisions, level):\n",
    "    new_meta = revisions[['child_name']].rename(columns={'child_name': 'name'}).assign(level=level)\n",
    "    new_meta = new_meta.loc[~new_meta['name'].isin(meta['name'])]\n",
    "    meta = pd.concat([meta, new_meta], ignore_index=True)\n",
    "    print('Added', revisions.shape[0], 'rows to meta')\n",
    "    return meta\n",
    "\n",
    "def update_fields(meta, children, revisions):\n",
    "    l0_name = revisions['parent_name'].iloc[0]\n",
    "    level = revisions['level'].iloc[0]\n",
    "    meta = drop_children_meta(meta, l0_name)\n",
    "    children = drop_children_children(children, l0_name)\n",
    "    children = add_children(children, revisions)\n",
    "    meta = add_meta(meta, revisions, level)\n",
    "    return meta, children\n",
    "\n",
    "def add_fields(meta, children, revisions):\n",
    "    level = revisions['level'].iloc[0]\n",
    "    children = add_children(children, revisions)\n",
    "    meta = add_meta(meta, revisions, level)\n",
    "    return meta, children"
   ],
   "id": "78c23b0f79f12a3c",
   "outputs": [],
   "execution_count": 335
  },
  {
   "metadata": {
    "ExecuteTime": {
     "end_time": "2024-11-29T17:36:04.160112Z",
     "start_time": "2024-11-29T17:36:02.646131Z"
    }
   },
   "cell_type": "code",
   "source": [
    "for sheet_name in wb.sheetnames:\n",
    "    if sheet_name == 'All consolidated':\n",
    "        continue\n",
    "    print(sheet_name)\n",
    "    revisions = load_revisions(sheet_name)\n",
    "    level = revisions['level'].iloc[0]\n",
    "    if level == 1 and not sheet_name.startswith('Additional'):\n",
    "        meta, children = update_fields(meta, children, revisions)\n",
    "    else:\n",
    "        meta, children = add_fields(meta, children, revisions) "
   ],
   "id": "fd184d50e7598229",
   "outputs": [
    {
     "name": "stdout",
     "output_type": "stream",
     "text": [
      "Computer Science L1s\n",
      "Read sheet Computer Science L1s with 18 rows\n",
      "Dropped 34 rows from meta\n",
      "Dropped 34 rows from children\n",
      "Added 18 rows to children\n",
      "Added 18 rows to meta\n",
      "Biology L1s\n",
      "Read sheet Biology L1s with 31 rows\n",
      "Dropped 32 rows from meta\n",
      "Dropped 32 rows from children\n",
      "Added 31 rows to children\n",
      "Added 31 rows to meta\n",
      "AI L2s\n",
      "Read sheet AI L2s with 12 rows\n",
      "Added 12 rows to children\n",
      "Added 12 rows to meta\n",
      "AI L3s\n",
      "Read sheet AI L3s with 195 rows\n",
      "Added 195 rows to children\n",
      "Added 195 rows to meta\n",
      "Additional Eng L1\n",
      "Read sheet Additional Eng L1 with 1 rows\n",
      "Added 1 rows to children\n",
      "Added 1 rows to meta\n",
      "Semiconductor L2s\n",
      "Read sheet Semiconductor L2s with 15 rows\n",
      "Added 15 rows to children\n",
      "Added 15 rows to meta\n",
      "Semiconductor L3s\n",
      "Read sheet Semiconductor L3s with 81 rows\n",
      "Added 81 rows to children\n",
      "Added 81 rows to meta\n",
      "Biotech L2s\n",
      "Read sheet Biotech L2s with 7 rows\n",
      "Added 7 rows to children\n",
      "Added 7 rows to meta\n",
      "Biotech L3s\n",
      "Read sheet Biotech L3s with 45 rows\n",
      "Added 45 rows to children\n",
      "Added 45 rows to meta\n",
      "Genetics L2s\n",
      "Read sheet Genetics L2s with 11 rows\n",
      "Added 11 rows to children\n",
      "Added 11 rows to meta\n",
      "Genetics L3s\n",
      "Read sheet Genetics L3s with 86 rows\n",
      "Added 86 rows to children\n",
      "Added 86 rows to meta\n",
      "Immunology L2s\n",
      "Read sheet Immunology L2s with 12 rows\n",
      "Added 12 rows to children\n",
      "Added 12 rows to meta\n",
      "Immunology L3s\n",
      "Read sheet Immunology L3s with 34 rows\n",
      "Added 34 rows to children\n",
      "Added 34 rows to meta\n",
      "Neuroscience L2s\n",
      "Read sheet Neuroscience L2s with 19 rows\n",
      "Added 19 rows to children\n",
      "Added 19 rows to meta\n",
      "Neuroscience L3s\n",
      "Read sheet Neuroscience L3s with 112 rows\n",
      "Added 112 rows to children\n",
      "Added 112 rows to meta\n",
      "Virology L2s\n",
      "Read sheet Virology L2s with 14 rows\n",
      "Added 14 rows to children\n",
      "Added 14 rows to meta\n",
      "Virology L3s\n",
      "Read sheet Virology L3s with 48 rows\n",
      "Added 48 rows to children\n",
      "Added 48 rows to meta\n",
      "Bioinformatics L2s\n",
      "Read sheet Bioinformatics L2s with 12 rows\n",
      "Added 12 rows to children\n",
      "Added 12 rows to meta\n",
      "Bioinformatics L3s\n",
      "Read sheet Bioinformatics L3s with 65 rows\n",
      "Added 65 rows to children\n",
      "Added 65 rows to meta\n",
      "Cybersecurity L2s\n",
      "Read sheet Cybersecurity L2s with 8 rows\n",
      "Added 8 rows to children\n",
      "Added 8 rows to meta\n",
      "Cybersecurity L3s\n",
      "Read sheet Cybersecurity L3s with 84 rows\n",
      "Added 84 rows to children\n",
      "Added 84 rows to meta\n"
     ]
    }
   ],
   "execution_count": 336
  },
  {
   "metadata": {
    "ExecuteTime": {
     "end_time": "2024-11-29T17:36:05.763375Z",
     "start_time": "2024-11-29T17:36:05.735687Z"
    }
   },
   "cell_type": "code",
   "source": "meta.duplicated().any()",
   "id": "986fd6bf09b5b365",
   "outputs": [
    {
     "data": {
      "text/plain": [
       "False"
      ]
     },
     "execution_count": 337,
     "metadata": {},
     "output_type": "execute_result"
    }
   ],
   "execution_count": 337
  },
  {
   "metadata": {
    "ExecuteTime": {
     "end_time": "2024-11-29T17:36:07.108735Z",
     "start_time": "2024-11-29T17:36:07.105417Z"
    }
   },
   "cell_type": "code",
   "source": "meta.shape",
   "id": "f8cdfd8cab5592d",
   "outputs": [
    {
     "data": {
      "text/plain": [
       "(1101, 2)"
      ]
     },
     "execution_count": 338,
     "metadata": {},
     "output_type": "execute_result"
    }
   ],
   "execution_count": 338
  },
  {
   "metadata": {
    "ExecuteTime": {
     "end_time": "2024-11-29T17:36:09.116984Z",
     "start_time": "2024-11-29T17:36:09.109951Z"
    }
   },
   "cell_type": "code",
   "source": "meta.head()",
   "id": "de6bec824cd8af9d",
   "outputs": [
    {
     "data": {
      "text/plain": [
       "                name  level\n",
       "0  Political Science      0\n",
       "1         Psychology      0\n",
       "2        Mathematics      0\n",
       "3          Chemistry      0\n",
       "4                Art      0"
      ],
      "text/html": [
       "<div>\n",
       "<style scoped>\n",
       "    .dataframe tbody tr th:only-of-type {\n",
       "        vertical-align: middle;\n",
       "    }\n",
       "\n",
       "    .dataframe tbody tr th {\n",
       "        vertical-align: top;\n",
       "    }\n",
       "\n",
       "    .dataframe thead th {\n",
       "        text-align: right;\n",
       "    }\n",
       "</style>\n",
       "<table border=\"1\" class=\"dataframe\">\n",
       "  <thead>\n",
       "    <tr style=\"text-align: right;\">\n",
       "      <th></th>\n",
       "      <th>name</th>\n",
       "      <th>level</th>\n",
       "    </tr>\n",
       "  </thead>\n",
       "  <tbody>\n",
       "    <tr>\n",
       "      <th>0</th>\n",
       "      <td>Political Science</td>\n",
       "      <td>0</td>\n",
       "    </tr>\n",
       "    <tr>\n",
       "      <th>1</th>\n",
       "      <td>Psychology</td>\n",
       "      <td>0</td>\n",
       "    </tr>\n",
       "    <tr>\n",
       "      <th>2</th>\n",
       "      <td>Mathematics</td>\n",
       "      <td>0</td>\n",
       "    </tr>\n",
       "    <tr>\n",
       "      <th>3</th>\n",
       "      <td>Chemistry</td>\n",
       "      <td>0</td>\n",
       "    </tr>\n",
       "    <tr>\n",
       "      <th>4</th>\n",
       "      <td>Art</td>\n",
       "      <td>0</td>\n",
       "    </tr>\n",
       "  </tbody>\n",
       "</table>\n",
       "</div>"
      ]
     },
     "execution_count": 339,
     "metadata": {},
     "output_type": "execute_result"
    }
   ],
   "execution_count": 339
  },
  {
   "metadata": {
    "ExecuteTime": {
     "end_time": "2024-11-29T17:36:11.433006Z",
     "start_time": "2024-11-29T17:36:11.417430Z"
    }
   },
   "cell_type": "code",
   "source": "meta['name'].str.lower().duplicated().any()",
   "id": "5065928585c8d07d",
   "outputs": [
    {
     "data": {
      "text/plain": [
       "False"
      ]
     },
     "execution_count": 340,
     "metadata": {},
     "output_type": "execute_result"
    }
   ],
   "execution_count": 340
  },
  {
   "metadata": {
    "ExecuteTime": {
     "end_time": "2024-11-29T17:36:12.086171Z",
     "start_time": "2024-11-29T17:36:12.081200Z"
    }
   },
   "cell_type": "code",
   "source": "children.duplicated().any()",
   "id": "db709146c27a63cc",
   "outputs": [
    {
     "data": {
      "text/plain": [
       "False"
      ]
     },
     "execution_count": 341,
     "metadata": {},
     "output_type": "execute_result"
    }
   ],
   "execution_count": 341
  },
  {
   "metadata": {
    "ExecuteTime": {
     "end_time": "2024-11-29T17:36:13.424964Z",
     "start_time": "2024-11-29T17:36:13.416826Z"
    }
   },
   "cell_type": "code",
   "source": "meta.head()",
   "id": "7dc7ff4548abf76c",
   "outputs": [
    {
     "data": {
      "text/plain": [
       "                name  level\n",
       "0  Political Science      0\n",
       "1         Psychology      0\n",
       "2        Mathematics      0\n",
       "3          Chemistry      0\n",
       "4                Art      0"
      ],
      "text/html": [
       "<div>\n",
       "<style scoped>\n",
       "    .dataframe tbody tr th:only-of-type {\n",
       "        vertical-align: middle;\n",
       "    }\n",
       "\n",
       "    .dataframe tbody tr th {\n",
       "        vertical-align: top;\n",
       "    }\n",
       "\n",
       "    .dataframe thead th {\n",
       "        text-align: right;\n",
       "    }\n",
       "</style>\n",
       "<table border=\"1\" class=\"dataframe\">\n",
       "  <thead>\n",
       "    <tr style=\"text-align: right;\">\n",
       "      <th></th>\n",
       "      <th>name</th>\n",
       "      <th>level</th>\n",
       "    </tr>\n",
       "  </thead>\n",
       "  <tbody>\n",
       "    <tr>\n",
       "      <th>0</th>\n",
       "      <td>Political Science</td>\n",
       "      <td>0</td>\n",
       "    </tr>\n",
       "    <tr>\n",
       "      <th>1</th>\n",
       "      <td>Psychology</td>\n",
       "      <td>0</td>\n",
       "    </tr>\n",
       "    <tr>\n",
       "      <th>2</th>\n",
       "      <td>Mathematics</td>\n",
       "      <td>0</td>\n",
       "    </tr>\n",
       "    <tr>\n",
       "      <th>3</th>\n",
       "      <td>Chemistry</td>\n",
       "      <td>0</td>\n",
       "    </tr>\n",
       "    <tr>\n",
       "      <th>4</th>\n",
       "      <td>Art</td>\n",
       "      <td>0</td>\n",
       "    </tr>\n",
       "  </tbody>\n",
       "</table>\n",
       "</div>"
      ]
     },
     "execution_count": 342,
     "metadata": {},
     "output_type": "execute_result"
    }
   ],
   "execution_count": 342
  },
  {
   "metadata": {
    "ExecuteTime": {
     "end_time": "2024-11-29T17:36:15.665217Z",
     "start_time": "2024-11-29T17:36:15.658660Z"
    }
   },
   "cell_type": "code",
   "source": "children.head()",
   "id": "877b16fb4e1b57c",
   "outputs": [
    {
     "data": {
      "text/plain": [
       "  parent_name   child_name\n",
       "0         Art   Aesthetics\n",
       "1         Art  Art History\n",
       "2         Art     Classics\n",
       "3         Art   Humanities\n",
       "4         Art   Literature"
      ],
      "text/html": [
       "<div>\n",
       "<style scoped>\n",
       "    .dataframe tbody tr th:only-of-type {\n",
       "        vertical-align: middle;\n",
       "    }\n",
       "\n",
       "    .dataframe tbody tr th {\n",
       "        vertical-align: top;\n",
       "    }\n",
       "\n",
       "    .dataframe thead th {\n",
       "        text-align: right;\n",
       "    }\n",
       "</style>\n",
       "<table border=\"1\" class=\"dataframe\">\n",
       "  <thead>\n",
       "    <tr style=\"text-align: right;\">\n",
       "      <th></th>\n",
       "      <th>parent_name</th>\n",
       "      <th>child_name</th>\n",
       "    </tr>\n",
       "  </thead>\n",
       "  <tbody>\n",
       "    <tr>\n",
       "      <th>0</th>\n",
       "      <td>Art</td>\n",
       "      <td>Aesthetics</td>\n",
       "    </tr>\n",
       "    <tr>\n",
       "      <th>1</th>\n",
       "      <td>Art</td>\n",
       "      <td>Art History</td>\n",
       "    </tr>\n",
       "    <tr>\n",
       "      <th>2</th>\n",
       "      <td>Art</td>\n",
       "      <td>Classics</td>\n",
       "    </tr>\n",
       "    <tr>\n",
       "      <th>3</th>\n",
       "      <td>Art</td>\n",
       "      <td>Humanities</td>\n",
       "    </tr>\n",
       "    <tr>\n",
       "      <th>4</th>\n",
       "      <td>Art</td>\n",
       "      <td>Literature</td>\n",
       "    </tr>\n",
       "  </tbody>\n",
       "</table>\n",
       "</div>"
      ]
     },
     "execution_count": 343,
     "metadata": {},
     "output_type": "execute_result"
    }
   ],
   "execution_count": 343
  },
  {
   "metadata": {
    "ExecuteTime": {
     "end_time": "2024-11-29T17:36:18.118230Z",
     "start_time": "2024-11-29T17:36:18.105652Z"
    }
   },
   "cell_type": "code",
   "source": [
    "meta.to_json(ASSETS_DIR / \"fields/field_meta.jsonl\", orient='records', lines=True)\n",
    "children.to_json(ASSETS_DIR / \"fields/field_children.jsonl\", orient='records', lines=True)"
   ],
   "id": "e3e54fccee7b5150",
   "outputs": [],
   "execution_count": 344
  },
  {
   "metadata": {
    "ExecuteTime": {
     "end_time": "2024-11-29T17:36:20.940137Z",
     "start_time": "2024-11-29T17:36:20.934244Z"
    }
   },
   "cell_type": "code",
   "source": "children['child_name'].isin(meta['name']).all()",
   "id": "3106ba35bd270d20",
   "outputs": [
    {
     "data": {
      "text/plain": [
       "False"
      ]
     },
     "execution_count": 345,
     "metadata": {},
     "output_type": "execute_result"
    }
   ],
   "execution_count": 345
  },
  {
   "metadata": {
    "ExecuteTime": {
     "end_time": "2024-11-29T17:36:21.728466Z",
     "start_time": "2024-11-29T17:36:21.720888Z"
    }
   },
   "cell_type": "code",
   "source": "children.loc[~children['child_name'].isin(meta['name'])]",
   "id": "11a5d33c6aca529e",
   "outputs": [
    {
     "data": {
      "text/plain": [
       "               parent_name            child_name\n",
       "27               Chemistry          Food Science\n",
       "89             Engineering  Computer Engineering\n",
       "95             Engineering       Embedded System\n",
       "117            Engineering            Simulation\n",
       "121            Engineering    Telecommunications\n",
       "124  Environmental Science  Agricultural Science\n",
       "125  Environmental Science          Agroforestry\n",
       "176            Mathematics             Algorithm\n",
       "195               Medicine               Anatomy\n",
       "206               Medicine         Endocrinology"
      ],
      "text/html": [
       "<div>\n",
       "<style scoped>\n",
       "    .dataframe tbody tr th:only-of-type {\n",
       "        vertical-align: middle;\n",
       "    }\n",
       "\n",
       "    .dataframe tbody tr th {\n",
       "        vertical-align: top;\n",
       "    }\n",
       "\n",
       "    .dataframe thead th {\n",
       "        text-align: right;\n",
       "    }\n",
       "</style>\n",
       "<table border=\"1\" class=\"dataframe\">\n",
       "  <thead>\n",
       "    <tr style=\"text-align: right;\">\n",
       "      <th></th>\n",
       "      <th>parent_name</th>\n",
       "      <th>child_name</th>\n",
       "    </tr>\n",
       "  </thead>\n",
       "  <tbody>\n",
       "    <tr>\n",
       "      <th>27</th>\n",
       "      <td>Chemistry</td>\n",
       "      <td>Food Science</td>\n",
       "    </tr>\n",
       "    <tr>\n",
       "      <th>89</th>\n",
       "      <td>Engineering</td>\n",
       "      <td>Computer Engineering</td>\n",
       "    </tr>\n",
       "    <tr>\n",
       "      <th>95</th>\n",
       "      <td>Engineering</td>\n",
       "      <td>Embedded System</td>\n",
       "    </tr>\n",
       "    <tr>\n",
       "      <th>117</th>\n",
       "      <td>Engineering</td>\n",
       "      <td>Simulation</td>\n",
       "    </tr>\n",
       "    <tr>\n",
       "      <th>121</th>\n",
       "      <td>Engineering</td>\n",
       "      <td>Telecommunications</td>\n",
       "    </tr>\n",
       "    <tr>\n",
       "      <th>124</th>\n",
       "      <td>Environmental Science</td>\n",
       "      <td>Agricultural Science</td>\n",
       "    </tr>\n",
       "    <tr>\n",
       "      <th>125</th>\n",
       "      <td>Environmental Science</td>\n",
       "      <td>Agroforestry</td>\n",
       "    </tr>\n",
       "    <tr>\n",
       "      <th>176</th>\n",
       "      <td>Mathematics</td>\n",
       "      <td>Algorithm</td>\n",
       "    </tr>\n",
       "    <tr>\n",
       "      <th>195</th>\n",
       "      <td>Medicine</td>\n",
       "      <td>Anatomy</td>\n",
       "    </tr>\n",
       "    <tr>\n",
       "      <th>206</th>\n",
       "      <td>Medicine</td>\n",
       "      <td>Endocrinology</td>\n",
       "    </tr>\n",
       "  </tbody>\n",
       "</table>\n",
       "</div>"
      ]
     },
     "execution_count": 346,
     "metadata": {},
     "output_type": "execute_result"
    }
   ],
   "execution_count": 346
  },
  {
   "metadata": {
    "ExecuteTime": {
     "end_time": "2024-11-29T17:36:23.530418Z",
     "start_time": "2024-11-29T17:36:23.520882Z"
    }
   },
   "cell_type": "code",
   "source": "meta.loc[(~meta['name'].isin(children['child_name'])) & (meta['level'] != 0)]",
   "id": "63652925968e497d",
   "outputs": [
    {
     "data": {
      "text/plain": [
       "Empty DataFrame\n",
       "Columns: [name, level]\n",
       "Index: []"
      ],
      "text/html": [
       "<div>\n",
       "<style scoped>\n",
       "    .dataframe tbody tr th:only-of-type {\n",
       "        vertical-align: middle;\n",
       "    }\n",
       "\n",
       "    .dataframe tbody tr th {\n",
       "        vertical-align: top;\n",
       "    }\n",
       "\n",
       "    .dataframe thead th {\n",
       "        text-align: right;\n",
       "    }\n",
       "</style>\n",
       "<table border=\"1\" class=\"dataframe\">\n",
       "  <thead>\n",
       "    <tr style=\"text-align: right;\">\n",
       "      <th></th>\n",
       "      <th>name</th>\n",
       "      <th>level</th>\n",
       "    </tr>\n",
       "  </thead>\n",
       "  <tbody>\n",
       "  </tbody>\n",
       "</table>\n",
       "</div>"
      ]
     },
     "execution_count": 347,
     "metadata": {},
     "output_type": "execute_result"
    }
   ],
   "execution_count": 347
  },
  {
   "metadata": {
    "ExecuteTime": {
     "end_time": "2024-11-29T17:36:45.767168Z",
     "start_time": "2024-11-29T17:36:45.715812Z"
    }
   },
   "cell_type": "code",
   "source": [
    "from io import StringIO\n",
    "missing_children = pd.read_csv(StringIO(\"\"\"\\\n",
    "parent_name,child_name\n",
    "Chemistry,Food Science\n",
    "Engineering,Computer Engineering\n",
    "Engineering,Embedded System\n",
    "Engineering,Telecommunications\n",
    "Environmental Science,Agricultural Science\n",
    "Environmental Science,Agroforestry\n",
    "Mathematics,Algorithms\n",
    "Medicine,Anatomy\n",
    "Medicine,Endocrinology\n",
    "\"\"\"))\n",
    "missing_children['parent_name'] = missing_children['parent_name'].apply(lambda x: to_title(clean_text(x)))\n",
    "missing_children['child_name'] = missing_children['child_name'].apply(lambda x: to_title(clean_text(x)))\n",
    "missing_children"
   ],
   "id": "7e6f43c195fa16dc",
   "outputs": [
    {
     "data": {
      "text/plain": [
       "             parent_name            child_name\n",
       "0              Chemistry          Food Science\n",
       "1            Engineering  Computer Engineering\n",
       "2            Engineering       Embedded System\n",
       "3            Engineering    Telecommunications\n",
       "4  Environmental Science  Agricultural Science\n",
       "5  Environmental Science          Agroforestry\n",
       "6            Mathematics            Algorithms\n",
       "7               Medicine               Anatomy\n",
       "8               Medicine         Endocrinology"
      ],
      "text/html": [
       "<div>\n",
       "<style scoped>\n",
       "    .dataframe tbody tr th:only-of-type {\n",
       "        vertical-align: middle;\n",
       "    }\n",
       "\n",
       "    .dataframe tbody tr th {\n",
       "        vertical-align: top;\n",
       "    }\n",
       "\n",
       "    .dataframe thead th {\n",
       "        text-align: right;\n",
       "    }\n",
       "</style>\n",
       "<table border=\"1\" class=\"dataframe\">\n",
       "  <thead>\n",
       "    <tr style=\"text-align: right;\">\n",
       "      <th></th>\n",
       "      <th>parent_name</th>\n",
       "      <th>child_name</th>\n",
       "    </tr>\n",
       "  </thead>\n",
       "  <tbody>\n",
       "    <tr>\n",
       "      <th>0</th>\n",
       "      <td>Chemistry</td>\n",
       "      <td>Food Science</td>\n",
       "    </tr>\n",
       "    <tr>\n",
       "      <th>1</th>\n",
       "      <td>Engineering</td>\n",
       "      <td>Computer Engineering</td>\n",
       "    </tr>\n",
       "    <tr>\n",
       "      <th>2</th>\n",
       "      <td>Engineering</td>\n",
       "      <td>Embedded System</td>\n",
       "    </tr>\n",
       "    <tr>\n",
       "      <th>3</th>\n",
       "      <td>Engineering</td>\n",
       "      <td>Telecommunications</td>\n",
       "    </tr>\n",
       "    <tr>\n",
       "      <th>4</th>\n",
       "      <td>Environmental Science</td>\n",
       "      <td>Agricultural Science</td>\n",
       "    </tr>\n",
       "    <tr>\n",
       "      <th>5</th>\n",
       "      <td>Environmental Science</td>\n",
       "      <td>Agroforestry</td>\n",
       "    </tr>\n",
       "    <tr>\n",
       "      <th>6</th>\n",
       "      <td>Mathematics</td>\n",
       "      <td>Algorithms</td>\n",
       "    </tr>\n",
       "    <tr>\n",
       "      <th>7</th>\n",
       "      <td>Medicine</td>\n",
       "      <td>Anatomy</td>\n",
       "    </tr>\n",
       "    <tr>\n",
       "      <th>8</th>\n",
       "      <td>Medicine</td>\n",
       "      <td>Endocrinology</td>\n",
       "    </tr>\n",
       "  </tbody>\n",
       "</table>\n",
       "</div>"
      ]
     },
     "execution_count": 348,
     "metadata": {},
     "output_type": "execute_result"
    }
   ],
   "execution_count": 348
  },
  {
   "metadata": {
    "ExecuteTime": {
     "end_time": "2024-11-29T17:36:48.490647Z",
     "start_time": "2024-11-29T17:36:48.479550Z"
    }
   },
   "cell_type": "code",
   "source": [
    "children = children.loc[children['child_name'].isin(meta['name'])]\n",
    "children = pd.concat([children, missing_children], ignore_index=True)\n",
    "\n",
    "children.loc[~children['child_name'].isin(meta['name'])]"
   ],
   "id": "3f4c6bb12f277de8",
   "outputs": [
    {
     "data": {
      "text/plain": [
       "                parent_name            child_name\n",
       "1204              Chemistry          Food Science\n",
       "1205            Engineering  Computer Engineering\n",
       "1206            Engineering       Embedded System\n",
       "1207            Engineering    Telecommunications\n",
       "1208  Environmental Science  Agricultural Science\n",
       "1209  Environmental Science          Agroforestry\n",
       "1211               Medicine               Anatomy\n",
       "1212               Medicine         Endocrinology"
      ],
      "text/html": [
       "<div>\n",
       "<style scoped>\n",
       "    .dataframe tbody tr th:only-of-type {\n",
       "        vertical-align: middle;\n",
       "    }\n",
       "\n",
       "    .dataframe tbody tr th {\n",
       "        vertical-align: top;\n",
       "    }\n",
       "\n",
       "    .dataframe thead th {\n",
       "        text-align: right;\n",
       "    }\n",
       "</style>\n",
       "<table border=\"1\" class=\"dataframe\">\n",
       "  <thead>\n",
       "    <tr style=\"text-align: right;\">\n",
       "      <th></th>\n",
       "      <th>parent_name</th>\n",
       "      <th>child_name</th>\n",
       "    </tr>\n",
       "  </thead>\n",
       "  <tbody>\n",
       "    <tr>\n",
       "      <th>1204</th>\n",
       "      <td>Chemistry</td>\n",
       "      <td>Food Science</td>\n",
       "    </tr>\n",
       "    <tr>\n",
       "      <th>1205</th>\n",
       "      <td>Engineering</td>\n",
       "      <td>Computer Engineering</td>\n",
       "    </tr>\n",
       "    <tr>\n",
       "      <th>1206</th>\n",
       "      <td>Engineering</td>\n",
       "      <td>Embedded System</td>\n",
       "    </tr>\n",
       "    <tr>\n",
       "      <th>1207</th>\n",
       "      <td>Engineering</td>\n",
       "      <td>Telecommunications</td>\n",
       "    </tr>\n",
       "    <tr>\n",
       "      <th>1208</th>\n",
       "      <td>Environmental Science</td>\n",
       "      <td>Agricultural Science</td>\n",
       "    </tr>\n",
       "    <tr>\n",
       "      <th>1209</th>\n",
       "      <td>Environmental Science</td>\n",
       "      <td>Agroforestry</td>\n",
       "    </tr>\n",
       "    <tr>\n",
       "      <th>1211</th>\n",
       "      <td>Medicine</td>\n",
       "      <td>Anatomy</td>\n",
       "    </tr>\n",
       "    <tr>\n",
       "      <th>1212</th>\n",
       "      <td>Medicine</td>\n",
       "      <td>Endocrinology</td>\n",
       "    </tr>\n",
       "  </tbody>\n",
       "</table>\n",
       "</div>"
      ]
     },
     "execution_count": 349,
     "metadata": {},
     "output_type": "execute_result"
    }
   ],
   "execution_count": 349
  },
  {
   "metadata": {
    "ExecuteTime": {
     "end_time": "2024-11-29T17:36:58.608761Z",
     "start_time": "2024-11-29T17:36:58.577821Z"
    }
   },
   "cell_type": "code",
   "source": [
    "# Add to meta\n",
    "missing_meta = pd.read_csv(StringIO(\"\"\"\\\n",
    "name,level\n",
    "Food Science,1\n",
    "Computer Engineering,1\n",
    "Embedded System,1\n",
    "Telecommunications,1\n",
    "Agricultural Science,1\n",
    "Agroforestry,1\n",
    "Anatomy,1\n",
    "Endocrinology,1\n",
    "\"\"\"))\n",
    "missing_meta['name'] = missing_meta['name'].apply(lambda x: to_title(clean_text(x)))\n",
    "missing_meta.head()                    "
   ],
   "id": "8f4d182e6b2ed079",
   "outputs": [
    {
     "data": {
      "text/plain": [
       "                   name  level\n",
       "0          Food Science      1\n",
       "1  Computer Engineering      1\n",
       "2       Embedded System      1\n",
       "3    Telecommunications      1\n",
       "4  Agricultural Science      1"
      ],
      "text/html": [
       "<div>\n",
       "<style scoped>\n",
       "    .dataframe tbody tr th:only-of-type {\n",
       "        vertical-align: middle;\n",
       "    }\n",
       "\n",
       "    .dataframe tbody tr th {\n",
       "        vertical-align: top;\n",
       "    }\n",
       "\n",
       "    .dataframe thead th {\n",
       "        text-align: right;\n",
       "    }\n",
       "</style>\n",
       "<table border=\"1\" class=\"dataframe\">\n",
       "  <thead>\n",
       "    <tr style=\"text-align: right;\">\n",
       "      <th></th>\n",
       "      <th>name</th>\n",
       "      <th>level</th>\n",
       "    </tr>\n",
       "  </thead>\n",
       "  <tbody>\n",
       "    <tr>\n",
       "      <th>0</th>\n",
       "      <td>Food Science</td>\n",
       "      <td>1</td>\n",
       "    </tr>\n",
       "    <tr>\n",
       "      <th>1</th>\n",
       "      <td>Computer Engineering</td>\n",
       "      <td>1</td>\n",
       "    </tr>\n",
       "    <tr>\n",
       "      <th>2</th>\n",
       "      <td>Embedded System</td>\n",
       "      <td>1</td>\n",
       "    </tr>\n",
       "    <tr>\n",
       "      <th>3</th>\n",
       "      <td>Telecommunications</td>\n",
       "      <td>1</td>\n",
       "    </tr>\n",
       "    <tr>\n",
       "      <th>4</th>\n",
       "      <td>Agricultural Science</td>\n",
       "      <td>1</td>\n",
       "    </tr>\n",
       "  </tbody>\n",
       "</table>\n",
       "</div>"
      ]
     },
     "execution_count": 350,
     "metadata": {},
     "output_type": "execute_result"
    }
   ],
   "execution_count": 350
  },
  {
   "metadata": {
    "ExecuteTime": {
     "end_time": "2024-11-29T17:37:00.668323Z",
     "start_time": "2024-11-29T17:37:00.663227Z"
    }
   },
   "cell_type": "code",
   "source": [
    "meta = pd.concat([meta, missing_meta], ignore_index=True)\n",
    "meta.shape"
   ],
   "id": "ecfc200fcd022962",
   "outputs": [
    {
     "data": {
      "text/plain": [
       "(1109, 2)"
      ]
     },
     "execution_count": 351,
     "metadata": {},
     "output_type": "execute_result"
    }
   ],
   "execution_count": 351
  },
  {
   "metadata": {
    "ExecuteTime": {
     "end_time": "2024-11-29T17:46:10.995847Z",
     "start_time": "2024-11-29T17:46:10.969185Z"
    }
   },
   "cell_type": "code",
   "source": [
    "def test_meta(meta):\n",
    "    # No duplicate field names\n",
    "    assert not meta['name'].duplicated().any()\n",
    "    # Still no duplicate field names after lowercasing and stripping whitespace\n",
    "    assert not meta['name'].str.lower().str.strip().duplicated().any()\n",
    "    # No field names should have leading/trailing whitespace\n",
    "    assert (meta['name'].str.strip() == meta['name']).all()\n",
    "    # Field names should be title-cased\n",
    "    assert (meta['name'].apply(lambda x: to_title(clean_text(x))) == meta['name']).all()\n",
    "    # No nulls\n",
    "    assert not meta['name'].isnull().any()\n",
    "    # No empty strings\n",
    "    assert not (meta['name'] == '').any()\n",
    "\n",
    "test_meta(meta)"
   ],
   "id": "d295d81188a8c4ef",
   "outputs": [],
   "execution_count": 388
  },
  {
   "metadata": {
    "ExecuteTime": {
     "end_time": "2024-11-29T17:46:32.903262Z",
     "start_time": "2024-11-29T17:46:32.888076Z"
    }
   },
   "cell_type": "code",
   "source": [
    "def test_children(children):\n",
    "    # No duplicate parent-child pairs\n",
    "    assert not children.duplicated().any()\n",
    "    # No nulls\n",
    "    assert not children['parent_name'].isnull().any()\n",
    "    assert not children['child_name'].isnull().any()\n",
    "    # No empty strings\n",
    "    assert not (children['parent_name'] == '').any()\n",
    "    assert not (children['child_name'] == '').any()\n",
    "    \n",
    "test_children(children)    "
   ],
   "id": "72c5652d328d550c",
   "outputs": [],
   "execution_count": 389
  },
  {
   "metadata": {
    "ExecuteTime": {
     "end_time": "2024-11-29T17:37:49.108177Z",
     "start_time": "2024-11-29T17:37:49.103576Z"
    }
   },
   "cell_type": "code",
   "source": [
    "def test_children_in_meta(meta, children):\n",
    "    # All children should be in meta\n",
    "    assert children['child_name'].isin(meta['name']).all()\n",
    "    # All parents should be in meta\n",
    "    assert children['parent_name'].isin(meta['name']).all()\n",
    "    \n",
    "test_children_in_meta(meta, children)"
   ],
   "id": "1ab3c067adf7049c",
   "outputs": [],
   "execution_count": 356
  },
  {
   "metadata": {
    "ExecuteTime": {
     "end_time": "2024-11-29T17:37:51.492945Z",
     "start_time": "2024-11-29T17:37:51.485836Z"
    }
   },
   "cell_type": "code",
   "source": [
    "def test_meta_in_children(meta, children):\n",
    "    # All fields in meta should be in children\n",
    "    assert (meta['name'].isin(children['child_name']) | meta['name'].isin(children['parent_name'])).all()\n",
    "\n",
    "test_meta_in_children(meta, children)"
   ],
   "id": "d22c410fb7ed2bea",
   "outputs": [],
   "execution_count": 357
  },
  {
   "metadata": {
    "ExecuteTime": {
     "end_time": "2024-11-29T17:37:52.536930Z",
     "start_time": "2024-11-29T17:37:52.532412Z"
    }
   },
   "cell_type": "code",
   "source": "children['parent_name'].nunique()",
   "id": "3e421534fdaa044d",
   "outputs": [
    {
     "data": {
      "text/plain": [
       "28"
      ]
     },
     "execution_count": 358,
     "metadata": {},
     "output_type": "execute_result"
    }
   ],
   "execution_count": 358
  },
  {
   "metadata": {
    "ExecuteTime": {
     "end_time": "2024-11-29T17:37:53.086936Z",
     "start_time": "2024-11-29T17:37:53.083360Z"
    }
   },
   "cell_type": "code",
   "source": "children['child_name'].duplicated().sum()",
   "id": "613dfdb0d76ab211",
   "outputs": [
    {
     "data": {
      "text/plain": [
       "123"
      ]
     },
     "execution_count": 359,
     "metadata": {},
     "output_type": "execute_result"
    }
   ],
   "execution_count": 359
  },
  {
   "metadata": {},
   "cell_type": "markdown",
   "source": "We can expect child names to appear more than once in the parent-child table because children can have multiple parents. For example, \"Computer Engineering\" is a child of both \"Engineering\" and \"Computer Science\".",
   "id": "92b2890e7e2c5733"
  },
  {
   "metadata": {
    "ExecuteTime": {
     "end_time": "2024-11-29T17:37:56.653429Z",
     "start_time": "2024-11-29T17:37:56.626223Z"
    }
   },
   "cell_type": "code",
   "source": [
    "dupe_children_names = children.loc[children['child_name'].duplicated(), 'child_name']\n",
    "children.loc[children['child_name'].isin(dupe_children_names)].sort_values(['child_name', 'parent_name'])[['child_name', 'parent_name']]"
   ],
   "id": "7a4bd393885569a2",
   "outputs": [
    {
     "data": {
      "text/plain": [
       "               child_name parent_name\n",
       "6              Accounting    Business\n",
       "39             Accounting   Economics\n",
       "7       Actuarial Science    Business\n",
       "40      Actuarial Science   Economics\n",
       "0              Aesthetics         Art\n",
       "...                   ...         ...\n",
       "795    Viral Metagenomics    Genetics\n",
       "837   Viral Phylodynamics  Immunology\n",
       "1002  Viral Phylodynamics    Virology\n",
       "332              Virology     Biology\n",
       "229              Virology    Medicine\n",
       "\n",
       "[243 rows x 2 columns]"
      ],
      "text/html": [
       "<div>\n",
       "<style scoped>\n",
       "    .dataframe tbody tr th:only-of-type {\n",
       "        vertical-align: middle;\n",
       "    }\n",
       "\n",
       "    .dataframe tbody tr th {\n",
       "        vertical-align: top;\n",
       "    }\n",
       "\n",
       "    .dataframe thead th {\n",
       "        text-align: right;\n",
       "    }\n",
       "</style>\n",
       "<table border=\"1\" class=\"dataframe\">\n",
       "  <thead>\n",
       "    <tr style=\"text-align: right;\">\n",
       "      <th></th>\n",
       "      <th>child_name</th>\n",
       "      <th>parent_name</th>\n",
       "    </tr>\n",
       "  </thead>\n",
       "  <tbody>\n",
       "    <tr>\n",
       "      <th>6</th>\n",
       "      <td>Accounting</td>\n",
       "      <td>Business</td>\n",
       "    </tr>\n",
       "    <tr>\n",
       "      <th>39</th>\n",
       "      <td>Accounting</td>\n",
       "      <td>Economics</td>\n",
       "    </tr>\n",
       "    <tr>\n",
       "      <th>7</th>\n",
       "      <td>Actuarial Science</td>\n",
       "      <td>Business</td>\n",
       "    </tr>\n",
       "    <tr>\n",
       "      <th>40</th>\n",
       "      <td>Actuarial Science</td>\n",
       "      <td>Economics</td>\n",
       "    </tr>\n",
       "    <tr>\n",
       "      <th>0</th>\n",
       "      <td>Aesthetics</td>\n",
       "      <td>Art</td>\n",
       "    </tr>\n",
       "    <tr>\n",
       "      <th>...</th>\n",
       "      <td>...</td>\n",
       "      <td>...</td>\n",
       "    </tr>\n",
       "    <tr>\n",
       "      <th>795</th>\n",
       "      <td>Viral Metagenomics</td>\n",
       "      <td>Genetics</td>\n",
       "    </tr>\n",
       "    <tr>\n",
       "      <th>837</th>\n",
       "      <td>Viral Phylodynamics</td>\n",
       "      <td>Immunology</td>\n",
       "    </tr>\n",
       "    <tr>\n",
       "      <th>1002</th>\n",
       "      <td>Viral Phylodynamics</td>\n",
       "      <td>Virology</td>\n",
       "    </tr>\n",
       "    <tr>\n",
       "      <th>332</th>\n",
       "      <td>Virology</td>\n",
       "      <td>Biology</td>\n",
       "    </tr>\n",
       "    <tr>\n",
       "      <th>229</th>\n",
       "      <td>Virology</td>\n",
       "      <td>Medicine</td>\n",
       "    </tr>\n",
       "  </tbody>\n",
       "</table>\n",
       "<p>243 rows × 2 columns</p>\n",
       "</div>"
      ]
     },
     "execution_count": 360,
     "metadata": {},
     "output_type": "execute_result"
    }
   ],
   "execution_count": 360
  },
  {
   "metadata": {},
   "cell_type": "markdown",
   "source": [
    "What we shouldn't find is any children whose parents are at different levels. This suggests we might've moved a child field under a new parent without removing the old parent-child link.\n",
    "\n",
    "Reviewing the above table manually, for example I see \"Computer Simulation\" appears as a child of both \"Artificial Intelligence\" and \"Computer Science\". We actually wanted to move it from being a child of the latter to that of the former.\n",
    "\n",
    "Let's check for this programmatically."
   ],
   "id": "123cb8daf9cdf43e"
  },
  {
   "metadata": {
    "ExecuteTime": {
     "end_time": "2024-11-29T17:38:01.784013Z",
     "start_time": "2024-11-29T17:38:01.763862Z"
    }
   },
   "cell_type": "code",
   "source": [
    "# Filter the parent-child table to only include children that appear more than once, i.e.,\n",
    "# have multiple parents\n",
    "dupe_children = children.loc[children['child_name'].isin(dupe_children_names)].\\\n",
    "    sort_values(['child_name', 'parent_name'])[['child_name', 'parent_name']]\n",
    "# Join with the meta table to get the levels of the parents\n",
    "dupe_meta = meta.merge(dupe_children, left_on='name', right_on='parent_name', how='inner').\\\n",
    "    drop(columns=['name']).\\\n",
    "    rename(columns={'level': 'parent_level'})\n",
    "dupe_meta.head()"
   ],
   "id": "a1dea8874db6e9b2",
   "outputs": [
    {
     "data": {
      "text/plain": [
       "   parent_level             child_name parent_name\n",
       "0             0    Clinical Psychology  Psychology\n",
       "1             0          Communication  Psychology\n",
       "2             0            Criminology  Psychology\n",
       "3             0  Mathematics Education  Psychology\n",
       "4             0           Neuroscience  Psychology"
      ],
      "text/html": [
       "<div>\n",
       "<style scoped>\n",
       "    .dataframe tbody tr th:only-of-type {\n",
       "        vertical-align: middle;\n",
       "    }\n",
       "\n",
       "    .dataframe tbody tr th {\n",
       "        vertical-align: top;\n",
       "    }\n",
       "\n",
       "    .dataframe thead th {\n",
       "        text-align: right;\n",
       "    }\n",
       "</style>\n",
       "<table border=\"1\" class=\"dataframe\">\n",
       "  <thead>\n",
       "    <tr style=\"text-align: right;\">\n",
       "      <th></th>\n",
       "      <th>parent_level</th>\n",
       "      <th>child_name</th>\n",
       "      <th>parent_name</th>\n",
       "    </tr>\n",
       "  </thead>\n",
       "  <tbody>\n",
       "    <tr>\n",
       "      <th>0</th>\n",
       "      <td>0</td>\n",
       "      <td>Clinical Psychology</td>\n",
       "      <td>Psychology</td>\n",
       "    </tr>\n",
       "    <tr>\n",
       "      <th>1</th>\n",
       "      <td>0</td>\n",
       "      <td>Communication</td>\n",
       "      <td>Psychology</td>\n",
       "    </tr>\n",
       "    <tr>\n",
       "      <th>2</th>\n",
       "      <td>0</td>\n",
       "      <td>Criminology</td>\n",
       "      <td>Psychology</td>\n",
       "    </tr>\n",
       "    <tr>\n",
       "      <th>3</th>\n",
       "      <td>0</td>\n",
       "      <td>Mathematics Education</td>\n",
       "      <td>Psychology</td>\n",
       "    </tr>\n",
       "    <tr>\n",
       "      <th>4</th>\n",
       "      <td>0</td>\n",
       "      <td>Neuroscience</td>\n",
       "      <td>Psychology</td>\n",
       "    </tr>\n",
       "  </tbody>\n",
       "</table>\n",
       "</div>"
      ]
     },
     "execution_count": 361,
     "metadata": {},
     "output_type": "execute_result"
    }
   ],
   "execution_count": 361
  },
  {
   "metadata": {
    "ExecuteTime": {
     "end_time": "2024-11-29T17:38:04.234897Z",
     "start_time": "2024-11-29T17:38:04.226765Z"
    }
   },
   "cell_type": "code",
   "source": [
    "# Get frequency counts over parent-child pairs for the number of unique parent levels\n",
    "#   (we want all 1)\n",
    "dupe_meta.groupby('child_name').agg({'parent_level': 'nunique'})['parent_level'].value_counts()"
   ],
   "id": "364dbff9864eed60",
   "outputs": [
    {
     "data": {
      "text/plain": [
       "1    113\n",
       "2      7\n",
       "Name: parent_level, dtype: int64"
      ]
     },
     "execution_count": 362,
     "metadata": {},
     "output_type": "execute_result"
    }
   ],
   "execution_count": 362
  },
  {
   "metadata": {},
   "cell_type": "markdown",
   "source": "We have 7 child fields with 2 parents at levels.",
   "id": "8aa6b4d71459f794"
  },
  {
   "metadata": {
    "ExecuteTime": {
     "end_time": "2024-11-29T17:38:30.629580Z",
     "start_time": "2024-11-29T17:38:30.586513Z"
    }
   },
   "cell_type": "code",
   "source": [
    "inconsistent_dupes = dupe_meta.groupby('child_name').\\\n",
    "    agg(parent_levels = ('parent_level', lambda x: x.tolist()),\n",
    "        parent_names = ('parent_name', lambda x: x.tolist()),\n",
    "        n_levels = ('parent_level', 'nunique')).\\\n",
    "    loc[lambda x: x['n_levels'] > 1]\n",
    "\n",
    "inconsistent_dupes"
   ],
   "id": "a5b23498e6884d85",
   "outputs": [
    {
     "data": {
      "text/plain": [
       "                           parent_levels  \\\n",
       "child_name                                 \n",
       "Biomedical Engineering         [0, 0, 1]   \n",
       "Computational Biology             [0, 1]   \n",
       "Computer Simulation               [0, 1]   \n",
       "Human-Computer Interaction        [0, 1]   \n",
       "Mathematical Optimization         [0, 1]   \n",
       "Synthetic Biology                 [0, 1]   \n",
       "Systems Biology                   [0, 1]   \n",
       "\n",
       "                                                           parent_names  \\\n",
       "child_name                                                                \n",
       "Biomedical Engineering           [Medicine, Engineering, Biotechnology]   \n",
       "Computational Biology                         [Biology, Bioinformatics]   \n",
       "Computer Simulation         [Computer Science, Artificial Intelligence]   \n",
       "Human-Computer Interaction  [Computer Science, Artificial Intelligence]   \n",
       "Mathematical Optimization        [Mathematics, Artificial Intelligence]   \n",
       "Synthetic Biology                              [Biology, Biotechnology]   \n",
       "Systems Biology                               [Biology, Bioinformatics]   \n",
       "\n",
       "                            n_levels  \n",
       "child_name                            \n",
       "Biomedical Engineering             2  \n",
       "Computational Biology              2  \n",
       "Computer Simulation                2  \n",
       "Human-Computer Interaction         2  \n",
       "Mathematical Optimization          2  \n",
       "Synthetic Biology                  2  \n",
       "Systems Biology                    2  "
      ],
      "text/html": [
       "<div>\n",
       "<style scoped>\n",
       "    .dataframe tbody tr th:only-of-type {\n",
       "        vertical-align: middle;\n",
       "    }\n",
       "\n",
       "    .dataframe tbody tr th {\n",
       "        vertical-align: top;\n",
       "    }\n",
       "\n",
       "    .dataframe thead th {\n",
       "        text-align: right;\n",
       "    }\n",
       "</style>\n",
       "<table border=\"1\" class=\"dataframe\">\n",
       "  <thead>\n",
       "    <tr style=\"text-align: right;\">\n",
       "      <th></th>\n",
       "      <th>parent_levels</th>\n",
       "      <th>parent_names</th>\n",
       "      <th>n_levels</th>\n",
       "    </tr>\n",
       "    <tr>\n",
       "      <th>child_name</th>\n",
       "      <th></th>\n",
       "      <th></th>\n",
       "      <th></th>\n",
       "    </tr>\n",
       "  </thead>\n",
       "  <tbody>\n",
       "    <tr>\n",
       "      <th>Biomedical Engineering</th>\n",
       "      <td>[0, 0, 1]</td>\n",
       "      <td>[Medicine, Engineering, Biotechnology]</td>\n",
       "      <td>2</td>\n",
       "    </tr>\n",
       "    <tr>\n",
       "      <th>Computational Biology</th>\n",
       "      <td>[0, 1]</td>\n",
       "      <td>[Biology, Bioinformatics]</td>\n",
       "      <td>2</td>\n",
       "    </tr>\n",
       "    <tr>\n",
       "      <th>Computer Simulation</th>\n",
       "      <td>[0, 1]</td>\n",
       "      <td>[Computer Science, Artificial Intelligence]</td>\n",
       "      <td>2</td>\n",
       "    </tr>\n",
       "    <tr>\n",
       "      <th>Human-Computer Interaction</th>\n",
       "      <td>[0, 1]</td>\n",
       "      <td>[Computer Science, Artificial Intelligence]</td>\n",
       "      <td>2</td>\n",
       "    </tr>\n",
       "    <tr>\n",
       "      <th>Mathematical Optimization</th>\n",
       "      <td>[0, 1]</td>\n",
       "      <td>[Mathematics, Artificial Intelligence]</td>\n",
       "      <td>2</td>\n",
       "    </tr>\n",
       "    <tr>\n",
       "      <th>Synthetic Biology</th>\n",
       "      <td>[0, 1]</td>\n",
       "      <td>[Biology, Biotechnology]</td>\n",
       "      <td>2</td>\n",
       "    </tr>\n",
       "    <tr>\n",
       "      <th>Systems Biology</th>\n",
       "      <td>[0, 1]</td>\n",
       "      <td>[Biology, Bioinformatics]</td>\n",
       "      <td>2</td>\n",
       "    </tr>\n",
       "  </tbody>\n",
       "</table>\n",
       "</div>"
      ]
     },
     "execution_count": 363,
     "metadata": {},
     "output_type": "execute_result"
    }
   ],
   "execution_count": 363
  },
  {
   "metadata": {},
   "cell_type": "markdown",
   "source": [
    "The six cases where one of the parents is an L0 and one of the parents is an L1 are easy fixes -- in each of these cases, we wanted to move the child field from L1 to L2. The solution is to drop the L0-L1 parent-child link.\n",
    "\n",
    "The correct placement of Biomedical Engineering isn't immediately clear to me. Its placement as an L2 under Biotechnology must've been intentional, but should it not also appear (somewhere) under Medicine or Engineering?\n",
    "\n",
    "For now, I'll keep it under Biotechnology and drop it from Medicine and Engineering."
   ],
   "id": "8147edeb8c371aa5"
  },
  {
   "metadata": {
    "ExecuteTime": {
     "end_time": "2024-11-29T17:38:46.963854Z",
     "start_time": "2024-11-29T17:38:46.947599Z"
    }
   },
   "cell_type": "code",
   "source": "children.shape",
   "id": "a4dd189328c03557",
   "outputs": [
    {
     "data": {
      "text/plain": [
       "(1213, 2)"
      ]
     },
     "execution_count": 364,
     "metadata": {},
     "output_type": "execute_result"
    }
   ],
   "execution_count": 364
  },
  {
   "metadata": {
    "ExecuteTime": {
     "end_time": "2024-11-29T17:38:50.983989Z",
     "start_time": "2024-11-29T17:38:50.969443Z"
    }
   },
   "cell_type": "code",
   "source": [
    "# Get the subset of the parent-child table where a child has inconsistent parent levels\n",
    "# and just keep the rows where the parent level isn't 0, since those happen to be the\n",
    "# parents we want to drop. We should have 6 resulting rows (see above), and we do.\n",
    "to_keep = pd.merge(\n",
    "    children.loc[children.child_name.isin(inconsistent_dupes.index)],\n",
    "    dupe_meta.loc[dupe_meta.parent_level != 0], how='inner').drop(columns=['parent_level'])\n",
    "to_keep"
   ],
   "id": "34429312f3f3ac26",
   "outputs": [
    {
     "data": {
      "text/plain": [
       "               parent_name                  child_name\n",
       "0  Artificial Intelligence   Mathematical Optimization\n",
       "1  Artificial Intelligence         Computer Simulation\n",
       "2  Artificial Intelligence  Human-Computer Interaction\n",
       "3            Biotechnology      Biomedical Engineering\n",
       "4            Biotechnology           Synthetic Biology\n",
       "5           Bioinformatics       Computational Biology\n",
       "6           Bioinformatics             Systems Biology"
      ],
      "text/html": [
       "<div>\n",
       "<style scoped>\n",
       "    .dataframe tbody tr th:only-of-type {\n",
       "        vertical-align: middle;\n",
       "    }\n",
       "\n",
       "    .dataframe tbody tr th {\n",
       "        vertical-align: top;\n",
       "    }\n",
       "\n",
       "    .dataframe thead th {\n",
       "        text-align: right;\n",
       "    }\n",
       "</style>\n",
       "<table border=\"1\" class=\"dataframe\">\n",
       "  <thead>\n",
       "    <tr style=\"text-align: right;\">\n",
       "      <th></th>\n",
       "      <th>parent_name</th>\n",
       "      <th>child_name</th>\n",
       "    </tr>\n",
       "  </thead>\n",
       "  <tbody>\n",
       "    <tr>\n",
       "      <th>0</th>\n",
       "      <td>Artificial Intelligence</td>\n",
       "      <td>Mathematical Optimization</td>\n",
       "    </tr>\n",
       "    <tr>\n",
       "      <th>1</th>\n",
       "      <td>Artificial Intelligence</td>\n",
       "      <td>Computer Simulation</td>\n",
       "    </tr>\n",
       "    <tr>\n",
       "      <th>2</th>\n",
       "      <td>Artificial Intelligence</td>\n",
       "      <td>Human-Computer Interaction</td>\n",
       "    </tr>\n",
       "    <tr>\n",
       "      <th>3</th>\n",
       "      <td>Biotechnology</td>\n",
       "      <td>Biomedical Engineering</td>\n",
       "    </tr>\n",
       "    <tr>\n",
       "      <th>4</th>\n",
       "      <td>Biotechnology</td>\n",
       "      <td>Synthetic Biology</td>\n",
       "    </tr>\n",
       "    <tr>\n",
       "      <th>5</th>\n",
       "      <td>Bioinformatics</td>\n",
       "      <td>Computational Biology</td>\n",
       "    </tr>\n",
       "    <tr>\n",
       "      <th>6</th>\n",
       "      <td>Bioinformatics</td>\n",
       "      <td>Systems Biology</td>\n",
       "    </tr>\n",
       "  </tbody>\n",
       "</table>\n",
       "</div>"
      ]
     },
     "execution_count": 365,
     "metadata": {},
     "output_type": "execute_result"
    }
   ],
   "execution_count": 365
  },
  {
   "metadata": {
    "ExecuteTime": {
     "end_time": "2024-11-29T17:38:54.786249Z",
     "start_time": "2024-11-29T17:38:54.778440Z"
    }
   },
   "cell_type": "code",
   "source": [
    "# We can build the result we want now: the parent-child table, with only the rows we kept\n",
    "# above for the children with inconsistent parent levels\n",
    "children = pd.concat(\n",
    "    [children.loc[~children.child_name.isin(inconsistent_dupes.index)], to_keep],\n",
    "    ignore_index=True) \n",
    "children.shape"
   ],
   "id": "75e79cc02696974",
   "outputs": [
    {
     "data": {
      "text/plain": [
       "(1205, 2)"
      ]
     },
     "execution_count": 366,
     "metadata": {},
     "output_type": "execute_result"
    }
   ],
   "execution_count": 366
  },
  {
   "metadata": {},
   "cell_type": "markdown",
   "source": "We should've dropped 8 rows (see above) and we did.",
   "id": "323f83870c8665f7"
  },
  {
   "metadata": {
    "ExecuteTime": {
     "end_time": "2024-11-29T17:44:49.510965Z",
     "start_time": "2024-11-29T17:44:49.481455Z"
    }
   },
   "cell_type": "code",
   "source": [
    "test_meta(meta)\n",
    "test_children(children)\n",
    "test_children_in_meta(meta, children)\n",
    "test_meta_in_children(meta, children)"
   ],
   "id": "594641224bf3175b",
   "outputs": [],
   "execution_count": 385
  },
  {
   "metadata": {},
   "cell_type": "markdown",
   "source": "Almost good to go. Let's check we have field text for each field.",
   "id": "f3a963922f7c9ae6"
  },
  {
   "metadata": {
    "ExecuteTime": {
     "end_time": "2024-11-29T17:52:15.756967Z",
     "start_time": "2024-11-29T17:52:15.707566Z"
    }
   },
   "cell_type": "code",
   "source": "meta.loc[~meta['name'].isin(db['display_name'])]",
   "id": "f196573dd8416fd4",
   "outputs": [
    {
     "data": {
      "text/plain": [
       "                         name  level\n",
       "1037  Buffer Overflow Attacks      3"
      ],
      "text/html": [
       "<div>\n",
       "<style scoped>\n",
       "    .dataframe tbody tr th:only-of-type {\n",
       "        vertical-align: middle;\n",
       "    }\n",
       "\n",
       "    .dataframe tbody tr th {\n",
       "        vertical-align: top;\n",
       "    }\n",
       "\n",
       "    .dataframe thead th {\n",
       "        text-align: right;\n",
       "    }\n",
       "</style>\n",
       "<table border=\"1\" class=\"dataframe\">\n",
       "  <thead>\n",
       "    <tr style=\"text-align: right;\">\n",
       "      <th></th>\n",
       "      <th>name</th>\n",
       "      <th>level</th>\n",
       "    </tr>\n",
       "  </thead>\n",
       "  <tbody>\n",
       "    <tr>\n",
       "      <th>1037</th>\n",
       "      <td>Buffer Overflow Attacks</td>\n",
       "      <td>3</td>\n",
       "    </tr>\n",
       "  </tbody>\n",
       "</table>\n",
       "</div>"
      ]
     },
     "execution_count": 401,
     "metadata": {},
     "output_type": "execute_result"
    }
   ],
   "execution_count": 401
  },
  {
   "metadata": {
    "ExecuteTime": {
     "end_time": "2024-11-29T17:52:16.154654Z",
     "start_time": "2024-11-29T17:52:16.144226Z"
    }
   },
   "cell_type": "code",
   "source": "db.loc[db['display_name'].str.contains('Buffer')]",
   "id": "38d5eda1ba80e778",
   "outputs": [
    {
     "data": {
      "text/plain": [
       "        id  level                display_name             normalized_name  \\\n",
       "1073  1074      3  Buffer Overflow Protection  buffer overflow protection   \n",
       "\n",
       "                      en_title_1 page_id_1  \\\n",
       "1073  Buffer overflow protection    608625   \n",
       "\n",
       "                                              en_html_1 wiki_title_1_section  \\\n",
       "1073  <!DOCTYPE html>\\n<html prefix=\"dc: http://purl...                 None   \n",
       "\n",
       "     wiki_title_2_section en_title_2 page_id_2 wiki_title_3_section  \\\n",
       "1073                 None       None      None                 None   \n",
       "\n",
       "     en_title_3 page_id_3 en_html_2 en_html_3  \\\n",
       "1073       None      None      None      None   \n",
       "\n",
       "                                                en_text  \n",
       "1073   Buffer overflow protection is any of various ...  "
      ],
      "text/html": [
       "<div>\n",
       "<style scoped>\n",
       "    .dataframe tbody tr th:only-of-type {\n",
       "        vertical-align: middle;\n",
       "    }\n",
       "\n",
       "    .dataframe tbody tr th {\n",
       "        vertical-align: top;\n",
       "    }\n",
       "\n",
       "    .dataframe thead th {\n",
       "        text-align: right;\n",
       "    }\n",
       "</style>\n",
       "<table border=\"1\" class=\"dataframe\">\n",
       "  <thead>\n",
       "    <tr style=\"text-align: right;\">\n",
       "      <th></th>\n",
       "      <th>id</th>\n",
       "      <th>level</th>\n",
       "      <th>display_name</th>\n",
       "      <th>normalized_name</th>\n",
       "      <th>en_title_1</th>\n",
       "      <th>page_id_1</th>\n",
       "      <th>en_html_1</th>\n",
       "      <th>wiki_title_1_section</th>\n",
       "      <th>wiki_title_2_section</th>\n",
       "      <th>en_title_2</th>\n",
       "      <th>page_id_2</th>\n",
       "      <th>wiki_title_3_section</th>\n",
       "      <th>en_title_3</th>\n",
       "      <th>page_id_3</th>\n",
       "      <th>en_html_2</th>\n",
       "      <th>en_html_3</th>\n",
       "      <th>en_text</th>\n",
       "    </tr>\n",
       "  </thead>\n",
       "  <tbody>\n",
       "    <tr>\n",
       "      <th>1073</th>\n",
       "      <td>1074</td>\n",
       "      <td>3</td>\n",
       "      <td>Buffer Overflow Protection</td>\n",
       "      <td>buffer overflow protection</td>\n",
       "      <td>Buffer overflow protection</td>\n",
       "      <td>608625</td>\n",
       "      <td>&lt;!DOCTYPE html&gt;\\n&lt;html prefix=\"dc: http://purl...</td>\n",
       "      <td>None</td>\n",
       "      <td>None</td>\n",
       "      <td>None</td>\n",
       "      <td>None</td>\n",
       "      <td>None</td>\n",
       "      <td>None</td>\n",
       "      <td>None</td>\n",
       "      <td>None</td>\n",
       "      <td>None</td>\n",
       "      <td>Buffer overflow protection is any of various ...</td>\n",
       "    </tr>\n",
       "  </tbody>\n",
       "</table>\n",
       "</div>"
      ]
     },
     "execution_count": 402,
     "metadata": {},
     "output_type": "execute_result"
    }
   ],
   "execution_count": 402
  },
  {
   "metadata": {
    "ExecuteTime": {
     "end_time": "2024-11-29T17:52:32.149619Z",
     "start_time": "2024-11-29T17:52:32.141891Z"
    }
   },
   "cell_type": "code",
   "source": "meta.loc[meta['name'].str.contains('Buffer')]",
   "id": "bd4f53ae64cee892",
   "outputs": [
    {
     "data": {
      "text/plain": [
       "                            name  level\n",
       "1037     Buffer Overflow Attacks      3\n",
       "1065  Buffer Overflow Protection      3"
      ],
      "text/html": [
       "<div>\n",
       "<style scoped>\n",
       "    .dataframe tbody tr th:only-of-type {\n",
       "        vertical-align: middle;\n",
       "    }\n",
       "\n",
       "    .dataframe tbody tr th {\n",
       "        vertical-align: top;\n",
       "    }\n",
       "\n",
       "    .dataframe thead th {\n",
       "        text-align: right;\n",
       "    }\n",
       "</style>\n",
       "<table border=\"1\" class=\"dataframe\">\n",
       "  <thead>\n",
       "    <tr style=\"text-align: right;\">\n",
       "      <th></th>\n",
       "      <th>name</th>\n",
       "      <th>level</th>\n",
       "    </tr>\n",
       "  </thead>\n",
       "  <tbody>\n",
       "    <tr>\n",
       "      <th>1037</th>\n",
       "      <td>Buffer Overflow Attacks</td>\n",
       "      <td>3</td>\n",
       "    </tr>\n",
       "    <tr>\n",
       "      <th>1065</th>\n",
       "      <td>Buffer Overflow Protection</td>\n",
       "      <td>3</td>\n",
       "    </tr>\n",
       "  </tbody>\n",
       "</table>\n",
       "</div>"
      ]
     },
     "execution_count": 404,
     "metadata": {},
     "output_type": "execute_result"
    }
   ],
   "execution_count": 404
  },
  {
   "metadata": {
    "ExecuteTime": {
     "end_time": "2024-11-29T17:53:10.381420Z",
     "start_time": "2024-11-29T17:53:10.339789Z"
    }
   },
   "cell_type": "code",
   "source": "meta = meta.loc[meta['name'] != 'Buffer Overflow Attacks']",
   "id": "46bf628730e6ee4c",
   "outputs": [],
   "execution_count": 406
  },
  {
   "metadata": {
    "ExecuteTime": {
     "end_time": "2024-11-29T17:53:27.205844Z",
     "start_time": "2024-11-29T17:53:27.182318Z"
    }
   },
   "cell_type": "code",
   "source": "children.loc[children['child_name'].str.contains('Buffer')]",
   "id": "3fc1f96d7bd132f8",
   "outputs": [
    {
     "data": {
      "text/plain": [
       "            parent_name                  child_name\n",
       "1125  Computer Security     Buffer Overflow Attacks\n",
       "1153  Computer Security  Buffer Overflow Protection"
      ],
      "text/html": [
       "<div>\n",
       "<style scoped>\n",
       "    .dataframe tbody tr th:only-of-type {\n",
       "        vertical-align: middle;\n",
       "    }\n",
       "\n",
       "    .dataframe tbody tr th {\n",
       "        vertical-align: top;\n",
       "    }\n",
       "\n",
       "    .dataframe thead th {\n",
       "        text-align: right;\n",
       "    }\n",
       "</style>\n",
       "<table border=\"1\" class=\"dataframe\">\n",
       "  <thead>\n",
       "    <tr style=\"text-align: right;\">\n",
       "      <th></th>\n",
       "      <th>parent_name</th>\n",
       "      <th>child_name</th>\n",
       "    </tr>\n",
       "  </thead>\n",
       "  <tbody>\n",
       "    <tr>\n",
       "      <th>1125</th>\n",
       "      <td>Computer Security</td>\n",
       "      <td>Buffer Overflow Attacks</td>\n",
       "    </tr>\n",
       "    <tr>\n",
       "      <th>1153</th>\n",
       "      <td>Computer Security</td>\n",
       "      <td>Buffer Overflow Protection</td>\n",
       "    </tr>\n",
       "  </tbody>\n",
       "</table>\n",
       "</div>"
      ]
     },
     "execution_count": 407,
     "metadata": {},
     "output_type": "execute_result"
    }
   ],
   "execution_count": 407
  },
  {
   "metadata": {
    "ExecuteTime": {
     "end_time": "2024-11-29T17:53:43.347136Z",
     "start_time": "2024-11-29T17:53:43.318965Z"
    }
   },
   "cell_type": "code",
   "source": "children = children.loc[children['child_name'] != 'Buffer Overflow Attacks']",
   "id": "63b06225b8bf8b4f",
   "outputs": [],
   "execution_count": 409
  },
  {
   "metadata": {
    "ExecuteTime": {
     "end_time": "2024-11-29T17:54:01.402191Z",
     "start_time": "2024-11-29T17:54:01.379067Z"
    }
   },
   "cell_type": "code",
   "source": [
    "test_meta(meta)\n",
    "test_children(children)\n",
    "test_children_in_meta(meta, children)\n",
    "test_meta_in_children(meta, children)"
   ],
   "id": "4e5883baac069d9f",
   "outputs": [],
   "execution_count": 410
  },
  {
   "metadata": {
    "ExecuteTime": {
     "end_time": "2024-11-29T17:54:04.019735Z",
     "start_time": "2024-11-29T17:54:04.013397Z"
    }
   },
   "cell_type": "code",
   "source": [
    "def test_meta_in_db(meta, db):\n",
    "    assert meta['name'].isin(db['display_name']).all()\n",
    "    assert db['display_name'].isin(meta['name']).all()\n",
    "\n",
    "test_meta_in_db(meta, db)"
   ],
   "id": "c42289971240f956",
   "outputs": [],
   "execution_count": 411
  },
  {
   "metadata": {
    "ExecuteTime": {
     "end_time": "2024-11-29T17:54:10.914669Z",
     "start_time": "2024-11-29T17:54:10.904513Z"
    }
   },
   "cell_type": "code",
   "source": [
    "meta.to_json(ASSETS_DIR / \"fields/field_meta.jsonl\", orient='records', lines=True)\n",
    "children.to_json(ASSETS_DIR / \"fields/field_children.jsonl\", orient='records', lines=True)"
   ],
   "id": "c260a986831a2d45",
   "outputs": [],
   "execution_count": 412
  },
  {
   "metadata": {},
   "cell_type": "code",
   "outputs": [],
   "execution_count": null,
   "source": "",
   "id": "97c2e3eab59c6877"
  }
 ],
 "metadata": {
  "kernelspec": {
   "display_name": "Python 3",
   "language": "python",
   "name": "python3"
  },
  "language_info": {
   "codemirror_mode": {
    "name": "ipython",
    "version": 2
   },
   "file_extension": ".py",
   "mimetype": "text/x-python",
   "name": "python",
   "nbconvert_exporter": "python",
   "pygments_lexer": "ipython2",
   "version": "2.7.6"
  }
 },
 "nbformat": 4,
 "nbformat_minor": 5
}
